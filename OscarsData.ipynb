{
 "cells": [
  {
   "cell_type": "code",
   "execution_count": 25,
   "metadata": {
    "collapsed": true
   },
   "outputs": [],
   "source": [
    "import requests\n",
    "from bs4 import BeautifulSoup\n",
    "import pickle\n",
    "import time\n",
    "from collections import defaultdict\n",
    "import re\n",
    "import os"
   ]
  },
  {
   "cell_type": "code",
   "execution_count": 26,
   "metadata": {
    "collapsed": true
   },
   "outputs": [],
   "source": [
    "os.getcwd()\n",
    "os.chdir('/Users/ItelinaMa/Documents/Metis/Luther')"
   ]
  },
  {
   "cell_type": "code",
   "execution_count": 98,
   "metadata": {
    "collapsed": false
   },
   "outputs": [],
   "source": [
    "def getLinks():\n",
    "    links = []\n",
    "    for i in range(2001, 2015):\n",
    "        url = 'http://www.boxofficemojo.com/oscar/chart/?yr='+str(i)+'&view=allcategories&p=.htm'\n",
    "        links.append(url)\n",
    "    return links"
   ]
  },
  {
   "cell_type": "code",
   "execution_count": 262,
   "metadata": {
    "collapsed": false
   },
   "outputs": [],
   "source": [
    "links = getLinks()"
   ]
  },
  {
   "cell_type": "code",
   "execution_count": 279,
   "metadata": {
    "collapsed": false
   },
   "outputs": [],
   "source": [
    "def getBestPicture(links=links):\n",
    "    bestpicture = defaultdict(list)\n",
    "    for link in links:\n",
    "        date = link[45:49]\n",
    "        response = requests.get(link)\n",
    "        while response.status_code != 200:\n",
    "            time.sleep(2)\n",
    "            response = requests.get(link)\n",
    "        soup = BeautifulSoup(response.text)  \n",
    "        for siblings in soup.table.next_sibling.next_sibling.table.tr.next_siblings:\n",
    "            bestpicture[date].append(siblings.b.text.encode('ascii','ignore'))\n",
    "        bestpicture[date] = bestpicture[date][:-2]\n",
    "    return bestpicture"
   ]
  },
  {
   "cell_type": "code",
   "execution_count": 280,
   "metadata": {
    "collapsed": false
   },
   "outputs": [],
   "source": [
    "bestpicture = getBestPicture()"
   ]
  },
  {
   "cell_type": "code",
   "execution_count": 283,
   "metadata": {
    "collapsed": false
   },
   "outputs": [],
   "source": [
    "def getBestDirector(links=links):\n",
    "    bestdirector = defaultdict(list)\n",
    "    for link in links:\n",
    "        date = link[45:49]\n",
    "        response = requests.get(link)\n",
    "        while response.status_code != 200:\n",
    "            time.sleep(2)\n",
    "            response = requests.get(link)\n",
    "        soup = BeautifulSoup(response.text)  \n",
    "        for items in soup.find_all('table')[3].find_all('tr')[1:-2]:\n",
    "            bestdirector[date].append(items.find_all('td')[1].text.encode('ascii','ignore'))\n",
    "    return bestdirector"
   ]
  },
  {
   "cell_type": "code",
   "execution_count": 284,
   "metadata": {
    "collapsed": false
   },
   "outputs": [],
   "source": [
    "bestdirector = getBestDirector()"
   ]
  },
  {
   "cell_type": "code",
   "execution_count": 293,
   "metadata": {
    "collapsed": true
   },
   "outputs": [],
   "source": [
    "def getBestActor(links=links):\n",
    "    bestactor = defaultdict(list)\n",
    "    for link in links:\n",
    "        date = link[45:49]\n",
    "        response = requests.get(link)\n",
    "        while response.status_code != 200:\n",
    "            time.sleep(2)\n",
    "            response = requests.get(link)\n",
    "        soup = BeautifulSoup(response.text)  \n",
    "        for items in soup.find_all('table')[4].find_all('tr')[1:-2]:\n",
    "            bestactor[date].append(items.find_all('td')[1].text.encode('ascii','ignore'))\n",
    "    return bestactor"
   ]
  },
  {
   "cell_type": "code",
   "execution_count": 294,
   "metadata": {
    "collapsed": false
   },
   "outputs": [],
   "source": [
    "bestactor = getBestActor()"
   ]
  },
  {
   "cell_type": "code",
   "execution_count": 298,
   "metadata": {
    "collapsed": true
   },
   "outputs": [],
   "source": [
    "def getBestActress(links=links):\n",
    "    bestactress = defaultdict(list)\n",
    "    for link in links:\n",
    "        date = link[45:49]\n",
    "        response = requests.get(link)\n",
    "        while response.status_code != 200:\n",
    "            time.sleep(2)\n",
    "            response = requests.get(link)\n",
    "        soup = BeautifulSoup(response.text)  \n",
    "        for items in soup.find_all('table')[5].find_all('tr')[1:-2]:\n",
    "            bestactress[date].append(items.find_all('td')[1].text.encode('ascii','ignore'))\n",
    "    return bestactress"
   ]
  },
  {
   "cell_type": "code",
   "execution_count": 299,
   "metadata": {
    "collapsed": true
   },
   "outputs": [],
   "source": [
    "bestactress = getBestActress()"
   ]
  },
  {
   "cell_type": "code",
   "execution_count": 303,
   "metadata": {
    "collapsed": true
   },
   "outputs": [],
   "source": [
    "with open('bestpicture.pkl', 'w') as picklefile:\n",
    "    pickle.dump(bestpicture, picklefile)"
   ]
  },
  {
   "cell_type": "code",
   "execution_count": 304,
   "metadata": {
    "collapsed": true
   },
   "outputs": [],
   "source": [
    "with open('bestdirector.pkl', 'w') as picklefile:\n",
    "    pickle.dump(bestdirector, picklefile)"
   ]
  },
  {
   "cell_type": "code",
   "execution_count": 305,
   "metadata": {
    "collapsed": true
   },
   "outputs": [],
   "source": [
    "with open('bestactor.pkl', 'w') as picklefile:\n",
    "    pickle.dump(bestactor, picklefile)"
   ]
  },
  {
   "cell_type": "code",
   "execution_count": 306,
   "metadata": {
    "collapsed": true
   },
   "outputs": [],
   "source": [
    "with open('bestactress.pkl', 'w') as picklefile:\n",
    "    pickle.dump(bestactress, picklefile)"
   ]
  }
 ],
 "metadata": {
  "kernelspec": {
   "display_name": "Python 2",
   "language": "python",
   "name": "python2"
  },
  "language_info": {
   "codemirror_mode": {
    "name": "ipython",
    "version": 2
   },
   "file_extension": ".py",
   "mimetype": "text/x-python",
   "name": "python",
   "nbconvert_exporter": "python",
   "pygments_lexer": "ipython2",
   "version": "2.7.10"
  }
 },
 "nbformat": 4,
 "nbformat_minor": 0
}
