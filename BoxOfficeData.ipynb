{
 "cells": [
  {
   "cell_type": "markdown",
   "metadata": {},
   "source": [
    "### Reading in movie box office data from boxofficemojo"
   ]
  },
  {
   "cell_type": "code",
   "execution_count": 1,
   "metadata": {
    "collapsed": true
   },
   "outputs": [],
   "source": [
    "import requests\n",
    "from bs4 import BeautifulSoup\n",
    "import pickle\n",
    "import time"
   ]
  },
  {
   "cell_type": "code",
   "execution_count": 2,
   "metadata": {
    "collapsed": false
   },
   "outputs": [],
   "source": [
    "import os\n",
    "os.getcwd()\n",
    "os.chdir('/Users/ItelinaMa/Documents/Metis/Luther')"
   ]
  },
  {
   "cell_type": "code",
   "execution_count": 10,
   "metadata": {
    "collapsed": false
   },
   "outputs": [],
   "source": [
    "urllist = ['http://www.boxofficemojo.com/daily/?view=bymovie&yr=2015&page=1&sort=title&order=ASC&p=.htm', 'http://www.boxofficemojo.com/daily/?view=bymovie&yr=2015&page=2&sort=title&order=ASC&p=.htm', 'http://www.boxofficemojo.com/daily/?view=bymovie&yr=2014&sort=title&order=ASC&p=.htm', 'http://www.boxofficemojo.com/daily/?view=bymovie&yr=2014&page=2&sort=title&order=ASC&p=.htm', 'http://www.boxofficemojo.com/daily/?view=bymovie&yr=2014&page=3&sort=title&order=ASC&p=.htm', 'http://www.boxofficemojo.com/daily/?view=bymovie&yr=2013&p=.htm', 'http://www.boxofficemojo.com/daily/?view=bymovie&yr=2013&page=2&sort=title&order=ASC&p=.htm', 'http://www.boxofficemojo.com/daily/?view=bymovie&yr=2013&page=3&sort=title&order=ASC&p=.htm','http://www.boxofficemojo.com/daily/?view=bymovie&yr=2012&p=.htm', 'http://www.boxofficemojo.com/daily/?view=bymovie&yr=2012&page=2&sort=title&order=ASC&p=.htm', 'http://www.boxofficemojo.com/daily/?view=bymovie&yr=2012&page=3&sort=title&order=ASC&p=.htm', 'http://www.boxofficemojo.com/daily/?view=bymovie&yr=2011&sort=title&order=ASC&p=.htm', 'http://www.boxofficemojo.com/daily/?view=bymovie&yr=2011&page=2&sort=title&order=ASC&p=.htm', 'http://www.boxofficemojo.com/daily/?view=bymovie&yr=2011&page=3&sort=title&order=ASC&p=.htm', 'http://www.boxofficemojo.com/daily/?view=bymovie&yr=2010&sort=title&order=ASC&p=.htm', 'http://www.boxofficemojo.com/daily/?view=bymovie&yr=2010&page=2&sort=title&order=ASC&p=.htm', 'http://www.boxofficemojo.com/daily/?view=bymovie&yr=2010&page=3&sort=title&order=ASC&p=.htm']"
   ]
  },
  {
   "cell_type": "code",
   "execution_count": 11,
   "metadata": {
    "collapsed": true
   },
   "outputs": [],
   "source": [
    "def returnSoup(urllist):\n",
    "    soups = []\n",
    "    for url in urllist:\n",
    "        response = requests.get(url)\n",
    "        while response.status_code != 200:\n",
    "            time.sleep(2)\n",
    "            response = requests.get(url)\n",
    "        print response.status_code #Remember to come back later and write a function that tells this to repeat if one of the status codes returns negative\n",
    "        soup = BeautifulSoup(response.text)\n",
    "        soups.append(soup)\n",
    "    return soups"
   ]
  },
  {
   "cell_type": "code",
   "execution_count": 12,
   "metadata": {
    "collapsed": false
   },
   "outputs": [
    {
     "name": "stdout",
     "output_type": "stream",
     "text": [
      "200\n",
      "200\n",
      "200\n",
      "200\n",
      "200\n",
      "200\n",
      "200\n",
      "200\n",
      "200\n",
      "200\n",
      "200\n",
      "200\n",
      "200\n",
      "200\n",
      "200\n",
      "200\n",
      "200\n"
     ]
    }
   ],
   "source": [
    "soups = returnSoup(urllist)"
   ]
  },
  {
   "cell_type": "code",
   "execution_count": 13,
   "metadata": {
    "collapsed": true
   },
   "outputs": [],
   "source": [
    "def makeData(soups):\n",
    "    releasegross = []\n",
    "    movienames = []\n",
    "    releasedate =[]\n",
    "    studio = []\n",
    "    for soup in soups:\n",
    "        tablelength = len(soup.find_all('table')[1].find_all('tr'))\n",
    "        for i in range(2, tablelength):\n",
    "            releasegross.append(soup.find_all('table')[1].find_all('tr')[i].find_all('td')[3].text)\n",
    "            movienames.append(soup.find_all('table')[1].find_all('tr')[i].find_all('td')[0].text)\n",
    "            releasedate.append(soup.find_all('table')[1].find_all('tr')[i].find_all('td')[4].text)\n",
    "            studio.append(soup.find_all('table')[1].find_all('tr')[i].find_all('td')[1].text)\n",
    "    boxoffice ={}\n",
    "    for i, item in enumerate(movienames):\n",
    "        boxoffice[item] = zip(studio, releasegross, releasedate)[i]\n",
    "    return boxoffice"
   ]
  },
  {
   "cell_type": "code",
   "execution_count": 14,
   "metadata": {
    "collapsed": false
   },
   "outputs": [],
   "source": [
    "boxoffice = makeData(soups)"
   ]
  },
  {
   "cell_type": "code",
   "execution_count": 15,
   "metadata": {
    "collapsed": false
   },
   "outputs": [
    {
     "data": {
      "text/plain": [
       "1520"
      ]
     },
     "execution_count": 15,
     "metadata": {},
     "output_type": "execute_result"
    }
   ],
   "source": [
    "len(boxoffice)"
   ]
  },
  {
   "cell_type": "code",
   "execution_count": 16,
   "metadata": {
    "collapsed": true
   },
   "outputs": [],
   "source": [
    "with open('boxofficedata.pkl', 'w') as picklefile:\n",
    "    pickle.dump(boxoffice, picklefile)"
   ]
  }
 ],
 "metadata": {
  "kernelspec": {
   "display_name": "Python 2",
   "language": "python",
   "name": "python2"
  },
  "language_info": {
   "codemirror_mode": {
    "name": "ipython",
    "version": 2
   },
   "file_extension": ".py",
   "mimetype": "text/x-python",
   "name": "python",
   "nbconvert_exporter": "python",
   "pygments_lexer": "ipython2",
   "version": "2.7.10"
  }
 },
 "nbformat": 4,
 "nbformat_minor": 0
}
