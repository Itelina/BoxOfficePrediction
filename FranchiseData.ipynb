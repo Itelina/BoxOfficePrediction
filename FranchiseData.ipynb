{
 "cells": [
  {
   "cell_type": "markdown",
   "metadata": {},
   "source": [
    "###Getting Movie Franchise Information"
   ]
  },
  {
   "cell_type": "code",
   "execution_count": 74,
   "metadata": {
    "collapsed": true
   },
   "outputs": [],
   "source": [
    "import requests\n",
    "from bs4 import BeautifulSoup\n",
    "import pickle\n",
    "import time\n",
    "from collections import defaultdict"
   ]
  },
  {
   "cell_type": "code",
   "execution_count": 2,
   "metadata": {
    "collapsed": true
   },
   "outputs": [],
   "source": [
    "import os\n",
    "os.getcwd()\n",
    "os.chdir('/Users/ItelinaMa/Documents/Metis/Luther')"
   ]
  },
  {
   "cell_type": "code",
   "execution_count": 110,
   "metadata": {
    "collapsed": true
   },
   "outputs": [],
   "source": [
    "urls = ['http://www.boxofficemojo.com/franchises/?view=Brand&p=.htm', 'http://www.boxofficemojo.com/franchises/?view=Franchise&p=.htm']"
   ]
  },
  {
   "cell_type": "code",
   "execution_count": 111,
   "metadata": {
    "collapsed": false
   },
   "outputs": [],
   "source": [
    "def getSoups(urls):\n",
    "    soups = []\n",
    "    for url in urls:\n",
    "        response = requests.get(url)\n",
    "        soup = BeautifulSoup(response.text)\n",
    "        soups.append(soup)\n",
    "    return soups"
   ]
  },
  {
   "cell_type": "code",
   "execution_count": 113,
   "metadata": {
    "collapsed": true
   },
   "outputs": [],
   "source": [
    "soups = getSoups(urls)"
   ]
  },
  {
   "cell_type": "markdown",
   "metadata": {},
   "source": [
    "#####Get brands and corresponding links"
   ]
  },
  {
   "cell_type": "code",
   "execution_count": 138,
   "metadata": {
    "collapsed": false
   },
   "outputs": [],
   "source": [
    "def getLinks(soup):\n",
    "    links =[]\n",
    "    brands = []\n",
    "    for i in range(2, len(soup.find_all('table')[2].find_all('tr'))):\n",
    "        link = soup.find_all('table')[2].find_all('tr')[i].find_all('a')[0]['href']\n",
    "        newlink = 'http://www.boxofficemojo.com/franchises' + link.replace('.', '', 1)\n",
    "        links.append(newlink)\n",
    "        brands.append(soup.find_all('table')[2].find_all('tr')[i].find_all('a')[0].text)\n",
    "    return links, brands"
   ]
  },
  {
   "cell_type": "code",
   "execution_count": 140,
   "metadata": {
    "collapsed": false
   },
   "outputs": [
    {
     "data": {
      "text/plain": [
       "('http://www.boxofficemojo.com/franchises/chart/?id=disneyanimation.htm',\n",
       " u'Walt Disney Animation Studios')"
      ]
     },
     "execution_count": 140,
     "metadata": {},
     "output_type": "execute_result"
    }
   ],
   "source": [
    "linksB, brands = getLinks(soups[0])\n",
    "linksB[-1], brands[-1]"
   ]
  },
  {
   "cell_type": "code",
   "execution_count": 141,
   "metadata": {
    "collapsed": false
   },
   "outputs": [
    {
     "data": {
      "text/plain": [
       "('http://www.boxofficemojo.com/franchises/chart/?id=xmen.htm', u'X-Men')"
      ]
     },
     "execution_count": 141,
     "metadata": {},
     "output_type": "execute_result"
    }
   ],
   "source": [
    "linksS, series = getLinks(soups[1])\n",
    "linksS[-1], series[-1]"
   ]
  },
  {
   "cell_type": "code",
   "execution_count": 142,
   "metadata": {
    "collapsed": false
   },
   "outputs": [],
   "source": [
    "def getFranchise(franchise=brands, links=linksB):\n",
    "    Franchise = defaultdict(list)\n",
    "    for i, item in enumerate(franchise):\n",
    "        url = links[i]\n",
    "        response = requests.get(url)\n",
    "        while response.status_code != 200:\n",
    "            time.sleep(2)\n",
    "            response = requests.get(url)\n",
    "        soup = BeautifulSoup(response.text)\n",
    "        movies = []\n",
    "        for i in range(1, len(soup.find_all('table')[3].find_all('table')[0].find_all('tr'))-2):\n",
    "            movies.append(soup.find_all('table')[3].find_all('table')[0].find_all('tr')[i].find_all('td')[1].text)\n",
    "        Franchise[item] = movies\n",
    "    return Franchise"
   ]
  },
  {
   "cell_type": "code",
   "execution_count": 143,
   "metadata": {
    "collapsed": false
   },
   "outputs": [],
   "source": [
    "franchiseBrands = getFranchise(brands,linksB)"
   ]
  },
  {
   "cell_type": "code",
   "execution_count": 145,
   "metadata": {
    "collapsed": false
   },
   "outputs": [
    {
     "data": {
      "text/plain": [
       "33"
      ]
     },
     "execution_count": 145,
     "metadata": {},
     "output_type": "execute_result"
    }
   ],
   "source": [
    "len(franchiseBrands)"
   ]
  },
  {
   "cell_type": "code",
   "execution_count": 144,
   "metadata": {
    "collapsed": true
   },
   "outputs": [],
   "source": [
    "franchiseSeries = getFranchise(series,linksS)"
   ]
  },
  {
   "cell_type": "code",
   "execution_count": 146,
   "metadata": {
    "collapsed": false
   },
   "outputs": [
    {
     "data": {
      "text/plain": [
       "153"
      ]
     },
     "execution_count": 146,
     "metadata": {},
     "output_type": "execute_result"
    }
   ],
   "source": [
    "len(franchiseSeries)"
   ]
  },
  {
   "cell_type": "code",
   "execution_count": 147,
   "metadata": {
    "collapsed": true
   },
   "outputs": [],
   "source": [
    "with open('franchiseBrands.pkl', 'w') as picklefile:\n",
    "    pickle.dump(franchiseBrands, picklefile)"
   ]
  },
  {
   "cell_type": "code",
   "execution_count": 148,
   "metadata": {
    "collapsed": true
   },
   "outputs": [],
   "source": [
    "with open('franchiseSeries.pkl', 'w') as picklefile:\n",
    "    pickle.dump(franchiseSeries, picklefile)"
   ]
  }
 ],
 "metadata": {
  "kernelspec": {
   "display_name": "Python 2",
   "language": "python",
   "name": "python2"
  },
  "language_info": {
   "codemirror_mode": {
    "name": "ipython",
    "version": 2
   },
   "file_extension": ".py",
   "mimetype": "text/x-python",
   "name": "python",
   "nbconvert_exporter": "python",
   "pygments_lexer": "ipython2",
   "version": "2.7.10"
  }
 },
 "nbformat": 4,
 "nbformat_minor": 0
}
