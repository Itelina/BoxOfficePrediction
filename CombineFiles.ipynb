{
 "cells": [
  {
   "cell_type": "markdown",
   "metadata": {},
   "source": [
    "##Combine all data files into dataframes"
   ]
  },
  {
   "cell_type": "code",
   "execution_count": 716,
   "metadata": {
    "collapsed": true
   },
   "outputs": [],
   "source": [
    "import pickle\n",
    "import pandas as pd\n",
    "import numpy as np\n",
    "from collections import defaultdict\n",
    "import matplotlib\n",
    "import matplotlib.pyplot as plt"
   ]
  },
  {
   "cell_type": "code",
   "execution_count": 717,
   "metadata": {
    "collapsed": false
   },
   "outputs": [],
   "source": [
    "datafiles = ['boxofficedata.pkl','franchiseBrands.pkl','franchiseSeries.pkl','screens.pkl','bestpicture.pkl','bestdirector.pkl','bestactor.pkl','bestactress.pkl','director.pkl','cast.pkl','runtime.pkl', 'genre.pkl', 'budget.pkl', 'budget2.pkl']\n",
    "datasets = []\n",
    "for datafile in datafiles:\n",
    "     with open(datafile, 'r') as picklefile: \n",
    "            datafile = pickle.load(picklefile)\n",
    "            datasets.append(datafile)"
   ]
  },
  {
   "cell_type": "markdown",
   "metadata": {},
   "source": [
    "####Self-Defined Functions"
   ]
  },
  {
   "cell_type": "code",
   "execution_count": 718,
   "metadata": {
    "collapsed": false
   },
   "outputs": [],
   "source": [
    "import re\n",
    "def cleanNumber(moneystring):\n",
    "    if moneystring == 'N/A' or moneystring == 'NA' or not moneystring:\n",
    "        return None\n",
    "    else:\n",
    "        moneystring = str(moneystring)\n",
    "        moneystring = re.sub(\"[^0-9]\", \"\", moneystring)\n",
    "        return np.int_(moneystring)"
   ]
  },
  {
   "cell_type": "code",
   "execution_count": 719,
   "metadata": {
    "collapsed": false
   },
   "outputs": [],
   "source": [
    "def cleanMillion(value):\n",
    "    if value is None or value == 'NA' or value == 'N/A':\n",
    "        return None\n",
    "    elif value is not None and not 'million' in value:\n",
    "        value = str(value)\n",
    "        value = re.sub(\"[^0-9|^\\.]\", \"\", value)\n",
    "        value = np.int_(float(value))\n",
    "        return value\n",
    "    else:\n",
    "        value = str(value)\n",
    "        value = re.sub(\"[^0-9|^\\.]\", \"\", value)\n",
    "        value = np.int_(float(value)*1000000)\n",
    "        return value"
   ]
  },
  {
   "cell_type": "code",
   "execution_count": 720,
   "metadata": {
    "collapsed": false
   },
   "outputs": [],
   "source": [
    "def stateColnames(dataframe=None, beginning=None):\n",
    "    '''This function takes in a dataframe and create an indexed list of column names'''\n",
    "    colnames = []\n",
    "    for i in range(dataframe.shape[1]):\n",
    "        name = beginning + str(i)\n",
    "        colnames.append(name)\n",
    "    return colnames"
   ]
  },
  {
   "cell_type": "code",
   "execution_count": 721,
   "metadata": {
    "collapsed": false
   },
   "outputs": [],
   "source": [
    "def cleanNames(dinput=None):\n",
    "    nlist = []\n",
    "    for item in cast:\n",
    "        if item == 'N/A' or item == 'NA':\n",
    "            nlist.append([])\n",
    "        else:\n",
    "            nlist.append(item)\n",
    "    newcast = pd.DataFrame(data=nlist)\n",
    "    return newcast"
   ]
  },
  {
   "cell_type": "code",
   "execution_count": 722,
   "metadata": {
    "collapsed": false
   },
   "outputs": [],
   "source": [
    "def compareLists(input1=None, input2=None):\n",
    "    matched = []\n",
    "    notmatched = []\n",
    "    for item in input1:\n",
    "        if item in input2:\n",
    "            matched.append(item)\n",
    "        elif item not in input2:\n",
    "            notmatched.append(item)\n",
    "    return matched, notmatched"
   ]
  },
  {
   "cell_type": "code",
   "execution_count": 723,
   "metadata": {
    "collapsed": false
   },
   "outputs": [],
   "source": [
    "def cleanValues(dictionary=None):\n",
    "    '''This function cleans up the dictionary values (e.g. changing N/A into [N/A])'''\n",
    "    newruntime = defaultdict()\n",
    "    for key in dictionary.keys():\n",
    "        if dictionary[key] == 'N/A':\n",
    "            newruntime[key] = ['N/A']\n",
    "        else:\n",
    "            newruntime[key] = dictionary[key]\n",
    "    return newruntime"
   ]
  },
  {
   "cell_type": "markdown",
   "metadata": {},
   "source": [
    "####Read in boxoffice and screens data"
   ]
  },
  {
   "cell_type": "code",
   "execution_count": 724,
   "metadata": {
    "collapsed": false
   },
   "outputs": [
    {
     "data": {
      "text/plain": [
       "(0, 3, 8)"
      ]
     },
     "execution_count": 724,
     "metadata": {},
     "output_type": "execute_result"
    }
   ],
   "source": [
    "datafiles.index('boxofficedata.pkl'), datafiles.index('screens.pkl'), datafiles.index('director.pkl')"
   ]
  },
  {
   "cell_type": "code",
   "execution_count": 725,
   "metadata": {
    "collapsed": false
   },
   "outputs": [],
   "source": [
    "boxoffice = pd.DataFrame.from_dict(data = datasets[0], orient='index', dtype=None)\n",
    "boxoffice.columns = ['Studio', 'BoxOfficeGross', 'ReleaseDate']"
   ]
  },
  {
   "cell_type": "code",
   "execution_count": 726,
   "metadata": {
    "collapsed": false
   },
   "outputs": [],
   "source": [
    "boxoffice['BoxOfficeGross'] = boxoffice['BoxOfficeGross'].apply(cleanNumber)"
   ]
  },
  {
   "cell_type": "code",
   "execution_count": 727,
   "metadata": {
    "collapsed": false
   },
   "outputs": [
    {
     "data": {
      "text/plain": [
       "(1520, 3)"
      ]
     },
     "execution_count": 727,
     "metadata": {},
     "output_type": "execute_result"
    }
   ],
   "source": [
    "boxoffice.shape"
   ]
  },
  {
   "cell_type": "code",
   "execution_count": 728,
   "metadata": {
    "collapsed": false
   },
   "outputs": [],
   "source": [
    "screens = pd.DataFrame.from_dict(data = datasets[3], orient='index', dtype=None)\n",
    "screens.columns = ['Screens']\n",
    "screens['Screens'] = screens['Screens'].apply(cleanNumber)"
   ]
  },
  {
   "cell_type": "code",
   "execution_count": 729,
   "metadata": {
    "collapsed": false
   },
   "outputs": [
    {
     "data": {
      "text/plain": [
       "(1520, 1)"
      ]
     },
     "execution_count": 729,
     "metadata": {},
     "output_type": "execute_result"
    }
   ],
   "source": [
    "screens.shape"
   ]
  },
  {
   "cell_type": "markdown",
   "metadata": {},
   "source": [
    "####Read in movie genre information"
   ]
  },
  {
   "cell_type": "code",
   "execution_count": 730,
   "metadata": {
    "collapsed": false
   },
   "outputs": [
    {
     "data": {
      "text/plain": [
       "11"
      ]
     },
     "execution_count": 730,
     "metadata": {},
     "output_type": "execute_result"
    }
   ],
   "source": [
    "datafiles.index('genre.pkl')"
   ]
  },
  {
   "cell_type": "code",
   "execution_count": 731,
   "metadata": {
    "collapsed": false
   },
   "outputs": [
    {
     "name": "stdout",
     "output_type": "stream",
     "text": [
      "(1520, 7)\n"
     ]
    }
   ],
   "source": [
    "genredict =  datasets[11]\n",
    "newgenre = cleanValues(dictionary=genredict)\n",
    "genre = pd.DataFrame.from_dict(data = newgenre, orient='index', dtype=None)\n",
    "genre.columns = stateColnames(dataframe=genre, beginning='Genre')\n",
    "print genre.shape"
   ]
  },
  {
   "cell_type": "markdown",
   "metadata": {},
   "source": [
    "#### Read in budget data"
   ]
  },
  {
   "cell_type": "code",
   "execution_count": 732,
   "metadata": {
    "collapsed": false
   },
   "outputs": [
    {
     "data": {
      "text/plain": [
       "12"
      ]
     },
     "execution_count": 732,
     "metadata": {},
     "output_type": "execute_result"
    }
   ],
   "source": [
    "datafiles.index('budget.pkl')"
   ]
  },
  {
   "cell_type": "code",
   "execution_count": 733,
   "metadata": {
    "collapsed": false
   },
   "outputs": [],
   "source": [
    "budgetdict =  datasets[12]\n",
    "newbudget = defaultdict()\n",
    "for key in budgetdict.keys():\n",
    "    if budgetdict[key] == 'N/A':\n",
    "        newbudget[key] = [None]\n",
    "    else:\n",
    "        newbudget[key] = [budgetdict[key]]\n",
    "budget = pd.DataFrame.from_dict(data = newbudget, orient='index', dtype=None)\n",
    "budget.columns = ['Budget']\n",
    "budget['Budget']= budget['Budget'].apply(cleanMillion)"
   ]
  },
  {
   "cell_type": "code",
   "execution_count": 734,
   "metadata": {
    "collapsed": false
   },
   "outputs": [
    {
     "name": "stdout",
     "output_type": "stream",
     "text": [
      "678\n",
      "                        Budget\n",
      "Vampires Suck         20000000\n",
      "Life of Pi           120000000\n",
      "The Crazies           20000000\n",
      "No Good Deed (2014)   13200000\n",
      "Lockout               20000000\n"
     ]
    }
   ],
   "source": [
    "budget['Budget'].fillna(-1)\n",
    "budget = budget[budget['Budget'] > 0]\n",
    "print len(budget.index)\n",
    "print budget.head(5)"
   ]
  },
  {
   "cell_type": "markdown",
   "metadata": {},
   "source": [
    "#####Getting budget information from the numbers website"
   ]
  },
  {
   "cell_type": "code",
   "execution_count": 735,
   "metadata": {
    "collapsed": false
   },
   "outputs": [
    {
     "data": {
      "text/plain": [
       "13"
      ]
     },
     "execution_count": 735,
     "metadata": {},
     "output_type": "execute_result"
    }
   ],
   "source": [
    "datafiles.index('budget2.pkl')"
   ]
  },
  {
   "cell_type": "code",
   "execution_count": 736,
   "metadata": {
    "collapsed": true
   },
   "outputs": [],
   "source": [
    "budgetdict2 =  datasets[13]\n",
    "list1 = budgetdict2.keys()\n",
    "list2 = budget.index"
   ]
  },
  {
   "cell_type": "code",
   "execution_count": 737,
   "metadata": {
    "collapsed": false
   },
   "outputs": [
    {
     "name": "stdout",
     "output_type": "stream",
     "text": [
      "541 678 4792 1520\n"
     ]
    }
   ],
   "source": [
    "matched, notmatched = compareLists(input1=list1, input2=list2)\n",
    "print len(matched), len(list2), len(list1), len(boxoffice.index)"
   ]
  },
  {
   "cell_type": "markdown",
   "metadata": {},
   "source": [
    "####Read in runtime data"
   ]
  },
  {
   "cell_type": "code",
   "execution_count": 738,
   "metadata": {
    "collapsed": false
   },
   "outputs": [],
   "source": [
    "runtimedict = datasets[10]"
   ]
  },
  {
   "cell_type": "code",
   "execution_count": 742,
   "metadata": {
    "collapsed": false
   },
   "outputs": [
    {
     "name": "stdout",
     "output_type": "stream",
     "text": [
      "(1520, 4)\n"
     ]
    }
   ],
   "source": [
    "newruntime = cleanValues(dictionary=runtimedict)   \n",
    "runtime = pd.DataFrame.from_dict(data = newruntime, orient='index', dtype=None)\n",
    "runtime.columns = ['Runtime1', 'Runtime2', 'Runtime3', 'Runtime4']\n",
    "runtime['Runtime1'] = runtime['Runtime1'].apply(cleanNumber)\n",
    "runtime['Runtime2'] = runtime['Runtime2'].apply(cleanNumber)\n",
    "runtime['Runtime3'] = runtime['Runtime3'].apply(cleanNumber)\n",
    "print runtime.shape"
   ]
  },
  {
   "cell_type": "markdown",
   "metadata": {},
   "source": [
    "####Read in and transforming franchise information"
   ]
  },
  {
   "cell_type": "code",
   "execution_count": 743,
   "metadata": {
    "collapsed": false
   },
   "outputs": [
    {
     "data": {
      "text/plain": [
       "1"
      ]
     },
     "execution_count": 743,
     "metadata": {},
     "output_type": "execute_result"
    }
   ],
   "source": [
    "datafiles.index('franchiseBrands.pkl')"
   ]
  },
  {
   "cell_type": "code",
   "execution_count": 744,
   "metadata": {
    "collapsed": false
   },
   "outputs": [],
   "source": [
    "franchiseBrandsdict = datasets[1]\n",
    "brands = {}\n",
    "for key, value in franchiseBrandsdict.iteritems():\n",
    "    for item in value:\n",
    "        brands[item] = brands.get(item, [])\n",
    "        brands[item].append(key)"
   ]
  },
  {
   "cell_type": "code",
   "execution_count": 745,
   "metadata": {
    "collapsed": false
   },
   "outputs": [],
   "source": [
    "franchiseBrands = pd.DataFrame.from_dict(data = brands, orient='index', dtype=None)\n",
    "franchiseBrands.columns = stateColnames(dataframe=franchiseBrands, beginning='Brand')"
   ]
  },
  {
   "cell_type": "code",
   "execution_count": 746,
   "metadata": {
    "collapsed": false
   },
   "outputs": [],
   "source": [
    "franchiseSeries = datasets[2]\n",
    "series = {}\n",
    "for key, value in franchiseSeries.iteritems():\n",
    "    for item in value:\n",
    "        series[item] = series.get(item, [])\n",
    "        series[item].append(key)"
   ]
  },
  {
   "cell_type": "code",
   "execution_count": 747,
   "metadata": {
    "collapsed": false
   },
   "outputs": [],
   "source": [
    "franchiseSeries = pd.DataFrame.from_dict(data = series, orient='index', dtype=None)\n",
    "franchiseSeries.columns = stateColnames(dataframe=franchiseSeries, beginning='Series')"
   ]
  },
  {
   "cell_type": "code",
   "execution_count": 748,
   "metadata": {
    "collapsed": false
   },
   "outputs": [],
   "source": [
    "franchise = pd.concat([franchiseBrands, franchiseSeries], axis = 1, join='outer')\n",
    "franchise = franchise.fillna('None')"
   ]
  },
  {
   "cell_type": "markdown",
   "metadata": {},
   "source": [
    "####Read in and transform oscars data"
   ]
  },
  {
   "cell_type": "code",
   "execution_count": 749,
   "metadata": {
    "collapsed": false
   },
   "outputs": [
    {
     "data": {
      "text/plain": [
       "(5, 6, 7)"
      ]
     },
     "execution_count": 749,
     "metadata": {},
     "output_type": "execute_result"
    }
   ],
   "source": [
    "datafiles.index('bestdirector.pkl'), datafiles.index('bestactor.pkl'), datafiles.index('bestactress.pkl')"
   ]
  },
  {
   "cell_type": "code",
   "execution_count": 750,
   "metadata": {
    "collapsed": false
   },
   "outputs": [],
   "source": [
    "bestDirectorDict = datasets[5]\n",
    "OscarNomDirectors = []\n",
    "for directors in bestDirectorDict.values():\n",
    "    for person in directors:\n",
    "        if person not in OscarNomDirectors:\n",
    "            OscarNomDirectors.append(person)"
   ]
  },
  {
   "cell_type": "code",
   "execution_count": 751,
   "metadata": {
    "collapsed": false
   },
   "outputs": [],
   "source": [
    "bestActorDict = datasets[6]\n",
    "OscarNomActors = []\n",
    "for actors in bestActorDict.values():\n",
    "    for actor in actors:\n",
    "        if actor not in OscarNomActors:\n",
    "            OscarNomActors.append(actor)"
   ]
  },
  {
   "cell_type": "code",
   "execution_count": 752,
   "metadata": {
    "collapsed": false
   },
   "outputs": [],
   "source": [
    "bestActressDict = datasets[7]\n",
    "OscarNomActress = []\n",
    "for actresses in bestActressDict.values():\n",
    "    for actress in actresses:\n",
    "        if actress not in OscarNomActress:\n",
    "            OscarNomActress.append(actress)"
   ]
  },
  {
   "cell_type": "code",
   "execution_count": 753,
   "metadata": {
    "collapsed": false
   },
   "outputs": [],
   "source": [
    "OscarNomActors.extend(OscarNomActress)"
   ]
  },
  {
   "cell_type": "markdown",
   "metadata": {},
   "source": [
    "Oscars Nominations and actors"
   ]
  },
  {
   "cell_type": "code",
   "execution_count": 754,
   "metadata": {
    "collapsed": false
   },
   "outputs": [
    {
     "data": {
      "text/plain": [
       "54382"
      ]
     },
     "execution_count": 754,
     "metadata": {},
     "output_type": "execute_result"
    }
   ],
   "source": [
    "castdict = datasets[9]\n",
    "def getAllActors(adict = castdict):\n",
    "    allactors = []\n",
    "    for values in castdict.values():\n",
    "        for item in values:\n",
    "            allactors.append(item)\n",
    "    allactors = list(set(allactors))\n",
    "    return allactors\n",
    "allactors = getAllActors()\n",
    "len(allactors)"
   ]
  },
  {
   "cell_type": "code",
   "execution_count": 755,
   "metadata": {
    "collapsed": false
   },
   "outputs": [
    {
     "name": "stdout",
     "output_type": "stream",
     "text": [
      "91 54291\n"
     ]
    }
   ],
   "source": [
    "matched, notmatched = compareLists(input1=allactors, input2=OscarNomActors)\n",
    "print len(matched), len(notmatched)"
   ]
  },
  {
   "cell_type": "code",
   "execution_count": 756,
   "metadata": {
    "collapsed": false
   },
   "outputs": [],
   "source": [
    "from difflib import SequenceMatcher\n",
    "def fuzzyMatchRatios(list1=notmatched, list2=OscarNomActors):\n",
    "    namepairs = {}\n",
    "    for items in list1:\n",
    "        for things in list2:\n",
    "            m = SequenceMatcher(None, items, things)\n",
    "            if m.ratio() > 0.8:\n",
    "                namepair = (items, things)\n",
    "                namepairs[namepair] = m.ratio()\n",
    "    return namepairs"
   ]
  },
  {
   "cell_type": "markdown",
   "metadata": {},
   "source": [
    "namepairs = fuzzyMatchRatios()"
   ]
  },
  {
   "cell_type": "markdown",
   "metadata": {},
   "source": [
    "namepairsd = pd.DataFrame.from_dict(data = namepairs, orient='index', dtype=None)\n",
    "namepairsd.columns = ['MIndex']\n",
    "namepairsd.sort(columns='MIndex', inplace=True, ascending=False)"
   ]
  },
  {
   "cell_type": "markdown",
   "metadata": {},
   "source": [
    "additionalnom = [namepairsd.index[0][0], namepairsd.index[1][0]]\n",
    "matched.extend(additionalnom)"
   ]
  },
  {
   "cell_type": "code",
   "execution_count": 759,
   "metadata": {
    "collapsed": false
   },
   "outputs": [],
   "source": [
    "oscarscastdict = defaultdict()\n",
    "for keys, values in castdict.items():\n",
    "    oscarscastdict[keys] = [0]\n",
    "    for value in values:\n",
    "        if value in matched:\n",
    "            oscarscastdict[keys][0] += 1\n",
    "for keys, values in castdict.items():\n",
    "    for value in values:\n",
    "        if value in matched:\n",
    "            oscarscastdict[keys].append(value)\n",
    "oscarscast = pd.DataFrame.from_dict(data=oscarscastdict, orient='index', dtype=None)\n",
    "#oscarscast.head(5)\n",
    "oscarscast.columns = ['OscarNomCast', 'Nom1', 'Nom2', 'Nom3', 'Nom4', 'Nom5', 'Nom6']"
   ]
  },
  {
   "cell_type": "code",
   "execution_count": 760,
   "metadata": {
    "collapsed": false,
    "scrolled": true
   },
   "outputs": [],
   "source": [
    "oscarscast2 = oscarscast.ix[:, 1:6].reset_index()\n",
    "oscarscast = oscarscast.ix[:, 0]\n",
    "oscarscast3 = pd.melt(oscarscast2, id_vars=['index'])\n",
    "oscarscast3['counts'] = 1\n",
    "oscarscast3 = oscarscast3[pd.notnull(oscarscast3['value'])]\n",
    "oscarscast3 = oscarscast3.pivot('index', 'value', 'counts')\n",
    "oscarscast3 = oscarscast3.fillna('0')\n",
    "newcolnames = []\n",
    "for item in oscarscast3.columns:\n",
    "    name = 'A:' + item\n",
    "    newcolnames.append(name)\n",
    "#print newcolnames\n",
    "oscarscast3.columns = newcolnames"
   ]
  },
  {
   "cell_type": "code",
   "execution_count": 773,
   "metadata": {
    "collapsed": false
   },
   "outputs": [],
   "source": [
    "newcastdict = cleanValues(dictionary=castdict)   \n",
    "cast = pd.DataFrame.from_dict(data = newcastdict, orient='index', dtype=None)\n",
    "cast.columns = stateColnames(dataframe=cast, beginning='Cast')"
   ]
  },
  {
   "cell_type": "markdown",
   "metadata": {},
   "source": [
    "####Read in director data and calculate oscars director variable"
   ]
  },
  {
   "cell_type": "code",
   "execution_count": 774,
   "metadata": {
    "collapsed": false
   },
   "outputs": [],
   "source": [
    "directorsdict = datasets[8]\n",
    "alldirectors = list(set(directorsdict.values()))"
   ]
  },
  {
   "cell_type": "code",
   "execution_count": 775,
   "metadata": {
    "collapsed": false
   },
   "outputs": [],
   "source": [
    "matchedD, notmatchedD = compareLists(input1=alldirectors, input2=OscarNomDirectors)\n",
    "oscarsdirdict = defaultdict()\n",
    "for keys, values in directorsdict.items():\n",
    "    if values in matchedD:\n",
    "        oscarsdirdict[keys] = [1]\n",
    "    else:\n",
    "        oscarsdirdict[keys] = [0]\n",
    "for keys, values in directorsdict.items():\n",
    "    if values in matchedD:\n",
    "        oscarsdirdict[keys].append(values)"
   ]
  },
  {
   "cell_type": "code",
   "execution_count": 776,
   "metadata": {
    "collapsed": false
   },
   "outputs": [
    {
     "data": {
      "text/html": [
       "<div>\n",
       "<table border=\"1\" class=\"dataframe\">\n",
       "  <thead>\n",
       "    <tr style=\"text-align: right;\">\n",
       "      <th></th>\n",
       "      <th>D:Alexander Payne</th>\n",
       "      <th>D:Ang Lee</th>\n",
       "      <th>D:Benh Zeitlin</th>\n",
       "      <th>D:Bennett Miller</th>\n",
       "      <th>D:Clint Eastwood</th>\n",
       "      <th>D:Danny Boyle</th>\n",
       "      <th>D:Darren Aronofsky</th>\n",
       "      <th>D:David Fincher</th>\n",
       "      <th>D:David O. Russell</th>\n",
       "      <th>D:George Clooney</th>\n",
       "      <th>...</th>\n",
       "      <th>D:Stephen Daldry</th>\n",
       "      <th>D:Stephen Frears</th>\n",
       "      <th>D:Steve McQueen</th>\n",
       "      <th>D:Steven Spielberg</th>\n",
       "      <th>D:Taylor Hackford</th>\n",
       "      <th>D:Terrence Malick</th>\n",
       "      <th>D:Tom Hooper</th>\n",
       "      <th>D:Tony Gilroy</th>\n",
       "      <th>D:Wes Anderson</th>\n",
       "      <th>D:Woody Allen</th>\n",
       "    </tr>\n",
       "    <tr>\n",
       "      <th>index</th>\n",
       "      <th></th>\n",
       "      <th></th>\n",
       "      <th></th>\n",
       "      <th></th>\n",
       "      <th></th>\n",
       "      <th></th>\n",
       "      <th></th>\n",
       "      <th></th>\n",
       "      <th></th>\n",
       "      <th></th>\n",
       "      <th></th>\n",
       "      <th></th>\n",
       "      <th></th>\n",
       "      <th></th>\n",
       "      <th></th>\n",
       "      <th></th>\n",
       "      <th></th>\n",
       "      <th></th>\n",
       "      <th></th>\n",
       "      <th></th>\n",
       "      <th></th>\n",
       "    </tr>\n",
       "  </thead>\n",
       "  <tbody>\n",
       "    <tr>\n",
       "      <th>'71</th>\n",
       "      <td>0</td>\n",
       "      <td>0</td>\n",
       "      <td>0</td>\n",
       "      <td>0</td>\n",
       "      <td>0</td>\n",
       "      <td>0</td>\n",
       "      <td>0</td>\n",
       "      <td>0</td>\n",
       "      <td>0</td>\n",
       "      <td>0</td>\n",
       "      <td>...</td>\n",
       "      <td>0</td>\n",
       "      <td>0</td>\n",
       "      <td>0</td>\n",
       "      <td>0</td>\n",
       "      <td>0</td>\n",
       "      <td>0</td>\n",
       "      <td>0</td>\n",
       "      <td>0</td>\n",
       "      <td>0</td>\n",
       "      <td>0</td>\n",
       "    </tr>\n",
       "    <tr>\n",
       "      <th>10 Years</th>\n",
       "      <td>0</td>\n",
       "      <td>0</td>\n",
       "      <td>0</td>\n",
       "      <td>0</td>\n",
       "      <td>0</td>\n",
       "      <td>0</td>\n",
       "      <td>0</td>\n",
       "      <td>0</td>\n",
       "      <td>0</td>\n",
       "      <td>0</td>\n",
       "      <td>...</td>\n",
       "      <td>0</td>\n",
       "      <td>0</td>\n",
       "      <td>0</td>\n",
       "      <td>0</td>\n",
       "      <td>0</td>\n",
       "      <td>0</td>\n",
       "      <td>0</td>\n",
       "      <td>0</td>\n",
       "      <td>0</td>\n",
       "      <td>0</td>\n",
       "    </tr>\n",
       "    <tr>\n",
       "      <th>12 Years a Slave</th>\n",
       "      <td>0</td>\n",
       "      <td>0</td>\n",
       "      <td>0</td>\n",
       "      <td>0</td>\n",
       "      <td>0</td>\n",
       "      <td>0</td>\n",
       "      <td>0</td>\n",
       "      <td>0</td>\n",
       "      <td>0</td>\n",
       "      <td>0</td>\n",
       "      <td>...</td>\n",
       "      <td>0</td>\n",
       "      <td>0</td>\n",
       "      <td>1</td>\n",
       "      <td>0</td>\n",
       "      <td>0</td>\n",
       "      <td>0</td>\n",
       "      <td>0</td>\n",
       "      <td>0</td>\n",
       "      <td>0</td>\n",
       "      <td>0</td>\n",
       "    </tr>\n",
       "    <tr>\n",
       "      <th>127 Hours</th>\n",
       "      <td>0</td>\n",
       "      <td>0</td>\n",
       "      <td>0</td>\n",
       "      <td>0</td>\n",
       "      <td>0</td>\n",
       "      <td>1</td>\n",
       "      <td>0</td>\n",
       "      <td>0</td>\n",
       "      <td>0</td>\n",
       "      <td>0</td>\n",
       "      <td>...</td>\n",
       "      <td>0</td>\n",
       "      <td>0</td>\n",
       "      <td>0</td>\n",
       "      <td>0</td>\n",
       "      <td>0</td>\n",
       "      <td>0</td>\n",
       "      <td>0</td>\n",
       "      <td>0</td>\n",
       "      <td>0</td>\n",
       "      <td>0</td>\n",
       "    </tr>\n",
       "    <tr>\n",
       "      <th>13 Sins</th>\n",
       "      <td>0</td>\n",
       "      <td>0</td>\n",
       "      <td>0</td>\n",
       "      <td>0</td>\n",
       "      <td>0</td>\n",
       "      <td>0</td>\n",
       "      <td>0</td>\n",
       "      <td>0</td>\n",
       "      <td>0</td>\n",
       "      <td>0</td>\n",
       "      <td>...</td>\n",
       "      <td>0</td>\n",
       "      <td>0</td>\n",
       "      <td>0</td>\n",
       "      <td>0</td>\n",
       "      <td>0</td>\n",
       "      <td>0</td>\n",
       "      <td>0</td>\n",
       "      <td>0</td>\n",
       "      <td>0</td>\n",
       "      <td>0</td>\n",
       "    </tr>\n",
       "  </tbody>\n",
       "</table>\n",
       "<p>5 rows × 40 columns</p>\n",
       "</div>"
      ],
      "text/plain": [
       "                 D:Alexander Payne D:Ang Lee D:Benh Zeitlin D:Bennett Miller  \\\n",
       "index                                                                          \n",
       "'71                              0         0              0                0   \n",
       "10 Years                         0         0              0                0   \n",
       "12 Years a Slave                 0         0              0                0   \n",
       "127 Hours                        0         0              0                0   \n",
       "13 Sins                          0         0              0                0   \n",
       "\n",
       "                 D:Clint Eastwood D:Danny Boyle D:Darren Aronofsky  \\\n",
       "index                                                                \n",
       "'71                             0             0                  0   \n",
       "10 Years                        0             0                  0   \n",
       "12 Years a Slave                0             0                  0   \n",
       "127 Hours                       0             1                  0   \n",
       "13 Sins                         0             0                  0   \n",
       "\n",
       "                 D:David Fincher D:David O. Russell D:George Clooney  \\\n",
       "index                                                                  \n",
       "'71                            0                  0                0   \n",
       "10 Years                       0                  0                0   \n",
       "12 Years a Slave               0                  0                0   \n",
       "127 Hours                      0                  0                0   \n",
       "13 Sins                        0                  0                0   \n",
       "\n",
       "                      ...      D:Stephen Daldry D:Stephen Frears  \\\n",
       "index                 ...                                          \n",
       "'71                   ...                     0                0   \n",
       "10 Years              ...                     0                0   \n",
       "12 Years a Slave      ...                     0                0   \n",
       "127 Hours             ...                     0                0   \n",
       "13 Sins               ...                     0                0   \n",
       "\n",
       "                 D:Steve McQueen D:Steven Spielberg D:Taylor Hackford  \\\n",
       "index                                                                   \n",
       "'71                            0                  0                 0   \n",
       "10 Years                       0                  0                 0   \n",
       "12 Years a Slave               1                  0                 0   \n",
       "127 Hours                      0                  0                 0   \n",
       "13 Sins                        0                  0                 0   \n",
       "\n",
       "                 D:Terrence Malick D:Tom Hooper D:Tony Gilroy D:Wes Anderson  \\\n",
       "index                                                                          \n",
       "'71                              0            0             0              0   \n",
       "10 Years                         0            0             0              0   \n",
       "12 Years a Slave                 0            0             0              0   \n",
       "127 Hours                        0            0             0              0   \n",
       "13 Sins                          0            0             0              0   \n",
       "\n",
       "                 D:Woody Allen  \n",
       "index                           \n",
       "'71                          0  \n",
       "10 Years                     0  \n",
       "12 Years a Slave             0  \n",
       "127 Hours                    0  \n",
       "13 Sins                      0  \n",
       "\n",
       "[5 rows x 40 columns]"
      ]
     },
     "execution_count": 776,
     "metadata": {},
     "output_type": "execute_result"
    }
   ],
   "source": [
    "oscarsdir = pd.DataFrame.from_dict(data=oscarsdirdict, orient='index', dtype=None)\n",
    "oscarsdir.columns = ['OscarNomDir', 'NomDir']\n",
    "oscarsdir2 = oscarsdir['NomDir'].reset_index()\n",
    "oscarsdir = oscarsdir['OscarNomDir']\n",
    "oscarsdir2['counts'] = 1\n",
    "oscarsdir3 = oscarsdir2.pivot('index', 'NomDir', 'counts')\n",
    "oscarsdir3 = oscarsdir3[oscarsdir3.columns[1:]]\n",
    "oscarsdir3 = oscarsdir3.fillna('0')\n",
    "newcolnames = []\n",
    "for item in oscarsdir3.columns:\n",
    "    name = 'D:' + item\n",
    "    newcolnames.append(name)\n",
    "#print newcolnames\n",
    "oscarsdir3.columns = newcolnames\n",
    "oscarsdir3.head(5)"
   ]
  },
  {
   "cell_type": "code",
   "execution_count": 777,
   "metadata": {
    "collapsed": false
   },
   "outputs": [],
   "source": [
    "director = pd.DataFrame.from_dict(data = datasets[8], orient='index', dtype=None)\n",
    "director.columns = ['Director']"
   ]
  },
  {
   "cell_type": "markdown",
   "metadata": {},
   "source": [
    "###Combine all datasets"
   ]
  },
  {
   "cell_type": "code",
   "execution_count": 779,
   "metadata": {
    "collapsed": false,
    "scrolled": true
   },
   "outputs": [
    {
     "data": {
      "text/plain": [
       "(1520, 155)"
      ]
     },
     "execution_count": 779,
     "metadata": {},
     "output_type": "execute_result"
    }
   ],
   "source": [
    "moviedata = pd.concat([boxoffice, screens, budget, franchise, director, genre, runtime, oscarscast, oscarscast3, oscarsdir, oscarsdir3], axis=1, join_axes=[boxoffice.index], join='outer')\n",
    "#moviedata['BoxOfficeGross'] = moviedata['BoxOfficeGross'].fillna(0)\n",
    "#moviedata = moviedata.fillna('NA')\n",
    "#moviedata = moviedata.replace('N/A', 'NA')\n",
    "moviedata.shape"
   ]
  },
  {
   "cell_type": "markdown",
   "metadata": {},
   "source": [
    "Converting date format"
   ]
  },
  {
   "cell_type": "code",
   "execution_count": 780,
   "metadata": {
    "collapsed": false
   },
   "outputs": [],
   "source": [
    "moviedata['ReleaseDate'] = pd.to_datetime(moviedata['ReleaseDate'])"
   ]
  },
  {
   "cell_type": "markdown",
   "metadata": {},
   "source": [
    "Cleaning up brands values"
   ]
  },
  {
   "cell_type": "code",
   "execution_count": 781,
   "metadata": {
    "collapsed": false
   },
   "outputs": [],
   "source": [
    "convertlist = ['Brand0', 'Brand1', 'Brand2', 'Series0', 'Series1']\n",
    "for item in convertlist:\n",
    "    moviedata[item] = moviedata[item].fillna('None')"
   ]
  },
  {
   "cell_type": "code",
   "execution_count": 782,
   "metadata": {
    "collapsed": true
   },
   "outputs": [],
   "source": [
    "def franchiseCategory(vinput):\n",
    "    if vinput == 'None':\n",
    "        return 0\n",
    "    else:\n",
    "        return 1"
   ]
  },
  {
   "cell_type": "code",
   "execution_count": 783,
   "metadata": {
    "collapsed": false
   },
   "outputs": [],
   "source": [
    "moviedata['BrandTotal'] = moviedata['Brand0'].apply(franchiseCategory) + moviedata['Brand1'].apply(franchiseCategory) + moviedata['Brand2'].apply(franchiseCategory)\n",
    "moviedata['SequelOrSeries'] = moviedata['Series0'].apply(franchiseCategory) + moviedata['Series1'].apply(franchiseCategory)"
   ]
  },
  {
   "cell_type": "markdown",
   "metadata": {},
   "source": [
    "Cleaning up budget and screen data values"
   ]
  },
  {
   "cell_type": "code",
   "execution_count": 784,
   "metadata": {
    "collapsed": false
   },
   "outputs": [],
   "source": [
    "moviedata['Screens'] = moviedata.Screens.astype(float)\n",
    "moviedata['Budget'] = moviedata.Budget.astype(float)\n",
    "moviedata['OscarNomCast'] = moviedata.OscarNomCast.astype(float)"
   ]
  },
  {
   "cell_type": "markdown",
   "metadata": {},
   "source": [
    "Create combined Genre information"
   ]
  },
  {
   "cell_type": "code",
   "execution_count": 785,
   "metadata": {
    "collapsed": false
   },
   "outputs": [],
   "source": [
    "moviedata['CombinedGenre'] = moviedata['Genre0'] + '-' + moviedata['Genre1']\n",
    "moviedata['GenreBrand'] = moviedata['CombinedGenre'] + '-' + moviedata['Brand0']\n",
    "moviedata['Month'] = moviedata['ReleaseDate'].apply(lambda x: x.month)\n",
    "moviedata['Genre1Brand'] = moviedata['Genre0'] + '-' + moviedata['Brand0']"
   ]
  },
  {
   "cell_type": "code",
   "execution_count": 1006,
   "metadata": {
    "collapsed": false
   },
   "outputs": [],
   "source": [
    "#labels = [ \"{0} - {1}\".format(i, i + 2) for i in range(1, 11, 3) ]\n",
    "labels = ['Spring', 'Summer', 'Fall', 'Winter']\n",
    "moviedata['Season'] = pd.cut(moviedata.Month, bins=[1, 4, 7, 10, 13], right=False, labels=labels)\n",
    "moviedata['Season'] = moviedata['Season'].astype(str)\n",
    "label2 = ['Jan', 'Feb', 'Mar', 'Apr', 'May', 'Jun', 'Jul', 'Aug', 'Sept', 'Oct', 'Nov', 'Dec']\n",
    "bins = range(1, 14)\n",
    "moviedata['Month2'] = pd.cut(moviedata.Month, bins=bins, right=False, labels=label2)\n",
    "moviedata['Month2'] = moviedata['Month2'].astype(str)"
   ]
  },
  {
   "cell_type": "code",
   "execution_count": 2158,
   "metadata": {
    "collapsed": false
   },
   "outputs": [
    {
     "data": {
      "text/plain": [
       "112.0"
      ]
     },
     "execution_count": 2158,
     "metadata": {},
     "output_type": "execute_result"
    }
   ],
   "source": [
    "moviedata['Runtime1']['Life as We Know It']"
   ]
  },
  {
   "cell_type": "markdown",
   "metadata": {},
   "source": [
    "Pickle Dataset for storage"
   ]
  },
  {
   "cell_type": "code",
   "execution_count": 1007,
   "metadata": {
    "collapsed": false
   },
   "outputs": [],
   "source": [
    "with open('moviedata.pkl', 'w') as picklefile:\n",
    "    pickle.dump(moviedata, picklefile)"
   ]
  },
  {
   "cell_type": "markdown",
   "metadata": {},
   "source": [
    "###Preliminary exploratory statistics"
   ]
  },
  {
   "cell_type": "code",
   "execution_count": 1008,
   "metadata": {
    "collapsed": true
   },
   "outputs": [],
   "source": [
    "%matplotlib inline\n",
    "matplotlib.style.use('ggplot')"
   ]
  },
  {
   "cell_type": "markdown",
   "metadata": {},
   "source": [
    "Scatterplots to demonstrate relationships"
   ]
  },
  {
   "cell_type": "code",
   "execution_count": 2685,
   "metadata": {
    "collapsed": false
   },
   "outputs": [
    {
     "data": {
      "text/plain": [
       "0.41907894736842105"
      ]
     },
     "execution_count": 2685,
     "metadata": {},
     "output_type": "execute_result"
    }
   ],
   "source": [
    "analysisdata['OscarNomCast'].mean()"
   ]
  },
  {
   "cell_type": "code",
   "execution_count": 2762,
   "metadata": {
    "collapsed": false
   },
   "outputs": [],
   "source": [
    "analysisdata = moviedata[moviedata['BoxOfficeGross']> 0]\n",
    "analysisdata['ScreensSQ'] = analysisdata['Screens']**2\n",
    "analysisdata['ScreensC'] = analysisdata['Screens']**3\n",
    "analysisdata['BoxOfficeLog'] = np.log(analysisdata['BoxOfficeGross'])\n",
    "analysisdata['SequelSQ'] = analysisdata['SequelOrSeries']**2\n",
    "analysisdata['ScreensF'] = analysisdata['Screens']**4\n",
    "analysisdata['ScreensFif'] = analysisdata['Screens']**5\n",
    "analysisdata['Genre0Brand'] = analysisdata['Genre0'] + '-'+ analysisdata['Brand0']\n",
    "analysisdata['Counts'] = 1\n",
    "analysisdata['OscDirAct'] = analysisdata['OscarNomCast'] + analysisdata['OscarNomDir'] + analysisdata['SequelOrSeries'] + analysisdata['OscarNomCast']*analysisdata['OscarNomDir'] + analysisdata['OscarNomCast']*analysisdata['SequelOrSeries'] + analysisdata['OscarNomDir']*analysisdata['SequelOrSeries'] + analysisdata['OscarNomDir']*analysisdata['SequelOrSeries']*analysisdata['OscarNomCast'] "
   ]
  },
  {
   "cell_type": "code",
   "execution_count": 2692,
   "metadata": {
    "collapsed": false
   },
   "outputs": [
    {
     "data": {
      "text/plain": [
       "0    1390\n",
       "1     118\n",
       "2      12\n",
       "dtype: int64"
      ]
     },
     "execution_count": 2692,
     "metadata": {},
     "output_type": "execute_result"
    }
   ],
   "source": [
    "analysisdata['SequelOrSeries'].value_counts()"
   ]
  },
  {
   "cell_type": "code",
   "execution_count": 2460,
   "metadata": {
    "collapsed": false
   },
   "outputs": [
    {
     "data": {
      "text/plain": [
       "array([[<matplotlib.axes._subplots.AxesSubplot object at 0x13bdacb10>,\n",
       "        <matplotlib.axes._subplots.AxesSubplot object at 0x13bfb1690>,\n",
       "        <matplotlib.axes._subplots.AxesSubplot object at 0x12a662c50>,\n",
       "        <matplotlib.axes._subplots.AxesSubplot object at 0x1399f8790>,\n",
       "        <matplotlib.axes._subplots.AxesSubplot object at 0x13bc41350>,\n",
       "        <matplotlib.axes._subplots.AxesSubplot object at 0x13beaeb50>],\n",
       "       [<matplotlib.axes._subplots.AxesSubplot object at 0x13bd02d90>,\n",
       "        <matplotlib.axes._subplots.AxesSubplot object at 0x12a0557d0>,\n",
       "        <matplotlib.axes._subplots.AxesSubplot object at 0x12a490b10>,\n",
       "        <matplotlib.axes._subplots.AxesSubplot object at 0x12a08d7d0>,\n",
       "        <matplotlib.axes._subplots.AxesSubplot object at 0x12a5c7550>,\n",
       "        <matplotlib.axes._subplots.AxesSubplot object at 0x13615c790>],\n",
       "       [<matplotlib.axes._subplots.AxesSubplot object at 0x1361bea10>,\n",
       "        <matplotlib.axes._subplots.AxesSubplot object at 0x13633fd50>,\n",
       "        <matplotlib.axes._subplots.AxesSubplot object at 0x136398410>,\n",
       "        <matplotlib.axes._subplots.AxesSubplot object at 0x13955a750>,\n",
       "        <matplotlib.axes._subplots.AxesSubplot object at 0x1395dc590>,\n",
       "        <matplotlib.axes._subplots.AxesSubplot object at 0x13a05e290>],\n",
       "       [<matplotlib.axes._subplots.AxesSubplot object at 0x13a21a4d0>,\n",
       "        <matplotlib.axes._subplots.AxesSubplot object at 0x13a272ed0>,\n",
       "        <matplotlib.axes._subplots.AxesSubplot object at 0x13a301250>,\n",
       "        <matplotlib.axes._subplots.AxesSubplot object at 0x13a2aced0>,\n",
       "        <matplotlib.axes._subplots.AxesSubplot object at 0x13b024c50>,\n",
       "        <matplotlib.axes._subplots.AxesSubplot object at 0x13b0a7e90>],\n",
       "       [<matplotlib.axes._subplots.AxesSubplot object at 0x13b216150>,\n",
       "        <matplotlib.axes._subplots.AxesSubplot object at 0x13b29a490>,\n",
       "        <matplotlib.axes._subplots.AxesSubplot object at 0x13b2e7b10>,\n",
       "        <matplotlib.axes._subplots.AxesSubplot object at 0x13c134e50>,\n",
       "        <matplotlib.axes._subplots.AxesSubplot object at 0x13c1b5c90>,\n",
       "        <matplotlib.axes._subplots.AxesSubplot object at 0x13c222990>],\n",
       "       [<matplotlib.axes._subplots.AxesSubplot object at 0x13c2a6bd0>,\n",
       "        <matplotlib.axes._subplots.AxesSubplot object at 0x13c40c610>,\n",
       "        <matplotlib.axes._subplots.AxesSubplot object at 0x13c48c950>,\n",
       "        <matplotlib.axes._subplots.AxesSubplot object at 0x13c443610>,\n",
       "        <matplotlib.axes._subplots.AxesSubplot object at 0x13c57d390>,\n",
       "        <matplotlib.axes._subplots.AxesSubplot object at 0x13c6005d0>]], dtype=object)"
      ]
     },
     "execution_count": 2460,
     "metadata": {},
     "output_type": "execute_result"
    },
    {
     "data": {
      "image/png": "[encoded data removed]",
      "text/plain": [
       "<matplotlib.figure.Figure at 0x13bdac410>"
      ]
     },
     "metadata": {},
     "output_type": "display_data"
    }
   ],
   "source": [
    "df = analysisdata[['BoxOfficeGross','Screens','ScreensSQ', 'ScreensC', 'ScreensF', 'ScreensFif']]\n",
    "from pandas.tools.plotting import scatter_matrix\n",
    "scatter_matrix(df, alpha=0.2, figsize=(6, 6), diagonal='kde')"
   ]
  },
  {
   "cell_type": "code",
   "execution_count": 2694,
   "metadata": {
    "collapsed": false,
    "scrolled": true
   },
   "outputs": [
    {
     "data": {
      "text/plain": [
       "array([[<matplotlib.axes._subplots.AxesSubplot object at 0x149eeeb90>,\n",
       "        <matplotlib.axes._subplots.AxesSubplot object at 0x14c69e210>,\n",
       "        <matplotlib.axes._subplots.AxesSubplot object at 0x14c600110>,\n",
       "        <matplotlib.axes._subplots.AxesSubplot object at 0x14923d490>,\n",
       "        <matplotlib.axes._subplots.AxesSubplot object at 0x14c614b50>,\n",
       "        <matplotlib.axes._subplots.AxesSubplot object at 0x14804ac90>],\n",
       "       [<matplotlib.axes._subplots.AxesSubplot object at 0x140fc21d0>,\n",
       "        <matplotlib.axes._subplots.AxesSubplot object at 0x149407850>,\n",
       "        <matplotlib.axes._subplots.AxesSubplot object at 0x13b90fb90>,\n",
       "        <matplotlib.axes._subplots.AxesSubplot object at 0x13b963250>,\n",
       "        <matplotlib.axes._subplots.AxesSubplot object at 0x1488f9590>,\n",
       "        <matplotlib.axes._subplots.AxesSubplot object at 0x14897b3d0>],\n",
       "       [<matplotlib.axes._subplots.AxesSubplot object at 0x1489eb0d0>,\n",
       "        <matplotlib.axes._subplots.AxesSubplot object at 0x148a6e310>,\n",
       "        <matplotlib.axes._subplots.AxesSubplot object at 0x148ac5d10>,\n",
       "        <matplotlib.axes._subplots.AxesSubplot object at 0x14b3ac090>,\n",
       "        <matplotlib.axes._subplots.AxesSubplot object at 0x14b355d10>,\n",
       "        <matplotlib.axes._subplots.AxesSubplot object at 0x14b92fa90>],\n",
       "       [<matplotlib.axes._subplots.AxesSubplot object at 0x14b9b2cd0>,\n",
       "        <matplotlib.axes._subplots.AxesSubplot object at 0x14ba14f50>,\n",
       "        <matplotlib.axes._subplots.AxesSubplot object at 0x14baa42d0>,\n",
       "        <matplotlib.axes._subplots.AxesSubplot object at 0x14baf1950>,\n",
       "        <matplotlib.axes._subplots.AxesSubplot object at 0x14bb7ec90>,\n",
       "        <matplotlib.axes._subplots.AxesSubplot object at 0x14bc01ad0>],\n",
       "       [<matplotlib.axes._subplots.AxesSubplot object at 0x14bc6f7d0>,\n",
       "        <matplotlib.axes._subplots.AxesSubplot object at 0x14be27a10>,\n",
       "        <matplotlib.axes._subplots.AxesSubplot object at 0x14be8e450>,\n",
       "        <matplotlib.axes._subplots.AxesSubplot object at 0x14c472790>,\n",
       "        <matplotlib.axes._subplots.AxesSubplot object at 0x14c42b450>,\n",
       "        <matplotlib.axes._subplots.AxesSubplot object at 0x14c9de1d0>],\n",
       "       [<matplotlib.axes._subplots.AxesSubplot object at 0x14cb81410>,\n",
       "        <matplotlib.axes._subplots.AxesSubplot object at 0x14cbe4690>,\n",
       "        <matplotlib.axes._subplots.AxesSubplot object at 0x14cc669d0>,\n",
       "        <matplotlib.axes._subplots.AxesSubplot object at 0x14cccd090>,\n",
       "        <matplotlib.axes._subplots.AxesSubplot object at 0x14ce4d3d0>,\n",
       "        <matplotlib.axes._subplots.AxesSubplot object at 0x14ced1210>]], dtype=object)"
      ]
     },
     "execution_count": 2694,
     "metadata": {},
     "output_type": "execute_result"
    },
    {
     "data": {
      "image/png": "[encoded data removed]",
      "text/plain": [
       "<matplotlib.figure.Figure at 0x149537950>"
      ]
     },
     "metadata": {},
     "output_type": "display_data"
    }
   ],
   "source": [
    "df = analysisdata[['BoxOfficeGross','Screens','Budget', 'Runtime1', 'Month', 'OscDirAct']]\n",
    "from pandas.tools.plotting import scatter_matrix\n",
    "scatter_matrix(df, alpha=0.2, figsize=(6, 6), diagonal='kde')"
   ]
  },
  {
   "cell_type": "code",
   "execution_count": 2462,
   "metadata": {
    "collapsed": false
   },
   "outputs": [
    {
     "data": {
      "text/plain": [
       "array([[<matplotlib.axes._subplots.AxesSubplot object at 0x13f03d0d0>,\n",
       "        <matplotlib.axes._subplots.AxesSubplot object at 0x13f67a390>],\n",
       "       [<matplotlib.axes._subplots.AxesSubplot object at 0x13b79c6d0>,\n",
       "        <matplotlib.axes._subplots.AxesSubplot object at 0x13b873650>]], dtype=object)"
      ]
     },
     "execution_count": 2462,
     "metadata": {},
     "output_type": "execute_result"
    },
    {
     "data": {
      "image/png": "[encoded data removed]",
      "text/plain": [
       "<matplotlib.figure.Figure at 0x13d5a6910>"
      ]
     },
     "metadata": {},
     "output_type": "display_data"
    }
   ],
   "source": [
    "df = analysisdata[['BoxOfficeGross','SequelOrSeries']]\n",
    "from pandas.tools.plotting import scatter_matrix\n",
    "scatter_matrix(df, alpha=0.2, figsize=(6, 6), diagonal='kde')"
   ]
  },
  {
   "cell_type": "markdown",
   "metadata": {},
   "source": [
    "Run some analyses on the relationship between Genre, Brand, Series, and Studio"
   ]
  },
  {
   "cell_type": "code",
   "execution_count": 2464,
   "metadata": {
    "collapsed": false
   },
   "outputs": [
    {
     "data": {
      "text/plain": [
       "<matplotlib.axes._subplots.AxesSubplot at 0x14002ebd0>"
      ]
     },
     "execution_count": 2464,
     "metadata": {},
     "output_type": "execute_result"
    },
    {
     "data": {
      "image/png": "[encoded data removed]",
      "text/plain": [
       "<matplotlib.figure.Figure at 0x1299df410>"
      ]
     },
     "metadata": {},
     "output_type": "display_data"
    }
   ],
   "source": [
    "df = analysisdata.groupby(['Studio'])['Series0'].apply(lambda x: len(x.unique()))\n",
    "df.sort(ascending = False)\n",
    "df.plot()"
   ]
  },
  {
   "cell_type": "code",
   "execution_count": 2465,
   "metadata": {
    "collapsed": false
   },
   "outputs": [],
   "source": [
    "df = analysisdata.groupby(['Brand0','Studio', 'Series0'])['Counts'].sum()"
   ]
  },
  {
   "cell_type": "code",
   "execution_count": 2466,
   "metadata": {
    "collapsed": false
   },
   "outputs": [
    {
     "name": "stdout",
     "output_type": "stream",
     "text": [
      "3363.69534544\n"
     ]
    }
   ],
   "source": [
    "import math\n",
    "z = []\n",
    "for i in range(len(analysisdata['BoxOfficeGross'])):\n",
    "    x = analysisdata['BoxOfficeGross'][i]\n",
    "    y = analysisdata['Screens'][i]\n",
    "    n = float(x/y**3)\n",
    "    if math.isnan(n) == False:\n",
    "        z.append(n)\n",
    "print np.std(z)"
   ]
  },
  {
   "cell_type": "code",
   "execution_count": 2467,
   "metadata": {
    "collapsed": false
   },
   "outputs": [
    {
     "data": {
      "text/plain": [
       "array([u'Comedy', u'Documentary', u'Action', u'Horror', u'Drama', u'Crime',\n",
       "       'N/A', u'Musical', u'Adventure', u'Biography', u'Thriller',\n",
       "       u'Sci-Fi', u'Animation', u'Mystery', u'Talk-Show', u'Short',\n",
       "       u'Romance', u'Music', u'Fantasy', u'Family', u'News', u'Western',\n",
       "       u'History', u'Reality-TV'], dtype=object)"
      ]
     },
     "execution_count": 2467,
     "metadata": {},
     "output_type": "execute_result"
    }
   ],
   "source": [
    "moviedata['Genre0'].unique()"
   ]
  },
  {
   "cell_type": "code",
   "execution_count": 2482,
   "metadata": {
    "collapsed": false
   },
   "outputs": [
    {
     "data": {
      "text/plain": [
       "Genre0Brand\n",
       "Comedy-None                                348\n",
       "Drama-None                                 281\n",
       "Action-None                                252\n",
       "Documentary-None                           111\n",
       "Biography-None                              63\n",
       "N/A-None                                    58\n",
       "Horror-None                                 56\n",
       "Crime-None                                  56\n",
       "Adventure-None                              56\n",
       "Animation-None                              48\n",
       "Action-Marvel Comics                        15\n",
       "Action-Legendary Pictures                   14\n",
       "Animation-DreamWorks Animation              13\n",
       "Short-None                                  13\n",
       "Thriller-None                                6\n",
       "Drama-Nicholas Sparks                        6\n",
       "Mystery-None                                 6\n",
       "Music-None                                   5\n",
       "Animation-Pixar                              5\n",
       "Comedy-Tyler Perry                           5\n",
       "Animation-Illumination Entertainment         5\n",
       "Animation-Sony Pictures Animation            4\n",
       "Animation-Walt Disney Animation Studios      4\n",
       "Fantasy-None                                 4\n",
       "Animation-Blue Sky                           4\n",
       "Sci-Fi-None                                  4\n",
       "Action-Dark Castle                           4\n",
       "Documentary-Disneynature                     4\n",
       "Comedy-Legendary Pictures                    3\n",
       "Adventure-Walden Media                       3\n",
       "Adventure-Legendary Pictures                 3\n",
       "Action-DC Comics                             3\n",
       "Documentary-MTV                              3\n",
       "Action-Hasbro                                3\n",
       "News-None                                    3\n",
       "Family-None                                  3\n",
       "Horror-Dark Castle                           2\n",
       "Talk-Show-None                               2\n",
       "Animation-Laika                              2\n",
       "Animation-Nickelodeon                        2\n",
       "Musical-None                                 2\n",
       "Action-Nickelodeon                           2\n",
       "Biography-Legendary Pictures                 2\n",
       "History-None                                 2\n",
       "Comedy-MTV                                   2\n",
       "Animation-Aardman                            2\n",
       "Adventure-Nickelodeon                        1\n",
       "Adventure-Tim Burton-Johnny Depp             1\n",
       "Action-Philip K. Dick                        1\n",
       "Action-Robert Ludlum                         1\n",
       "Name: Counts, dtype: int64"
      ]
     },
     "execution_count": 2482,
     "metadata": {},
     "output_type": "execute_result"
    }
   ],
   "source": [
    "df = analysisdata.groupby(['Genre0Brand'])['Counts'].sum()\n",
    "df.sort(ascending=False)\n",
    "df[:50]"
   ]
  },
  {
   "cell_type": "code",
   "execution_count": 2515,
   "metadata": {
    "collapsed": false
   },
   "outputs": [
    {
     "data": {
      "text/plain": [
       "Series0\n",
       "None                        1390\n",
       "Paranormal Activity            4\n",
       "The Hobbit                     3\n",
       "Insidious                      3\n",
       "Step Up                        3\n",
       "Despicable Me                  3\n",
       "Atlas Shrugged Franchise       3\n",
       "Diary of a Wimpy Kid           3\n",
       "The Expendables                3\n",
       "The Fast and the Furious       3\n",
       "X-Men                          3\n",
       "The Hunger Games               3\n",
       "Madea                          3\n",
       "Twilight                       3\n",
       "Spider-Man                     2\n",
       "Divergent                      2\n",
       "Madagascar                     2\n",
       "Planet of the Apes             2\n",
       "Harry Potter                   2\n",
       "Resident Evil                  2\n",
       "How to Train Your Dragon       2\n",
       "Captain America                2\n",
       "Jackass                        2\n",
       "Shrek                          2\n",
       "Iron Man                       2\n",
       "Transformers                   2\n",
       "Taken                          2\n",
       "Avengers                       2\n",
       "Thor                           2\n",
       "The Hangover                   2\n",
       "The Smurfs                     2\n",
       "The Muppets                    2\n",
       "The Purge                      2\n",
       "Best Man                       1\n",
       "Final Destination              1\n",
       "Ice Age                        1\n",
       "Alien                          1\n",
       "Harold and Kumar               1\n",
       "Godzilla                       1\n",
       "Fright Night                   1\n",
       "Fockers                        1\n",
       "Dumb and Dumber                1\n",
       "Fifty Shades                   1\n",
       "Evil Dead                      1\n",
       "Big Momma                      1\n",
       "Die Hard                       1\n",
       "Alvin and the Chipmunks        1\n",
       "American Pie                   1\n",
       "Arthur                         1\n",
       "Dhoom                          1\n",
       "Name: Counts, dtype: int64"
      ]
     },
     "execution_count": 2515,
     "metadata": {},
     "output_type": "execute_result"
    }
   ],
   "source": [
    "df = analysisdata.groupby(['Series0'])['Counts'].sum()\n",
    "df.sort(ascending=False)\n",
    "df[:50]"
   ]
  },
  {
   "cell_type": "code",
   "execution_count": 2761,
   "metadata": {
    "collapsed": false
   },
   "outputs": [
    {
     "data": {
      "text/plain": [
       "The Hobbit: The Desolation of Smaug            12\n",
       "The Hobbit: An Unexpected Journey              12\n",
       "The Hobbit: The Battle of the Five Armies      12\n",
       "The Bourne Legacy                               7\n",
       "Pirates of the Caribbean: On Stranger Tides     7\n",
       "Prometheus                                      7\n",
       "The Dark Knight Rises                           6\n",
       "American Hustle                                 5\n",
       "Les Miserables (2012)                           4\n",
       "The Monuments Men                               4\n",
       "X-Men: Days of Future Past                      4\n",
       "Iron Man 3                                      4\n",
       "Avengers: Age of Ultron                         4\n",
       "Iron Man 2                                      4\n",
       "The Girl Who Played with Fire                   4\n",
       "Thor                                            4\n",
       "The Grand Budapest Hotel                        4\n",
       "Man of Steel                                    3\n",
       "The Ides of March                               3\n",
       "The Hunger Games: Mockingjay - Part 1           3\n",
       "Django Unchained                                3\n",
       "Minions                                         3\n",
       "12 Years a Slave                                3\n",
       "J. Edgar                                        3\n",
       "The Wolf of Wall Street                         3\n",
       "Shutter Island                                  3\n",
       "The Fighter                                     3\n",
       "The Tree of Life                                3\n",
       "Lincoln                                         3\n",
       "The Master                                      3\n",
       "Name: OscDirAct, dtype: float64"
      ]
     },
     "execution_count": 2761,
     "metadata": {},
     "output_type": "execute_result"
    }
   ],
   "source": [
    "df = analysisdata[analysisdata['OscDirAct'] > 0]['OscDirAct']\n",
    "df = df.sort(ascending=False, inplace=False)\n",
    "df[:30]"
   ]
  },
  {
   "cell_type": "code",
   "execution_count": 2605,
   "metadata": {
    "collapsed": false
   },
   "outputs": [
    {
     "data": {
      "text/plain": [
       "OscDirAct\n",
       "0     1000\n",
       "1      311\n",
       "3       74\n",
       "2       72\n",
       "5       29\n",
       "7       14\n",
       "11       4\n",
       "9        4\n",
       "8        4\n",
       "4        4\n",
       "17       3\n",
       "13       1\n",
       "Name: Counts, dtype: int64"
      ]
     },
     "execution_count": 2605,
     "metadata": {},
     "output_type": "execute_result"
    }
   ],
   "source": [
    "df = analysisdata.groupby(['OscDirAct'])['Counts'].sum()\n",
    "df.sort(ascending=False)\n",
    "df"
   ]
  },
  {
   "cell_type": "markdown",
   "metadata": {},
   "source": [
    "###Preliminary Regression Analyses"
   ]
  },
  {
   "cell_type": "code",
   "execution_count": 797,
   "metadata": {
    "collapsed": false
   },
   "outputs": [],
   "source": [
    "from patsy import dmatrices\n",
    "from sklearn import cross_validation, linear_model\n",
    "from sklearn import metrics\n",
    "import statsmodels.api as sm"
   ]
  },
  {
   "cell_type": "code",
   "execution_count": 2561,
   "metadata": {
    "collapsed": false
   },
   "outputs": [],
   "source": [
    "actors = analysisdata.columns[23:114]\n",
    "directors = analysisdata.columns[115:155]"
   ]
  },
  {
   "cell_type": "code",
   "execution_count": 2562,
   "metadata": {
    "collapsed": false
   },
   "outputs": [],
   "source": [
    "analysisdata[actors] = analysisdata[actors].fillna(0)\n",
    "analysisdata[actors] = analysisdata[actors].astype(float)\n",
    "analysisdata[directors] = analysisdata[directors].fillna(0)\n",
    "analysisdata[directors] = analysisdata[directors].astype(float)"
   ]
  },
  {
   "cell_type": "code",
   "execution_count": 2563,
   "metadata": {
    "collapsed": false
   },
   "outputs": [
    {
     "data": {
      "text/plain": [
       "array([ 0.,  1.,  2.,  3.,  4.,  5.,  6.])"
      ]
     },
     "execution_count": 2563,
     "metadata": {},
     "output_type": "execute_result"
    }
   ],
   "source": [
    "analysisdata['OscarNomCast'].unique()"
   ]
  },
  {
   "cell_type": "code",
   "execution_count": 2566,
   "metadata": {
    "collapsed": false
   },
   "outputs": [
    {
     "data": {
      "text/plain": [
       "u'A:Morgan Freeman\") + Q(\"A:Richard Jenkins\") + Q(\"A:Bradley Cooper\") + Q(\"A:Viola Davis\") + Q(\"A:James Franco\") + Q(\"A:Tom Wilkinson\") + Q(\"A:Steve Carell\") + Q(\"A:Johnny Depp\") + Q(\"A:Forest Whitaker\") + Q(\"A:Hugh Jackman\") + Q(\"A:Anne Hathaway\") + Q(\"A:Jude Law\") + Q(\"A:Jamie Foxx\") + Q(\"A:Jessica Chastain\") + Q(\"A:Jennifer Lawrence\") + Q(\"A:Naomi Watts\") + Q(\"A:Julianne Moore\") + Q(\"A:Gary Oldman\") + Q(\"A:Melissa Leo\") + Q(\"A:Jeremy Renner\") + Q(\"A:Cate Blanchett\") + Q(\"A:Helen Mirren\") + Q(\"A:Benedict Cumberbatch\") + Q(\"A:Ben Kingsley\") + Q(\"A:Russell Crowe\") + Q(\"A:Brad Pitt\") + Q(\"A:Philip Seymour Hoffman\") + Q(\"A:Amy Adams\") + Q(\"A:Terrence Howard\") + Q(\"A:Reese Witherspoon\") + Q(\"A:Judi Dench\") + Q(\"A:Rooney Mara\") + Q(\"A:Jesse Eisenberg\") + Q(\"A:Leonardo DiCaprio\") + Q(\"A:Matthew McConaughey\") + Q(\"A:Bill Murray\") + Q(\"A:George Clooney\") + Q(\"A:Halle Berry\") + Q(\"A:Denzel Washington\") + Q(\"A:Kate Winslet'"
      ]
     },
     "execution_count": 2566,
     "metadata": {},
     "output_type": "execute_result"
    }
   ],
   "source": [
    "x = analysisdata[actors].sum()\n",
    "x.sort(ascending = False)\n",
    "#x.index\n",
    "a = x.index[:40]\n",
    "actors1 = '\") + Q(\"'.join(a)\n",
    "actors1"
   ]
  },
  {
   "cell_type": "code",
   "execution_count": 844,
   "metadata": {
    "collapsed": false
   },
   "outputs": [
    {
     "data": {
      "text/plain": [
       "u'D:Steven Spielberg\") + Q(\"D:Clint Eastwood\") + Q(\"D:David Fincher\") + Q(\"D:Martin Scorsese\") + Q(\"D:Ridley Scott\") + Q(\"D:Woody Allen\") + Q(\"D:Peter Jackson\") + Q(\"D:Tom Hooper\") + Q(\"D:Danny Boyle\") + Q(\"D:David O. Russell\") + Q(\"D:Jason Reitman\") + Q(\"D:Richard Linklater\") + Q(\"D:Darren Aronofsky\") + Q(\"D:George Clooney\") + Q(\"D:Wes Anderson'"
      ]
     },
     "execution_count": 844,
     "metadata": {},
     "output_type": "execute_result"
    }
   ],
   "source": [
    "x = analysisdata[directors].sum()\n",
    "x.sort(ascending = False)\n",
    "a = x.index[:15]\n",
    "directors1 = '\") + Q(\"'.join(a)\n",
    "directors1"
   ]
  },
  {
   "cell_type": "code",
   "execution_count": 1894,
   "metadata": {
    "collapsed": false
   },
   "outputs": [],
   "source": [
    "#Model Option 1: Be really specific about both series and actors/directors\n",
    "#y, X = dmatrices('BoxOfficeGross ~ Month2 + Series0 + GenreBrand + ScreensC + Q(\"A:Morgan Freeman\") + Q(\"A:Richard Jenkins\") + Q(\"A:Bradley Cooper\") + Q(\"A:Viola Davis\") + Q(\"A:James Franco\") + Q(\"A:Tom Wilkinson\") + Q(\"A:Steve Carell\") + Q(\"A:Johnny Depp\") + Q(\"A:Forest Whitaker\") + Q(\"A:Hugh Jackman\") + Q(\"A:Anne Hathaway\") + Q(\"A:Jude Law\") + Q(\"A:Jamie Foxx\") + Q(\"A:Jessica Chastain\") + Q(\"A:Jennifer Lawrence\") + Q(\"A:Naomi Watts\") + Q(\"A:Julianne Moore\") + Q(\"A:Gary Oldman\") + Q(\"A:Melissa Leo\") + Q(\"A:Jeremy Renner\") + Q(\"A:Cate Blanchett\") + Q(\"A:Helen Mirren\") + Q(\"A:Benedict Cumberbatch\") + Q(\"A:Ben Kingsley\") + Q(\"A:Russell Crowe\") + Q(\"A:Brad Pitt\") + Q(\"A:Philip Seymour Hoffman\") + Q(\"D:Steven Spielberg\") + Q(\"D:Clint Eastwood\") + Q(\"D:David Fincher\") + Q(\"D:Martin Scorsese\") + Q(\"D:Ridley Scott\") + Q(\"D:Woody Allen\") + Q(\"D:Peter Jackson\") + Q(\"D:Tom Hooper\") + Q(\"D:Danny Boyle\") + Q(\"D:David O. Russell\") + Q(\"D:Jason Reitman\") + Q(\"D:Richard Linklater\") + Q(\"D:Darren Aronofsky\") + Q(\"D:George Clooney\") + Q(\"D:Wes Anderson\")', data=analysisdata, return_type='dataframe')"
   ]
  },
  {
   "cell_type": "code",
   "execution_count": 2845,
   "metadata": {
    "collapsed": true
   },
   "outputs": [],
   "source": [
    "#Model Option 2: Be not very specific about series and actors/directors\n",
    "y, X = dmatrices('BoxOfficeGross ~ Month2 + Studio + Genre0Brand + Screens + ScreensSQ + ScreensC + ScreensF + OscDirAct', data=analysisdata, return_type='dataframe')"
   ]
  },
  {
   "cell_type": "code",
   "execution_count": 2846,
   "metadata": {
    "collapsed": true
   },
   "outputs": [],
   "source": [
    "#Model Option 3: Just Screens\n",
    "#y, X = dmatrices('BoxOfficeGross ~ ScreensC', data=analysisdata, return_type='dataframe')"
   ]
  },
  {
   "cell_type": "code",
   "execution_count": 2847,
   "metadata": {
    "collapsed": true
   },
   "outputs": [],
   "source": [
    "#Model Option 4: Without screens\n",
    "#y, X = dmatrices('BoxOfficeGross ~ Season + GenreBrand + SequelOrSeries + OscarNomCast + OscarNomDir', data=analysisdata, return_type='dataframe')"
   ]
  },
  {
   "cell_type": "code",
   "execution_count": 2848,
   "metadata": {
    "collapsed": true
   },
   "outputs": [],
   "source": [
    "#Model Option 5: Be really specific about both series and actors/directors\n",
    "#y, X = dmatrices('BoxOfficeGross ~ Month2 + Series0 + GenreBrand + Q(\"A:Morgan Freeman\") + Q(\"A:Richard Jenkins\") + Q(\"A:Bradley Cooper\") + Q(\"A:Viola Davis\") + Q(\"A:James Franco\") + Q(\"A:Tom Wilkinson\") + Q(\"A:Steve Carell\") + Q(\"A:Johnny Depp\") + Q(\"A:Forest Whitaker\") + Q(\"A:Hugh Jackman\") + Q(\"A:Anne Hathaway\") + Q(\"A:Jude Law\") + Q(\"A:Jamie Foxx\") + Q(\"A:Jessica Chastain\") + Q(\"A:Jennifer Lawrence\") + Q(\"A:Naomi Watts\") + Q(\"A:Julianne Moore\") + Q(\"A:Gary Oldman\") + Q(\"A:Melissa Leo\") + Q(\"A:Jeremy Renner\") + Q(\"A:Cate Blanchett\") + Q(\"A:Helen Mirren\") + Q(\"A:Benedict Cumberbatch\") + Q(\"A:Ben Kingsley\") + Q(\"A:Russell Crowe\") + Q(\"A:Brad Pitt\") + Q(\"A:Philip Seymour Hoffman\") + Q(\"D:Steven Spielberg\") + Q(\"D:Clint Eastwood\") + Q(\"D:David Fincher\") + Q(\"D:Martin Scorsese\") + Q(\"D:Ridley Scott\") + Q(\"D:Woody Allen\") + Q(\"D:Peter Jackson\") + Q(\"D:Tom Hooper\") + Q(\"D:Danny Boyle\") + Q(\"D:David O. Russell\") + Q(\"D:Jason Reitman\") + Q(\"D:Richard Linklater\") + Q(\"D:Darren Aronofsky\") + Q(\"D:George Clooney\") + Q(\"D:Wes Anderson\")', data=analysisdata, return_type='dataframe')"
   ]
  },
  {
   "cell_type": "markdown",
   "metadata": {},
   "source": [
    "####Splitting Data into Training and Testing Set"
   ]
  },
  {
   "cell_type": "code",
   "execution_count": 2849,
   "metadata": {
    "collapsed": false
   },
   "outputs": [
    {
     "name": "stdout",
     "output_type": "stream",
     "text": [
      "(1213, 258) (1213, 1)\n"
     ]
    }
   ],
   "source": [
    "from sklearn.cross_validation import train_test_split\n",
    "X, X_test, y, y_test = train_test_split(X, y, test_size=0.2, random_state=46)\n",
    "print X.shape, y.shape"
   ]
  },
  {
   "cell_type": "markdown",
   "metadata": {},
   "source": [
    "#####Iteration 1"
   ]
  },
  {
   "cell_type": "code",
   "execution_count": 2850,
   "metadata": {
    "collapsed": false
   },
   "outputs": [
    {
     "data": {
      "text/html": [
       "<table class=\"simpletable\">\n",
       "<caption>OLS Regression Results</caption>\n",
       "<tr>\n",
       "  <th>Dep. Variable:</th>     <td>BoxOfficeGross</td>  <th>  R-squared:         </th> <td>   0.806</td> \n",
       "</tr>\n",
       "<tr>\n",
       "  <th>Model:</th>                   <td>OLS</td>       <th>  Adj. R-squared:    </th> <td>   0.805</td> \n",
       "</tr>\n",
       "<tr>\n",
       "  <th>Method:</th>             <td>Least Squares</td>  <th>  F-statistic:       </th> <td>   1669.</td> \n",
       "</tr>\n",
       "<tr>\n",
       "  <th>Date:</th>             <td>Thu, 16 Jul 2015</td> <th>  Prob (F-statistic):</th>  <td>  0.00</td>  \n",
       "</tr>\n",
       "<tr>\n",
       "  <th>Time:</th>                 <td>23:27:59</td>     <th>  Log-Likelihood:    </th> <td> -22598.</td> \n",
       "</tr>\n",
       "<tr>\n",
       "  <th>No. Observations:</th>      <td>  1213</td>      <th>  AIC:               </th> <td>4.520e+04</td>\n",
       "</tr>\n",
       "<tr>\n",
       "  <th>Df Residuals:</th>          <td>  1209</td>      <th>  BIC:               </th> <td>4.523e+04</td>\n",
       "</tr>\n",
       "<tr>\n",
       "  <th>Df Model:</th>              <td>     3</td>      <th>                     </th>     <td> </td>    \n",
       "</tr>\n",
       "<tr>\n",
       "  <th>Covariance Type:</th>      <td>nonrobust</td>    <th>                     </th>     <td> </td>    \n",
       "</tr>\n",
       "</table>\n",
       "<table class=\"simpletable\">\n",
       "<tr>\n",
       "                             <td></td>                               <th>coef</th>     <th>std err</th>      <th>t</th>      <th>P>|t|</th> <th>[95.0% Conf. Int.]</th> \n",
       "</tr>\n",
       "<tr>\n",
       "  <th>Intercept</th>                                              <td> 9.062e+05</td> <td> 2.74e+06</td> <td>    0.331</td> <td> 0.741</td> <td>-4.47e+06  6.28e+06</td>\n",
       "</tr>\n",
       "<tr>\n",
       "  <th>Month2[T.Aug]</th>                                          <td>-5.838e+06</td> <td> 3.05e+06</td> <td>   -1.914</td> <td> 0.056</td> <td>-1.18e+07  1.47e+05</td>\n",
       "</tr>\n",
       "<tr>\n",
       "  <th>Month2[T.Dec]</th>                                          <td> 8.445e+06</td> <td> 3.37e+06</td> <td>    2.508</td> <td> 0.012</td> <td> 1.84e+06  1.51e+07</td>\n",
       "</tr>\n",
       "<tr>\n",
       "  <th>Month2[T.Feb]</th>                                          <td> 1.035e+06</td> <td> 3.24e+06</td> <td>    0.319</td> <td> 0.749</td> <td>-5.32e+06  7.39e+06</td>\n",
       "</tr>\n",
       "<tr>\n",
       "  <th>Month2[T.Jan]</th>                                          <td>-3.511e+06</td> <td> 3.39e+06</td> <td>   -1.037</td> <td> 0.300</td> <td>-1.02e+07  3.13e+06</td>\n",
       "</tr>\n",
       "<tr>\n",
       "  <th>Month2[T.Jul]</th>                                          <td>-4.969e+06</td> <td> 3.46e+06</td> <td>   -1.435</td> <td> 0.152</td> <td>-1.18e+07  1.82e+06</td>\n",
       "</tr>\n",
       "<tr>\n",
       "  <th>Month2[T.Jun]</th>                                          <td> 6.986e+06</td> <td> 3.08e+06</td> <td>    2.268</td> <td> 0.023</td> <td> 9.44e+05   1.3e+07</td>\n",
       "</tr>\n",
       "<tr>\n",
       "  <th>Month2[T.Mar]</th>                                          <td> 3.953e+04</td> <td> 3.09e+06</td> <td>    0.013</td> <td> 0.990</td> <td>-6.01e+06  6.09e+06</td>\n",
       "</tr>\n",
       "<tr>\n",
       "  <th>Month2[T.May]</th>                                          <td>-1.768e+06</td> <td> 3.12e+06</td> <td>   -0.567</td> <td> 0.571</td> <td>-7.89e+06  4.35e+06</td>\n",
       "</tr>\n",
       "<tr>\n",
       "  <th>Month2[T.Nov]</th>                                          <td> 7.893e+06</td> <td>  3.7e+06</td> <td>    2.134</td> <td> 0.033</td> <td> 6.35e+05  1.52e+07</td>\n",
       "</tr>\n",
       "<tr>\n",
       "  <th>Month2[T.Oct]</th>                                          <td>-8.919e+05</td> <td> 3.17e+06</td> <td>   -0.281</td> <td> 0.779</td> <td>-7.12e+06  5.33e+06</td>\n",
       "</tr>\n",
       "<tr>\n",
       "  <th>Month2[T.Sept]</th>                                         <td>-6.089e+06</td> <td> 3.06e+06</td> <td>   -1.989</td> <td> 0.047</td> <td>-1.21e+07 -8.42e+04</td>\n",
       "</tr>\n",
       "<tr>\n",
       "  <th>Studio[T.7-57]</th>                                         <td>-2.194e+05</td> <td> 2.42e+05</td> <td>   -0.906</td> <td> 0.365</td> <td>-6.94e+05  2.56e+05</td>\n",
       "</tr>\n",
       "<tr>\n",
       "  <th>Studio[T.A24]</th>                                          <td>-1.183e+05</td> <td> 4.66e+05</td> <td>   -0.254</td> <td> 0.800</td> <td>-1.03e+06  7.97e+05</td>\n",
       "</tr>\n",
       "<tr>\n",
       "  <th>Studio[T.AD]</th>                                           <td> 7.351e+05</td> <td> 7.78e+05</td> <td>    0.945</td> <td> 0.345</td> <td>-7.92e+05  2.26e+06</td>\n",
       "</tr>\n",
       "<tr>\n",
       "  <th>Studio[T.ADC]</th>                                          <td> -1.75e+05</td> <td> 4.39e+05</td> <td>   -0.398</td> <td> 0.690</td> <td>-1.04e+06  6.87e+05</td>\n",
       "</tr>\n",
       "<tr>\n",
       "  <th>Studio[T.ALP]</th>                                          <td> 1.202e+05</td> <td> 3.91e+05</td> <td>    0.307</td> <td> 0.759</td> <td>-6.47e+05  8.88e+05</td>\n",
       "</tr>\n",
       "<tr>\n",
       "  <th>Studio[T.APD/C]</th>                                        <td>-6.312e+04</td> <td> 1.32e+05</td> <td>   -0.479</td> <td> 0.632</td> <td>-3.22e+05  1.95e+05</td>\n",
       "</tr>\n",
       "<tr>\n",
       "  <th>Studio[T.ATO]</th>                                          <td> 2.465e+05</td> <td> 1.57e+05</td> <td>    1.566</td> <td> 0.118</td> <td>-6.24e+04  5.55e+05</td>\n",
       "</tr>\n",
       "<tr>\n",
       "  <th>Studio[T.AaF]</th>                                          <td>-1.508e+05</td> <td> 2.92e+05</td> <td>   -0.516</td> <td> 0.606</td> <td>-7.24e+05  4.23e+05</td>\n",
       "</tr>\n",
       "<tr>\n",
       "  <th>Studio[T.Abr.]</th>                                         <td>-2.251e+04</td> <td> 5.31e+05</td> <td>   -0.042</td> <td> 0.966</td> <td>-1.06e+06  1.02e+06</td>\n",
       "</tr>\n",
       "<tr>\n",
       "  <th>Studio[T.Alc]</th>                                          <td>-4.056e+04</td> <td> 3.68e+05</td> <td>   -0.110</td> <td> 0.912</td> <td>-7.63e+05  6.82e+05</td>\n",
       "</tr>\n",
       "<tr>\n",
       "  <th>Studio[T.Ampl.]</th>                                        <td>-1.132e+04</td> <td> 2.15e+05</td> <td>   -0.053</td> <td> 0.958</td> <td>-4.34e+05  4.11e+05</td>\n",
       "</tr>\n",
       "<tr>\n",
       "  <th>Studio[T.Anch.]</th>                                        <td> 1.082e+04</td> <td> 5.41e+06</td> <td>    0.002</td> <td> 0.998</td> <td>-1.06e+07  1.06e+07</td>\n",
       "</tr>\n",
       "<tr>\n",
       "  <th>Studio[T.App.]</th>                                         <td>-1.007e+06</td> <td> 8.03e+05</td> <td>   -1.254</td> <td> 0.210</td> <td>-2.58e+06  5.69e+05</td>\n",
       "</tr>\n",
       "<tr>\n",
       "  <th>Studio[T.ArcEnt]</th>                                       <td> 1.578e+05</td> <td> 6.09e+05</td> <td>    0.259</td> <td> 0.796</td> <td>-1.04e+06  1.35e+06</td>\n",
       "</tr>\n",
       "<tr>\n",
       "  <th>Studio[T.Aren]</th>                                         <td>-5.865e+05</td> <td> 2.55e+05</td> <td>   -2.299</td> <td> 0.022</td> <td>-1.09e+06  -8.6e+04</td>\n",
       "</tr>\n",
       "<tr>\n",
       "  <th>Studio[T.Argo.]</th>                                        <td>-2.634e+05</td> <td> 7.67e+06</td> <td>   -0.034</td> <td> 0.973</td> <td>-1.53e+07  1.48e+07</td>\n",
       "</tr>\n",
       "<tr>\n",
       "  <th>Studio[T.Asp.]</th>                                         <td> 3.049e+05</td> <td> 2.58e+05</td> <td>    1.180</td> <td> 0.238</td> <td>-2.02e+05  8.12e+05</td>\n",
       "</tr>\n",
       "<tr>\n",
       "  <th>Studio[T.BDF]</th>                                          <td> 3.899e+04</td> <td> 2.09e+05</td> <td>    0.186</td> <td> 0.852</td> <td>-3.72e+05   4.5e+05</td>\n",
       "</tr>\n",
       "<tr>\n",
       "  <th>Studio[T.BGP]</th>                                          <td>  -5.7e+04</td> <td> 1.91e+05</td> <td>   -0.298</td> <td> 0.766</td> <td>-4.32e+05  3.18e+05</td>\n",
       "</tr>\n",
       "<tr>\n",
       "  <th>Studio[T.BPE]</th>                                          <td>-8.529e+04</td> <td> 8.97e+04</td> <td>   -0.951</td> <td> 0.342</td> <td>-2.61e+05  9.07e+04</td>\n",
       "</tr>\n",
       "<tr>\n",
       "  <th>Studio[T.BSC]</th>                                          <td>-1.099e+05</td> <td> 1.21e+05</td> <td>   -0.906</td> <td> 0.365</td> <td>-3.48e+05  1.28e+05</td>\n",
       "</tr>\n",
       "<tr>\n",
       "  <th>Studio[T.BST]</th>                                          <td> 1.587e+05</td> <td> 1.97e+05</td> <td>    0.806</td> <td> 0.420</td> <td>-2.28e+05  5.45e+05</td>\n",
       "</tr>\n",
       "<tr>\n",
       "  <th>Studio[T.BV]</th>                                           <td> 1.667e+07</td> <td> 4.24e+06</td> <td>    3.934</td> <td> 0.000</td> <td> 8.36e+06   2.5e+07</td>\n",
       "</tr>\n",
       "<tr>\n",
       "  <th>Studio[T.C/360]</th>                                        <td>-6.092e-09</td> <td> 4.34e-09</td> <td>   -1.404</td> <td> 0.160</td> <td>-1.46e-08  2.42e-09</td>\n",
       "</tr>\n",
       "<tr>\n",
       "  <th>Studio[T.CAVU]</th>                                         <td>-9.172e+04</td> <td> 7.15e+04</td> <td>   -1.283</td> <td> 0.200</td> <td>-2.32e+05  4.85e+04</td>\n",
       "</tr>\n",
       "<tr>\n",
       "  <th>Studio[T.CBS]</th>                                          <td>-2.956e+06</td> <td>  7.4e+06</td> <td>   -0.400</td> <td> 0.689</td> <td>-1.75e+07  1.16e+07</td>\n",
       "</tr>\n",
       "<tr>\n",
       "  <th>Studio[T.CE]</th>                                           <td>-1.819e+05</td> <td> 4.32e+05</td> <td>   -0.421</td> <td> 0.674</td> <td>-1.03e+06  6.65e+05</td>\n",
       "</tr>\n",
       "<tr>\n",
       "  <th>Studio[T.CJ]</th>                                           <td> 2.856e+05</td> <td> 1.79e+05</td> <td>    1.594</td> <td> 0.111</td> <td>-6.59e+04  6.37e+05</td>\n",
       "</tr>\n",
       "<tr>\n",
       "  <th>Studio[T.CL]</th>                                           <td>-2.491e+05</td> <td> 3.77e+05</td> <td>   -0.661</td> <td> 0.509</td> <td>-9.88e+05   4.9e+05</td>\n",
       "</tr>\n",
       "<tr>\n",
       "  <th>Studio[T.CLF]</th>                                          <td> 3862.5374</td> <td> 1.07e+05</td> <td>    0.036</td> <td> 0.971</td> <td>-2.07e+05  2.14e+05</td>\n",
       "</tr>\n",
       "<tr>\n",
       "  <th>Studio[T.CP]</th>                                           <td>-4.539e+05</td> <td> 2.86e+05</td> <td>   -1.590</td> <td> 0.112</td> <td>-1.01e+06  1.06e+05</td>\n",
       "</tr>\n",
       "<tr>\n",
       "  <th>Studio[T.Cdgm.]</th>                                        <td> 8.291e+04</td> <td> 2.07e+05</td> <td>    0.401</td> <td> 0.689</td> <td>-3.23e+05  4.89e+05</td>\n",
       "</tr>\n",
       "<tr>\n",
       "  <th>Studio[T.Cini]</th>                                         <td> 7.264e+04</td> <td> 9.15e+04</td> <td>    0.794</td> <td> 0.427</td> <td>-1.07e+05  2.52e+05</td>\n",
       "</tr>\n",
       "<tr>\n",
       "  <th>Studio[T.Code]</th>                                         <td>-2.642e+05</td> <td> 3.67e+05</td> <td>   -0.720</td> <td> 0.472</td> <td>-9.84e+05  4.56e+05</td>\n",
       "</tr>\n",
       "<tr>\n",
       "  <th>Studio[T.Cohen]</th>                                        <td> 1.282e+06</td> <td> 9.42e+05</td> <td>    1.360</td> <td> 0.174</td> <td>-5.67e+05  3.13e+06</td>\n",
       "</tr>\n",
       "<tr>\n",
       "  <th>Studio[T.Cort.]</th>                                        <td> 2.778e+04</td> <td> 1.55e+05</td> <td>    0.179</td> <td> 0.858</td> <td>-2.77e+05  3.32e+05</td>\n",
       "</tr>\n",
       "<tr>\n",
       "  <th>Studio[T.Crnth]</th>                                        <td> 6640.0209</td> <td> 1.68e+05</td> <td>    0.040</td> <td> 0.968</td> <td>-3.23e+05  3.36e+05</td>\n",
       "</tr>\n",
       "<tr>\n",
       "  <th>Studio[T.DLA]</th>                                          <td>-1532.7237</td> <td> 1.03e+05</td> <td>   -0.015</td> <td> 0.988</td> <td>-2.05e+05  2.01e+05</td>\n",
       "</tr>\n",
       "<tr>\n",
       "  <th>Studio[T.DM]</th>                                           <td> 5.313e+04</td> <td> 9.55e+04</td> <td>    0.556</td> <td> 0.578</td> <td>-1.34e+05  2.41e+05</td>\n",
       "</tr>\n",
       "<tr>\n",
       "  <th>Studio[T.DTP]</th>                                          <td>-5.288e+04</td> <td> 1.05e+05</td> <td>   -0.506</td> <td> 0.613</td> <td>-2.58e+05  1.52e+05</td>\n",
       "</tr>\n",
       "<tr>\n",
       "  <th>Studio[T.DWOES]</th>                                        <td> 6.809e+04</td> <td> 6.06e+05</td> <td>    0.112</td> <td> 0.910</td> <td>-1.12e+06  1.26e+06</td>\n",
       "</tr>\n",
       "<tr>\n",
       "  <th>Studio[T.Da.]</th>                                          <td> 1.056e+05</td> <td> 1.55e+05</td> <td>    0.680</td> <td> 0.496</td> <td>-1.99e+05   4.1e+05</td>\n",
       "</tr>\n",
       "<tr>\n",
       "  <th>Studio[T.Drft.]</th>                                        <td>-1.802e+05</td> <td> 1.07e+05</td> <td>   -1.689</td> <td> 0.092</td> <td> -3.9e+05  2.92e+04</td>\n",
       "</tr>\n",
       "<tr>\n",
       "  <th>Studio[T.E1]</th>                                           <td>-1.051e+05</td> <td> 3.63e+05</td> <td>   -0.289</td> <td> 0.772</td> <td>-8.18e+05  6.08e+05</td>\n",
       "</tr>\n",
       "<tr>\n",
       "  <th>Studio[T.EC]</th>                                           <td>-9.443e+04</td> <td> 1.29e+05</td> <td>   -0.732</td> <td> 0.464</td> <td>-3.48e+05  1.59e+05</td>\n",
       "</tr>\n",
       "<tr>\n",
       "  <th>Studio[T.EOne]</th>                                         <td>-1.663e+06</td> <td> 7.66e+06</td> <td>   -0.217</td> <td> 0.828</td> <td>-1.67e+07  1.34e+07</td>\n",
       "</tr>\n",
       "<tr>\n",
       "  <th>Studio[T.Embr.]</th>                                        <td> 2.888e-09</td> <td> 5.73e-09</td> <td>    0.504</td> <td> 0.614</td> <td>-8.36e-09  1.41e-08</td>\n",
       "</tr>\n",
       "<tr>\n",
       "  <th>Studio[T.Eros]</th>                                         <td> 9.355e+04</td> <td> 2.64e+05</td> <td>    0.354</td> <td> 0.723</td> <td>-4.24e+05  6.11e+05</td>\n",
       "</tr>\n",
       "<tr>\n",
       "  <th>Studio[T.FC]</th>                                           <td> 2.325e+05</td> <td> 2.08e+05</td> <td>    1.120</td> <td> 0.263</td> <td>-1.75e+05   6.4e+05</td>\n",
       "</tr>\n",
       "<tr>\n",
       "  <th>Studio[T.FD]</th>                                           <td>  3.27e+06</td> <td> 8.08e+06</td> <td>    0.405</td> <td> 0.686</td> <td>-1.26e+07  1.91e+07</td>\n",
       "</tr>\n",
       "<tr>\n",
       "  <th>Studio[T.FDem]</th>                                         <td>-9.218e+04</td> <td> 7.55e+04</td> <td>   -1.221</td> <td> 0.222</td> <td> -2.4e+05  5.59e+04</td>\n",
       "</tr>\n",
       "<tr>\n",
       "  <th>Studio[T.FDesk]</th>                                        <td>-4.333e+05</td> <td> 9.04e+05</td> <td>   -0.479</td> <td> 0.632</td> <td>-2.21e+06  1.34e+06</td>\n",
       "</tr>\n",
       "<tr>\n",
       "  <th>Studio[T.FIP]</th>                                          <td> 3.895e+05</td> <td> 8.68e+05</td> <td>    0.449</td> <td> 0.654</td> <td>-1.31e+06  2.09e+06</td>\n",
       "</tr>\n",
       "<tr>\n",
       "  <th>Studio[T.FOAK]</th>                                         <td>-1.379e+05</td> <td>  7.5e+04</td> <td>   -1.839</td> <td> 0.066</td> <td>-2.85e+05  9232.431</td>\n",
       "</tr>\n",
       "<tr>\n",
       "  <th>Studio[T.FRun]</th>                                         <td> 1.624e+04</td> <td> 1.15e+05</td> <td>    0.141</td> <td> 0.888</td> <td> -2.1e+05  2.42e+05</td>\n",
       "</tr>\n",
       "<tr>\n",
       "  <th>Studio[T.FTP]</th>                                          <td>-1.011e+05</td> <td> 1.49e+05</td> <td>   -0.680</td> <td> 0.497</td> <td>-3.93e+05  1.91e+05</td>\n",
       "</tr>\n",
       "<tr>\n",
       "  <th>Studio[T.Focus]</th>                                        <td> -2.07e+06</td> <td> 5.23e+06</td> <td>   -0.396</td> <td> 0.692</td> <td>-1.23e+07  8.19e+06</td>\n",
       "</tr>\n",
       "<tr>\n",
       "  <th>Studio[T.Fox]</th>                                          <td>-9.188e+06</td> <td> 4.14e+06</td> <td>   -2.219</td> <td> 0.027</td> <td>-1.73e+07 -1.06e+06</td>\n",
       "</tr>\n",
       "<tr>\n",
       "  <th>Studio[T.FoxS]</th>                                         <td> 3.721e+06</td> <td> 5.08e+06</td> <td>    0.733</td> <td> 0.464</td> <td>-6.24e+06  1.37e+07</td>\n",
       "</tr>\n",
       "<tr>\n",
       "  <th>Studio[T.Free]</th>                                         <td> 1.435e+06</td> <td> 5.03e+06</td> <td>    0.285</td> <td> 0.775</td> <td>-8.43e+06  1.13e+07</td>\n",
       "</tr>\n",
       "<tr>\n",
       "  <th>Studio[T.GFl]</th>                                          <td>-1.697e+05</td> <td> 1.27e+05</td> <td>   -1.332</td> <td> 0.183</td> <td> -4.2e+05  8.03e+04</td>\n",
       "</tr>\n",
       "<tr>\n",
       "  <th>Studio[T.GK]</th>                                           <td>-4.988e+06</td> <td> 1.95e+06</td> <td>   -2.563</td> <td> 0.011</td> <td>-8.81e+06 -1.17e+06</td>\n",
       "</tr>\n",
       "<tr>\n",
       "  <th>Studio[T.GMF]</th>                                          <td>-1.642e+05</td> <td> 7.09e+04</td> <td>   -2.317</td> <td> 0.021</td> <td>-3.03e+05 -2.51e+04</td>\n",
       "</tr>\n",
       "<tr>\n",
       "  <th>Studio[T.GPR]</th>                                          <td> 6.453e+04</td> <td> 2.08e+05</td> <td>    0.311</td> <td> 0.756</td> <td>-3.43e+05  4.72e+05</td>\n",
       "</tr>\n",
       "<tr>\n",
       "  <th>Studio[T.Gathr]</th>                                        <td> -9.51e+04</td> <td> 6.32e+05</td> <td>   -0.151</td> <td> 0.880</td> <td>-1.33e+06  1.14e+06</td>\n",
       "</tr>\n",
       "<tr>\n",
       "  <th>Studio[T.Gold.]</th>                                        <td>-3.855e+06</td> <td> 1.87e+06</td> <td>   -2.065</td> <td> 0.039</td> <td>-7.52e+06 -1.92e+05</td>\n",
       "</tr>\n",
       "<tr>\n",
       "  <th>Studio[T.HF]</th>                                           <td>-7.912e+04</td> <td> 1.49e+05</td> <td>   -0.532</td> <td> 0.595</td> <td>-3.71e+05  2.13e+05</td>\n",
       "</tr>\n",
       "<tr>\n",
       "  <th>Studio[T.HTR]</th>                                          <td> -1.38e+05</td> <td>  4.6e+05</td> <td>   -0.300</td> <td> 0.764</td> <td>-1.04e+06  7.64e+05</td>\n",
       "</tr>\n",
       "<tr>\n",
       "  <th>Studio[T.Hann.]</th>                                        <td>  5.43e+05</td> <td> 6.56e+05</td> <td>    0.828</td> <td> 0.408</td> <td>-7.44e+05  1.83e+06</td>\n",
       "</tr>\n",
       "<tr>\n",
       "  <th>Studio[T.ICir]</th>                                         <td>-1.192e-09</td> <td> 1.07e-09</td> <td>   -1.117</td> <td> 0.264</td> <td>-3.29e-09  9.02e-10</td>\n",
       "</tr>\n",
       "<tr>\n",
       "  <th>Studio[T.IFC]</th>                                          <td>-2.873e+05</td> <td> 4.27e+05</td> <td>   -0.672</td> <td> 0.501</td> <td>-1.13e+06  5.51e+05</td>\n",
       "</tr>\n",
       "<tr>\n",
       "  <th>Studio[T.IM]</th>                                           <td> 9.317e+04</td> <td> 2.65e+05</td> <td>    0.352</td> <td> 0.725</td> <td>-4.26e+05  6.13e+05</td>\n",
       "</tr>\n",
       "<tr>\n",
       "  <th>Studio[T.IW]</th>                                           <td>-3.424e+04</td> <td> 9.23e+04</td> <td>   -0.371</td> <td> 0.711</td> <td>-2.15e+05  1.47e+05</td>\n",
       "</tr>\n",
       "<tr>\n",
       "  <th>Studio[T.Icar.]</th>                                        <td>-2.646e+06</td> <td> 7.74e+06</td> <td>   -0.342</td> <td> 0.733</td> <td>-1.78e+07  1.25e+07</td>\n",
       "</tr>\n",
       "<tr>\n",
       "  <th>Studio[T.Imag.]</th>                                        <td>-2.885e+06</td> <td> 1.81e+06</td> <td>   -1.592</td> <td> 0.112</td> <td>-6.44e+06  6.71e+05</td>\n",
       "</tr>\n",
       "<tr>\n",
       "  <th>Studio[T.JS]</th>                                           <td> -1.88e+05</td> <td> 8.52e+04</td> <td>   -2.206</td> <td> 0.028</td> <td>-3.55e+05 -2.08e+04</td>\n",
       "</tr>\n",
       "<tr>\n",
       "  <th>Studio[T.Jan.]</th>                                         <td>         0</td> <td>        0</td> <td>      nan</td> <td>   nan</td> <td>        0         0</td>\n",
       "</tr>\n",
       "<tr>\n",
       "  <th>Studio[T.KE]</th>                                           <td> 3.808e+05</td> <td> 1.71e+05</td> <td>    2.226</td> <td> 0.026</td> <td> 4.52e+04  7.16e+05</td>\n",
       "</tr>\n",
       "<tr>\n",
       "  <th>Studio[T.KL]</th>                                           <td> 1.353e+06</td> <td> 6.49e+05</td> <td>    2.085</td> <td> 0.037</td> <td> 7.96e+04  2.63e+06</td>\n",
       "</tr>\n",
       "<tr>\n",
       "  <th>Studio[T.KS]</th>                                           <td>-1.426e+05</td> <td> 9.18e+04</td> <td>   -1.553</td> <td> 0.121</td> <td>-3.23e+05  3.76e+04</td>\n",
       "</tr>\n",
       "<tr>\n",
       "  <th>Studio[T.KVP]</th>                                          <td>-2.149e+05</td> <td> 1.64e+05</td> <td>   -1.313</td> <td> 0.189</td> <td>-5.36e+05  1.06e+05</td>\n",
       "</tr>\n",
       "<tr>\n",
       "  <th>Studio[T.LD]</th>                                           <td>-1.617e+04</td> <td> 3.18e+05</td> <td>   -0.051</td> <td> 0.959</td> <td> -6.4e+05  6.08e+05</td>\n",
       "</tr>\n",
       "<tr>\n",
       "  <th>Studio[T.LG/S]</th>                                         <td>-7.032e+05</td> <td> 6.14e+06</td> <td>   -0.114</td> <td> 0.909</td> <td>-1.28e+07  1.13e+07</td>\n",
       "</tr>\n",
       "<tr>\n",
       "  <th>Studio[T.LGF]</th>                                          <td> 7.112e+06</td> <td> 4.04e+06</td> <td>    1.760</td> <td> 0.079</td> <td>-8.14e+05   1.5e+07</td>\n",
       "</tr>\n",
       "<tr>\n",
       "  <th>Studio[T.Long Shot]</th>                                    <td> 5058.2345</td> <td> 8.35e+04</td> <td>    0.061</td> <td> 0.952</td> <td>-1.59e+05  1.69e+05</td>\n",
       "</tr>\n",
       "<tr>\n",
       "  <th>Studio[T.MBox]</th>                                         <td>-6.253e+05</td> <td> 4.11e+05</td> <td>   -1.522</td> <td> 0.128</td> <td>-1.43e+06  1.81e+05</td>\n",
       "</tr>\n",
       "<tr>\n",
       "  <th>Studio[T.MFG]</th>                                          <td>-1.836e+05</td> <td> 7.77e+04</td> <td>   -2.363</td> <td> 0.018</td> <td>-3.36e+05 -3.11e+04</td>\n",
       "</tr>\n",
       "<tr>\n",
       "  <th>Studio[T.MGM]</th>                                          <td> 8.102e+04</td> <td> 1.11e+05</td> <td>    0.733</td> <td> 0.464</td> <td>-1.36e+05  2.98e+05</td>\n",
       "</tr>\n",
       "<tr>\n",
       "  <th>Studio[T.MNE]</th>                                          <td>-3.763e+05</td> <td> 2.87e+05</td> <td>   -1.309</td> <td> 0.191</td> <td> -9.4e+05  1.88e+05</td>\n",
       "</tr>\n",
       "<tr>\n",
       "  <th>Studio[T.MPI]</th>                                          <td>  9.01e+04</td> <td> 1.48e+05</td> <td>    0.609</td> <td> 0.543</td> <td>   -2e+05   3.8e+05</td>\n",
       "</tr>\n",
       "<tr>\n",
       "  <th>Studio[T.MTE]</th>                                          <td>  2.53e+04</td> <td> 1.39e+05</td> <td>    0.182</td> <td> 0.855</td> <td>-2.47e+05  2.98e+05</td>\n",
       "</tr>\n",
       "<tr>\n",
       "  <th>Studio[T.MVE]</th>                                          <td>-7.662e+04</td> <td> 7.06e+04</td> <td>   -1.085</td> <td> 0.278</td> <td>-2.15e+05  6.19e+04</td>\n",
       "</tr>\n",
       "<tr>\n",
       "  <th>Studio[T.Magn.]</th>                                        <td>-1.639e+05</td> <td> 3.75e+05</td> <td>   -0.437</td> <td> 0.662</td> <td>   -9e+05  5.72e+05</td>\n",
       "</tr>\n",
       "<tr>\n",
       "  <th>Studio[T.Maya]</th>                                         <td>-1.169e+05</td> <td> 1.14e+05</td> <td>   -1.025</td> <td> 0.306</td> <td>-3.41e+05  1.07e+05</td>\n",
       "</tr>\n",
       "<tr>\n",
       "  <th>Studio[T.Mile.]</th>                                        <td>         0</td> <td>        0</td> <td>      nan</td> <td>   nan</td> <td>        0         0</td>\n",
       "</tr>\n",
       "<tr>\n",
       "  <th>Studio[T.Mira.]</th>                                        <td> 1.602e+05</td> <td> 1.88e+05</td> <td>    0.855</td> <td> 0.393</td> <td>-2.08e+05  5.28e+05</td>\n",
       "</tr>\n",
       "<tr>\n",
       "  <th>Studio[T.Mont.]</th>                                        <td> -3.21e+05</td> <td> 3.63e+05</td> <td>   -0.883</td> <td> 0.377</td> <td>-1.03e+06  3.92e+05</td>\n",
       "</tr>\n",
       "<tr>\n",
       "  <th>Studio[T.N/A]</th>                                          <td>-4.447e+05</td> <td> 2.81e+05</td> <td>   -1.581</td> <td> 0.114</td> <td>-9.97e+05  1.07e+05</td>\n",
       "</tr>\n",
       "<tr>\n",
       "  <th>Studio[T.NM]</th>                                           <td> 3.038e+04</td> <td>  1.3e+05</td> <td>    0.234</td> <td> 0.815</td> <td>-2.24e+05  2.85e+05</td>\n",
       "</tr>\n",
       "<tr>\n",
       "  <th>Studio[T.NS]</th>                                           <td> -1.22e+05</td> <td> 1.51e+05</td> <td>   -0.809</td> <td> 0.419</td> <td>-4.18e+05  1.74e+05</td>\n",
       "</tr>\n",
       "<tr>\n",
       "  <th>Studio[T.OGP]</th>                                          <td>-1.273e+05</td> <td> 7.49e+04</td> <td>   -1.700</td> <td> 0.089</td> <td>-2.74e+05  1.96e+04</td>\n",
       "</tr>\n",
       "<tr>\n",
       "  <th>Studio[T.OMNI/FSR]</th>                                     <td>-5.276e+04</td> <td> 9.59e+04</td> <td>   -0.550</td> <td> 0.582</td> <td>-2.41e+05  1.35e+05</td>\n",
       "</tr>\n",
       "<tr>\n",
       "  <th>Studio[T.ORF]</th>                                          <td>-7.788e+06</td> <td> 6.58e+06</td> <td>   -1.184</td> <td> 0.237</td> <td>-2.07e+07  5.12e+06</td>\n",
       "</tr>\n",
       "<tr>\n",
       "  <th>Studio[T.Osci.]</th>                                        <td>-5.776e+04</td> <td>  1.6e+05</td> <td>   -0.361</td> <td> 0.718</td> <td>-3.71e+05  2.56e+05</td>\n",
       "</tr>\n",
       "<tr>\n",
       "  <th>Studio[T.Over.]</th>                                        <td>-3.748e+04</td> <td> 4.44e+05</td> <td>   -0.084</td> <td> 0.933</td> <td>-9.09e+05  8.34e+05</td>\n",
       "</tr>\n",
       "<tr>\n",
       "  <th>Studio[T.P/DW]</th>                                         <td>-2.261e+07</td> <td> 5.42e+06</td> <td>   -4.173</td> <td> 0.000</td> <td>-3.32e+07  -1.2e+07</td>\n",
       "</tr>\n",
       "<tr>\n",
       "  <th>Studio[T.P4]</th>                                           <td> 1.269e+06</td> <td>  6.2e+05</td> <td>    2.047</td> <td> 0.041</td> <td> 5.27e+04  2.48e+06</td>\n",
       "</tr>\n",
       "<tr>\n",
       "  <th>Studio[T.PDA]</th>                                          <td> 8086.7472</td> <td>  1.6e+05</td> <td>    0.051</td> <td> 0.960</td> <td>-3.05e+05  3.21e+05</td>\n",
       "</tr>\n",
       "<tr>\n",
       "  <th>Studio[T.PFR]</th>                                          <td>-1.888e+05</td> <td> 1.76e+05</td> <td>   -1.072</td> <td> 0.284</td> <td>-5.34e+05  1.57e+05</td>\n",
       "</tr>\n",
       "<tr>\n",
       "  <th>Studio[T.PH]</th>                                           <td>-2.152e+05</td> <td> 1.01e+05</td> <td>   -2.137</td> <td> 0.033</td> <td>-4.13e+05 -1.76e+04</td>\n",
       "</tr>\n",
       "<tr>\n",
       "  <th>Studio[T.PHP]</th>                                          <td>-1.207e+05</td> <td> 9.02e+04</td> <td>   -1.338</td> <td> 0.181</td> <td>-2.98e+05  5.63e+04</td>\n",
       "</tr>\n",
       "<tr>\n",
       "  <th>Studio[T.PM]</th>                                           <td> 6.788e+04</td> <td> 2.82e+05</td> <td>    0.240</td> <td> 0.810</td> <td>-4.86e+05  6.22e+05</td>\n",
       "</tr>\n",
       "<tr>\n",
       "  <th>Studio[T.PMK]</th>                                          <td> 1.073e+04</td> <td> 1.54e+05</td> <td>    0.070</td> <td> 0.945</td> <td>-2.92e+05  3.13e+05</td>\n",
       "</tr>\n",
       "<tr>\n",
       "  <th>Studio[T.PMP]</th>                                          <td>-2.129e+05</td> <td> 1.09e+05</td> <td>   -1.960</td> <td> 0.050</td> <td>-4.26e+05   162.252</td>\n",
       "</tr>\n",
       "<tr>\n",
       "  <th>Studio[T.PP]</th>                                           <td>-1.374e+05</td> <td> 9.19e+04</td> <td>   -1.496</td> <td> 0.135</td> <td>-3.18e+05  4.28e+04</td>\n",
       "</tr>\n",
       "<tr>\n",
       "  <th>Studio[T.Par.]</th>                                         <td> 1.894e+06</td> <td> 4.56e+06</td> <td>    0.415</td> <td> 0.678</td> <td>-7.05e+06  1.08e+07</td>\n",
       "</tr>\n",
       "<tr>\n",
       "  <th>Studio[T.ParV]</th>                                         <td> 2.995e+04</td> <td> 4.77e+05</td> <td>    0.063</td> <td> 0.950</td> <td>-9.07e+05  9.66e+05</td>\n",
       "</tr>\n",
       "<tr>\n",
       "  <th>Studio[T.Pas.]</th>                                         <td>  5.92e+04</td> <td> 1.29e+05</td> <td>    0.458</td> <td> 0.647</td> <td>-1.95e+05  3.13e+05</td>\n",
       "</tr>\n",
       "<tr>\n",
       "  <th>Studio[T.Purd.]</th>                                        <td> 3.054e+05</td> <td> 1.32e+05</td> <td>    2.312</td> <td> 0.021</td> <td> 4.63e+04  5.65e+05</td>\n",
       "</tr>\n",
       "<tr>\n",
       "  <th>Studio[T.QM]</th>                                           <td>-1.613e+04</td> <td> 1.47e+05</td> <td>   -0.109</td> <td> 0.913</td> <td>-3.05e+05  2.73e+05</td>\n",
       "</tr>\n",
       "<tr>\n",
       "  <th>Studio[T.R88]</th>                                          <td>-1.299e+05</td> <td> 7.65e+04</td> <td>   -1.698</td> <td> 0.090</td> <td> -2.8e+05  2.02e+04</td>\n",
       "</tr>\n",
       "<tr>\n",
       "  <th>Studio[T.RAtt.]</th>                                        <td> 2.353e+06</td> <td> 4.57e+06</td> <td>    0.515</td> <td> 0.607</td> <td>-6.61e+06  1.13e+07</td>\n",
       "</tr>\n",
       "<tr>\n",
       "  <th>Studio[T.RM]</th>                                           <td>-4.993e+04</td> <td> 6.16e+05</td> <td>   -0.081</td> <td> 0.935</td> <td>-1.26e+06  1.16e+06</td>\n",
       "</tr>\n",
       "<tr>\n",
       "  <th>Studio[T.RR]</th>                                           <td>         0</td> <td>        0</td> <td>      nan</td> <td>   nan</td> <td>        0         0</td>\n",
       "</tr>\n",
       "<tr>\n",
       "  <th>Studio[T.RTWC]</th>                                         <td>-2.108e+05</td> <td> 7.63e+06</td> <td>   -0.028</td> <td> 0.978</td> <td>-1.52e+07  1.48e+07</td>\n",
       "</tr>\n",
       "<tr>\n",
       "  <th>Studio[T.Rela.]</th>                                        <td>-6.813e+06</td> <td>  6.1e+06</td> <td>   -1.117</td> <td> 0.264</td> <td>-1.88e+07  5.16e+06</td>\n",
       "</tr>\n",
       "<tr>\n",
       "  <th>Studio[T.Relbig.]</th>                                      <td>  4.49e+06</td> <td> 7.47e+06</td> <td>    0.601</td> <td> 0.548</td> <td>-1.02e+07  1.91e+07</td>\n",
       "</tr>\n",
       "<tr>\n",
       "  <th>Studio[T.Rialto]</th>                                       <td> 3.492e+06</td> <td> 6.89e+06</td> <td>    0.507</td> <td> 0.613</td> <td>   -1e+07   1.7e+07</td>\n",
       "</tr>\n",
       "<tr>\n",
       "  <th>Studio[T.RivR]</th>                                         <td>-4.289e+04</td> <td> 3.39e+05</td> <td>   -0.127</td> <td> 0.899</td> <td>-7.07e+05  6.22e+05</td>\n",
       "</tr>\n",
       "<tr>\n",
       "  <th>Studio[T.Rog.]</th>                                         <td>-2.116e+04</td> <td> 1.14e+05</td> <td>   -0.186</td> <td> 0.852</td> <td>-2.44e+05  2.02e+05</td>\n",
       "</tr>\n",
       "<tr>\n",
       "  <th>Studio[T.Rum.]</th>                                         <td> 8162.5258</td> <td> 1.67e+05</td> <td>    0.049</td> <td> 0.961</td> <td>-3.19e+05  3.35e+05</td>\n",
       "</tr>\n",
       "<tr>\n",
       "  <th>Studio[T.S/IMA]</th>                                        <td> 4.339e+05</td> <td> 1.92e+05</td> <td>    2.265</td> <td> 0.024</td> <td> 5.81e+04   8.1e+05</td>\n",
       "</tr>\n",
       "<tr>\n",
       "  <th>Studio[T.SE]</th>                                           <td>-1.605e+05</td> <td>  3.6e+05</td> <td>   -0.446</td> <td> 0.656</td> <td>-8.67e+05  5.46e+05</td>\n",
       "</tr>\n",
       "<tr>\n",
       "  <th>Studio[T.SEA]</th>                                          <td>-8.431e+04</td> <td> 7.14e+04</td> <td>   -1.180</td> <td> 0.238</td> <td>-2.24e+05  5.59e+04</td>\n",
       "</tr>\n",
       "<tr>\n",
       "  <th>Studio[T.SGem]</th>                                         <td> 1.505e+07</td> <td> 6.72e+06</td> <td>    2.238</td> <td> 0.025</td> <td> 1.86e+06  2.82e+07</td>\n",
       "</tr>\n",
       "<tr>\n",
       "  <th>Studio[T.SMod]</th>                                         <td>-7.247e+04</td> <td> 1.15e+05</td> <td>   -0.630</td> <td> 0.529</td> <td>-2.98e+05  1.53e+05</td>\n",
       "</tr>\n",
       "<tr>\n",
       "  <th>Studio[T.SPC]</th>                                          <td>-1.106e+05</td> <td>  6.7e+05</td> <td>   -0.165</td> <td> 0.869</td> <td>-1.43e+06   1.2e+06</td>\n",
       "</tr>\n",
       "<tr>\n",
       "  <th>Studio[T.SSP]</th>                                          <td> 5.924e+04</td> <td> 8.07e+04</td> <td>    0.734</td> <td> 0.463</td> <td> -9.9e+04  2.17e+05</td>\n",
       "</tr>\n",
       "<tr>\n",
       "  <th>Studio[T.SV]</th>                                           <td>-2.269e+05</td> <td> 1.66e+05</td> <td>   -1.364</td> <td> 0.173</td> <td>-5.53e+05  9.93e+04</td>\n",
       "</tr>\n",
       "<tr>\n",
       "  <th>Studio[T.Saban]</th>                                        <td> 9.083e+04</td> <td> 1.26e+05</td> <td>    0.720</td> <td> 0.472</td> <td>-1.57e+05  3.38e+05</td>\n",
       "</tr>\n",
       "<tr>\n",
       "  <th>Studio[T.Scre.]</th>                                        <td>-1.387e+05</td> <td> 7.31e+04</td> <td>   -1.899</td> <td> 0.058</td> <td>-2.82e+05  4600.726</td>\n",
       "</tr>\n",
       "<tr>\n",
       "  <th>Studio[T.Sony]</th>                                         <td>-3.018e+06</td> <td> 4.66e+06</td> <td>   -0.647</td> <td> 0.518</td> <td>-1.22e+07  6.13e+06</td>\n",
       "</tr>\n",
       "<tr>\n",
       "  <th>Studio[T.Strand]</th>                                       <td> 3.268e+05</td> <td> 2.59e+05</td> <td>    1.264</td> <td> 0.207</td> <td>-1.81e+05  8.34e+05</td>\n",
       "</tr>\n",
       "<tr>\n",
       "  <th>Studio[T.Sum.]</th>                                         <td>-4.063e+06</td> <td>  8.1e+06</td> <td>   -0.502</td> <td> 0.616</td> <td>   -2e+07  1.18e+07</td>\n",
       "</tr>\n",
       "<tr>\n",
       "  <th>Studio[T.TAT]</th>                                          <td>         0</td> <td>        0</td> <td>      nan</td> <td>   nan</td> <td>        0         0</td>\n",
       "</tr>\n",
       "<tr>\n",
       "  <th>Studio[T.TFA]</th>                                          <td> 5.872e+04</td> <td> 6.21e+06</td> <td>    0.009</td> <td> 0.992</td> <td>-1.21e+07  1.23e+07</td>\n",
       "</tr>\n",
       "<tr>\n",
       "  <th>Studio[T.TFC]</th>                                          <td> 9.091e+05</td> <td> 6.82e+05</td> <td>    1.333</td> <td> 0.183</td> <td>-4.29e+05  2.25e+06</td>\n",
       "</tr>\n",
       "<tr>\n",
       "  <th>Studio[T.TMF&RE]</th>                                       <td>-2.597e+05</td> <td> 3.69e+05</td> <td>   -0.703</td> <td> 0.482</td> <td>-9.84e+05  4.65e+05</td>\n",
       "</tr>\n",
       "<tr>\n",
       "  <th>Studio[T.Tost.]</th>                                        <td>         0</td> <td>        0</td> <td>      nan</td> <td>   nan</td> <td>        0         0</td>\n",
       "</tr>\n",
       "<tr>\n",
       "  <th>Studio[T.TriS]</th>                                         <td> 1.639e+07</td> <td> 7.29e+06</td> <td>    2.247</td> <td> 0.025</td> <td> 2.08e+06  3.07e+07</td>\n",
       "</tr>\n",
       "<tr>\n",
       "  <th>Studio[T.Triu]</th>                                         <td>-2.511e+05</td> <td> 1.36e+05</td> <td>   -1.850</td> <td> 0.065</td> <td>-5.17e+05  1.52e+04</td>\n",
       "</tr>\n",
       "<tr>\n",
       "  <th>Studio[T.Truly]</th>                                        <td> 7.578e+04</td> <td> 1.24e+05</td> <td>    0.609</td> <td> 0.542</td> <td>-1.68e+05   3.2e+05</td>\n",
       "</tr>\n",
       "<tr>\n",
       "  <th>Studio[T.UTMW]</th>                                         <td>         0</td> <td>        0</td> <td>      nan</td> <td>   nan</td> <td>        0         0</td>\n",
       "</tr>\n",
       "<tr>\n",
       "  <th>Studio[T.UTV]</th>                                          <td> 8.309e+05</td> <td> 5.18e+06</td> <td>    0.160</td> <td> 0.873</td> <td>-9.33e+06   1.1e+07</td>\n",
       "</tr>\n",
       "<tr>\n",
       "  <th>Studio[T.Uni.]</th>                                         <td>  1.42e+07</td> <td> 3.89e+06</td> <td>    3.647</td> <td> 0.000</td> <td> 6.56e+06  2.18e+07</td>\n",
       "</tr>\n",
       "<tr>\n",
       "  <th>Studio[T.VE]</th>                                           <td> 2.264e+05</td> <td> 2.06e+05</td> <td>    1.098</td> <td> 0.273</td> <td>-1.78e+05  6.31e+05</td>\n",
       "</tr>\n",
       "<tr>\n",
       "  <th>Studio[T.VPD]</th>                                          <td>-3.077e+04</td> <td> 1.66e+05</td> <td>   -0.185</td> <td> 0.853</td> <td>-3.56e+05  2.95e+05</td>\n",
       "</tr>\n",
       "<tr>\n",
       "  <th>Studio[T.Vari.]</th>                                        <td>         0</td> <td>        0</td> <td>      nan</td> <td>   nan</td> <td>        0         0</td>\n",
       "</tr>\n",
       "<tr>\n",
       "  <th>Studio[T.Visio]</th>                                        <td>         0</td> <td>        0</td> <td>      nan</td> <td>   nan</td> <td>        0         0</td>\n",
       "</tr>\n",
       "<tr>\n",
       "  <th>Studio[T.Viv.]</th>                                         <td>-7.118e+04</td> <td>    1e+05</td> <td>   -0.708</td> <td> 0.479</td> <td>-2.68e+05  1.26e+05</td>\n",
       "</tr>\n",
       "<tr>\n",
       "  <th>Studio[T.W/Dim.]</th>                                       <td>-9.036e+05</td> <td> 1.26e+06</td> <td>   -0.719</td> <td> 0.472</td> <td>-3.37e+06  1.56e+06</td>\n",
       "</tr>\n",
       "<tr>\n",
       "  <th>Studio[T.WAMCR]</th>                                        <td>-9.744e+04</td> <td> 1.56e+05</td> <td>   -0.624</td> <td> 0.533</td> <td>-4.04e+05  2.09e+05</td>\n",
       "</tr>\n",
       "<tr>\n",
       "  <th>Studio[T.WB]</th>                                           <td> 5.916e+05</td> <td> 3.52e+06</td> <td>    0.168</td> <td> 0.866</td> <td>-6.31e+06  7.49e+06</td>\n",
       "</tr>\n",
       "<tr>\n",
       "  <th>Studio[T.WB (NL)]</th>                                      <td> -9.95e+06</td> <td> 7.82e+06</td> <td>   -1.273</td> <td> 0.203</td> <td>-2.53e+07  5.39e+06</td>\n",
       "</tr>\n",
       "<tr>\n",
       "  <th>Studio[T.WGUSA]</th>                                        <td>         0</td> <td>        0</td> <td>      nan</td> <td>   nan</td> <td>        0         0</td>\n",
       "</tr>\n",
       "<tr>\n",
       "  <th>Studio[T.WHE]</th>                                          <td>-1.062e+05</td> <td> 6.72e+04</td> <td>   -1.580</td> <td> 0.114</td> <td>-2.38e+05  2.57e+04</td>\n",
       "</tr>\n",
       "<tr>\n",
       "  <th>Studio[T.Wein.]</th>                                        <td>-4.649e+05</td> <td> 4.38e+06</td> <td>   -0.106</td> <td> 0.915</td> <td>-9.05e+06  8.12e+06</td>\n",
       "</tr>\n",
       "<tr>\n",
       "  <th>Studio[T.Wlfe.]</th>                                        <td> 8.584e+04</td> <td> 1.48e+05</td> <td>    0.581</td> <td> 0.561</td> <td>-2.04e+05  3.76e+05</td>\n",
       "</tr>\n",
       "<tr>\n",
       "  <th>Studio[T.XL]</th>                                           <td>-1.293e+05</td> <td> 1.28e+05</td> <td>   -1.008</td> <td> 0.314</td> <td>-3.81e+05  1.22e+05</td>\n",
       "</tr>\n",
       "<tr>\n",
       "  <th>Studio[T.Yash]</th>                                         <td>-2.272e+06</td> <td> 1.85e+06</td> <td>   -1.226</td> <td> 0.221</td> <td>-5.91e+06  1.37e+06</td>\n",
       "</tr>\n",
       "<tr>\n",
       "  <th>Genre0Brand[T.Action-Dark Castle]</th>                      <td> 3.378e+05</td> <td>  4.2e+05</td> <td>    0.805</td> <td> 0.421</td> <td>-4.86e+05  1.16e+06</td>\n",
       "</tr>\n",
       "<tr>\n",
       "  <th>Genre0Brand[T.Action-Dark Horse Comics]</th>                <td> 3.114e+04</td> <td> 1.34e+05</td> <td>    0.232</td> <td> 0.817</td> <td>-2.33e+05  2.95e+05</td>\n",
       "</tr>\n",
       "<tr>\n",
       "  <th>Genre0Brand[T.Action-Hasbro]</th>                           <td>-2.834e+05</td> <td> 4.24e+05</td> <td>   -0.668</td> <td> 0.504</td> <td>-1.12e+06  5.49e+05</td>\n",
       "</tr>\n",
       "<tr>\n",
       "  <th>Genre0Brand[T.Action-Legendary Pictures]</th>               <td> 5.092e+06</td> <td> 4.06e+06</td> <td>    1.254</td> <td> 0.210</td> <td>-2.87e+06  1.31e+07</td>\n",
       "</tr>\n",
       "<tr>\n",
       "  <th>Genre0Brand[T.Action-Marvel Comics]</th>                    <td> 9.423e+06</td> <td> 2.83e+06</td> <td>    3.328</td> <td> 0.001</td> <td> 3.87e+06   1.5e+07</td>\n",
       "</tr>\n",
       "<tr>\n",
       "  <th>Genre0Brand[T.Action-Nickelodeon]</th>                      <td>-1.034e+05</td> <td> 1.43e+05</td> <td>   -0.721</td> <td> 0.471</td> <td>-3.85e+05  1.78e+05</td>\n",
       "</tr>\n",
       "<tr>\n",
       "  <th>Genre0Brand[T.Action-None]</th>                             <td>-8.316e+05</td> <td> 2.81e+06</td> <td>   -0.296</td> <td> 0.767</td> <td>-6.35e+06  4.68e+06</td>\n",
       "</tr>\n",
       "<tr>\n",
       "  <th>Genre0Brand[T.Action-Philip K. Dick]</th>                   <td>-1.646e+05</td> <td> 1.76e+05</td> <td>   -0.938</td> <td> 0.348</td> <td>-5.09e+05   1.8e+05</td>\n",
       "</tr>\n",
       "<tr>\n",
       "  <th>Genre0Brand[T.Action-Robert Ludlum]</th>                    <td> 6.211e+04</td> <td> 1.72e+05</td> <td>    0.362</td> <td> 0.718</td> <td>-2.75e+05  3.99e+05</td>\n",
       "</tr>\n",
       "<tr>\n",
       "  <th>Genre0Brand[T.Action-Saturday Night Live]</th>              <td> 4.519e+04</td> <td> 1.62e+05</td> <td>    0.279</td> <td> 0.780</td> <td>-2.73e+05  3.63e+05</td>\n",
       "</tr>\n",
       "<tr>\n",
       "  <th>Genre0Brand[T.Action-Walden Media]</th>                     <td>-1.077e+05</td> <td> 1.25e+05</td> <td>   -0.865</td> <td> 0.387</td> <td>-3.52e+05  1.37e+05</td>\n",
       "</tr>\n",
       "<tr>\n",
       "  <th>Genre0Brand[T.Adventure-Legendary Pictures]</th>            <td>-2.785e+04</td> <td> 1.08e+06</td> <td>   -0.026</td> <td> 0.979</td> <td>-2.15e+06  2.09e+06</td>\n",
       "</tr>\n",
       "<tr>\n",
       "  <th>Genre0Brand[T.Adventure-Nickelodeon]</th>                   <td>-3.143e+04</td> <td> 1.51e+05</td> <td>   -0.208</td> <td> 0.835</td> <td>-3.28e+05  2.65e+05</td>\n",
       "</tr>\n",
       "<tr>\n",
       "  <th>Genre0Brand[T.Adventure-None]</th>                          <td>-1.036e+06</td> <td> 4.67e+06</td> <td>   -0.222</td> <td> 0.824</td> <td>-1.02e+07  8.12e+06</td>\n",
       "</tr>\n",
       "<tr>\n",
       "  <th>Genre0Brand[T.Adventure-Tim Burton-Johnny Depp]</th>        <td>  3.49e+05</td> <td> 1.33e+05</td> <td>    2.623</td> <td> 0.009</td> <td> 8.79e+04   6.1e+05</td>\n",
       "</tr>\n",
       "<tr>\n",
       "  <th>Genre0Brand[T.Adventure-Walden Media]</th>                  <td> 8.135e+05</td> <td> 4.98e+05</td> <td>    1.632</td> <td> 0.103</td> <td>-1.64e+05  1.79e+06</td>\n",
       "</tr>\n",
       "<tr>\n",
       "  <th>Genre0Brand[T.Animation-Aardman]</th>                       <td>-1.697e+04</td> <td> 1.69e+05</td> <td>   -0.100</td> <td> 0.920</td> <td>-3.49e+05  3.15e+05</td>\n",
       "</tr>\n",
       "<tr>\n",
       "  <th>Genre0Brand[T.Animation-Blue Sky]</th>                      <td> 2.168e+05</td> <td> 6.91e+05</td> <td>    0.314</td> <td> 0.754</td> <td>-1.14e+06  1.57e+06</td>\n",
       "</tr>\n",
       "<tr>\n",
       "  <th>Genre0Brand[T.Animation-Disneynature]</th>                  <td> 5.251e+04</td> <td> 2.12e+05</td> <td>    0.247</td> <td> 0.805</td> <td>-3.64e+05  4.69e+05</td>\n",
       "</tr>\n",
       "<tr>\n",
       "  <th>Genre0Brand[T.Animation-DreamWorks Animation]</th>          <td>-2.182e+07</td> <td> 5.19e+06</td> <td>   -4.203</td> <td> 0.000</td> <td> -3.2e+07 -1.16e+07</td>\n",
       "</tr>\n",
       "<tr>\n",
       "  <th>Genre0Brand[T.Animation-Illumination Entertainment]</th>    <td> 2.058e+06</td> <td> 5.99e+05</td> <td>    3.437</td> <td> 0.001</td> <td> 8.83e+05  3.23e+06</td>\n",
       "</tr>\n",
       "<tr>\n",
       "  <th>Genre0Brand[T.Animation-Laika]</th>                         <td> 4.731e+05</td> <td> 4.21e+05</td> <td>    1.124</td> <td> 0.261</td> <td>-3.53e+05   1.3e+06</td>\n",
       "</tr>\n",
       "<tr>\n",
       "  <th>Genre0Brand[T.Animation-Marvel Comics]</th>                 <td> 4.741e+05</td> <td> 1.25e+05</td> <td>    3.793</td> <td> 0.000</td> <td> 2.29e+05  7.19e+05</td>\n",
       "</tr>\n",
       "<tr>\n",
       "  <th>Genre0Brand[T.Animation-Nickelodeon]</th>                   <td> 3.393e+04</td> <td> 1.15e+05</td> <td>    0.296</td> <td> 0.767</td> <td>-1.91e+05  2.59e+05</td>\n",
       "</tr>\n",
       "<tr>\n",
       "  <th>Genre0Brand[T.Animation-None]</th>                          <td>-6.357e+06</td> <td> 4.65e+06</td> <td>   -1.369</td> <td> 0.171</td> <td>-1.55e+07  2.76e+06</td>\n",
       "</tr>\n",
       "<tr>\n",
       "  <th>Genre0Brand[T.Animation-Pixar]</th>                         <td> 1.636e+06</td> <td> 3.26e+05</td> <td>    5.019</td> <td> 0.000</td> <td> 9.97e+05  2.28e+06</td>\n",
       "</tr>\n",
       "<tr>\n",
       "  <th>Genre0Brand[T.Animation-Sony Pictures Animation]</th>       <td> 6.704e+05</td> <td> 4.85e+05</td> <td>    1.382</td> <td> 0.167</td> <td>-2.82e+05  1.62e+06</td>\n",
       "</tr>\n",
       "<tr>\n",
       "  <th>Genre0Brand[T.Animation-Walt Disney Animation Studios]</th> <td>  2.44e+06</td> <td> 6.11e+05</td> <td>    3.991</td> <td> 0.000</td> <td> 1.24e+06  3.64e+06</td>\n",
       "</tr>\n",
       "<tr>\n",
       "  <th>Genre0Brand[T.Biography-Legendary Pictures]</th>            <td> 3.778e+05</td> <td>  1.4e+05</td> <td>    2.706</td> <td> 0.007</td> <td> 1.04e+05  6.52e+05</td>\n",
       "</tr>\n",
       "<tr>\n",
       "  <th>Genre0Brand[T.Biography-None]</th>                          <td> 1.744e+06</td> <td> 4.49e+06</td> <td>    0.389</td> <td> 0.697</td> <td>-7.06e+06  1.05e+07</td>\n",
       "</tr>\n",
       "<tr>\n",
       "  <th>Genre0Brand[T.Biography-Walden Media]</th>                  <td>         0</td> <td>        0</td> <td>      nan</td> <td>   nan</td> <td>        0         0</td>\n",
       "</tr>\n",
       "<tr>\n",
       "  <th>Genre0Brand[T.Comedy-Legendary Pictures]</th>               <td> 1.072e+06</td> <td> 3.84e+05</td> <td>    2.789</td> <td> 0.005</td> <td> 3.18e+05  1.83e+06</td>\n",
       "</tr>\n",
       "<tr>\n",
       "  <th>Genre0Brand[T.Comedy-MTV]</th>                              <td> 5.324e+05</td> <td>    3e+05</td> <td>    1.773</td> <td> 0.076</td> <td>-5.67e+04  1.12e+06</td>\n",
       "</tr>\n",
       "<tr>\n",
       "  <th>Genre0Brand[T.Comedy-None]</th>                             <td>-3.851e+05</td> <td> 2.58e+06</td> <td>   -0.150</td> <td> 0.881</td> <td>-5.44e+06  4.67e+06</td>\n",
       "</tr>\n",
       "<tr>\n",
       "  <th>Genre0Brand[T.Comedy-Tim Burton-Johnny Depp]</th>           <td>-6.379e+04</td> <td> 1.25e+05</td> <td>   -0.510</td> <td> 0.610</td> <td>-3.09e+05  1.81e+05</td>\n",
       "</tr>\n",
       "<tr>\n",
       "  <th>Genre0Brand[T.Comedy-Tyler Perry]</th>                      <td> 1.599e+06</td> <td> 9.53e+05</td> <td>    1.678</td> <td> 0.094</td> <td>-2.71e+05  3.47e+06</td>\n",
       "</tr>\n",
       "<tr>\n",
       "  <th>Genre0Brand[T.Comedy-Walden Media]</th>                     <td>-1.142e+05</td> <td> 1.52e+05</td> <td>   -0.752</td> <td> 0.452</td> <td>-4.12e+05  1.84e+05</td>\n",
       "</tr>\n",
       "<tr>\n",
       "  <th>Genre0Brand[T.Crime-Dark Horse Comics]</th>                 <td>-1.235e+05</td> <td> 2.32e+05</td> <td>   -0.533</td> <td> 0.594</td> <td>-5.78e+05  3.31e+05</td>\n",
       "</tr>\n",
       "<tr>\n",
       "  <th>Genre0Brand[T.Crime-Legendary Pictures]</th>                <td>         0</td> <td>        0</td> <td>      nan</td> <td>   nan</td> <td>        0         0</td>\n",
       "</tr>\n",
       "<tr>\n",
       "  <th>Genre0Brand[T.Crime-None]</th>                              <td>-1.292e+06</td> <td> 4.84e+06</td> <td>   -0.267</td> <td> 0.790</td> <td>-1.08e+07  8.21e+06</td>\n",
       "</tr>\n",
       "<tr>\n",
       "  <th>Genre0Brand[T.Documentary-Disneynature]</th>                <td> 4.588e+05</td> <td> 6.61e+05</td> <td>    0.694</td> <td> 0.488</td> <td>-8.38e+05  1.76e+06</td>\n",
       "</tr>\n",
       "<tr>\n",
       "  <th>Genre0Brand[T.Documentary-MTV]</th>                         <td> 3.664e+05</td> <td> 2.98e+05</td> <td>    1.231</td> <td> 0.219</td> <td>-2.18e+05  9.51e+05</td>\n",
       "</tr>\n",
       "<tr>\n",
       "  <th>Genre0Brand[T.Documentary-None]</th>                        <td> 1.417e+06</td> <td> 3.72e+06</td> <td>    0.381</td> <td> 0.704</td> <td>-5.89e+06  8.72e+06</td>\n",
       "</tr>\n",
       "<tr>\n",
       "  <th>Genre0Brand[T.Documentary-Walden Media]</th>                <td> 1.697e+05</td> <td> 1.89e+05</td> <td>    0.898</td> <td> 0.369</td> <td>-2.01e+05  5.41e+05</td>\n",
       "</tr>\n",
       "<tr>\n",
       "  <th>Genre0Brand[T.Drama-Nicholas Sparks]</th>                   <td> 1.578e+06</td> <td> 1.95e+06</td> <td>    0.809</td> <td> 0.418</td> <td>-2.25e+06   5.4e+06</td>\n",
       "</tr>\n",
       "<tr>\n",
       "  <th>Genre0Brand[T.Drama-None]</th>                              <td>-1.046e+06</td> <td> 2.71e+06</td> <td>   -0.386</td> <td> 0.700</td> <td>-6.36e+06  4.27e+06</td>\n",
       "</tr>\n",
       "<tr>\n",
       "  <th>Genre0Brand[T.Drama-Philip K. Dick]</th>                    <td>         0</td> <td>        0</td> <td>      nan</td> <td>   nan</td> <td>        0         0</td>\n",
       "</tr>\n",
       "<tr>\n",
       "  <th>Genre0Brand[T.Drama-Stephen King]</th>                      <td> 1.001e+06</td> <td> 4.32e+05</td> <td>    2.319</td> <td> 0.021</td> <td> 1.54e+05  1.85e+06</td>\n",
       "</tr>\n",
       "<tr>\n",
       "  <th>Genre0Brand[T.Drama-Tyler Perry]</th>                       <td>         0</td> <td>        0</td> <td>      nan</td> <td>   nan</td> <td>        0         0</td>\n",
       "</tr>\n",
       "<tr>\n",
       "  <th>Genre0Brand[T.Drama-Walden Media]</th>                      <td>-3.574e+05</td> <td> 1.92e+05</td> <td>   -1.864</td> <td> 0.062</td> <td>-7.33e+05  1.87e+04</td>\n",
       "</tr>\n",
       "<tr>\n",
       "  <th>Genre0Brand[T.Family-None]</th>                             <td> -1.87e+05</td> <td>  6.4e+05</td> <td>   -0.292</td> <td> 0.770</td> <td>-1.44e+06  1.07e+06</td>\n",
       "</tr>\n",
       "<tr>\n",
       "  <th>Genre0Brand[T.Fantasy-None]</th>                            <td> 1.275e+06</td> <td> 1.24e+06</td> <td>    1.026</td> <td> 0.305</td> <td>-1.16e+06  3.71e+06</td>\n",
       "</tr>\n",
       "<tr>\n",
       "  <th>Genre0Brand[T.History-None]</th>                            <td> 4.339e+05</td> <td> 1.92e+05</td> <td>    2.265</td> <td> 0.024</td> <td> 5.81e+04   8.1e+05</td>\n",
       "</tr>\n",
       "<tr>\n",
       "  <th>Genre0Brand[T.Horror-Dark Castle]</th>                      <td> 4.023e+05</td> <td> 3.16e+05</td> <td>    1.271</td> <td> 0.204</td> <td>-2.18e+05  1.02e+06</td>\n",
       "</tr>\n",
       "<tr>\n",
       "  <th>Genre0Brand[T.Horror-Hasbro]</th>                           <td>         0</td> <td>        0</td> <td>      nan</td> <td>   nan</td> <td>        0         0</td>\n",
       "</tr>\n",
       "<tr>\n",
       "  <th>Genre0Brand[T.Horror-None]</th>                             <td>-5.393e+06</td> <td> 4.84e+06</td> <td>   -1.115</td> <td> 0.265</td> <td>-1.49e+07  4.09e+06</td>\n",
       "</tr>\n",
       "<tr>\n",
       "  <th>Genre0Brand[T.Music-None]</th>                              <td> 1.066e+06</td> <td> 4.57e+05</td> <td>    2.332</td> <td> 0.020</td> <td> 1.69e+05  1.96e+06</td>\n",
       "</tr>\n",
       "<tr>\n",
       "  <th>Genre0Brand[T.Musical-None]</th>                            <td> 1.827e+05</td> <td>    2e+05</td> <td>    0.912</td> <td> 0.362</td> <td> -2.1e+05  5.76e+05</td>\n",
       "</tr>\n",
       "<tr>\n",
       "  <th>Genre0Brand[T.Mystery-None]</th>                            <td>-2.779e+06</td> <td> 2.63e+06</td> <td>   -1.058</td> <td> 0.290</td> <td>-7.93e+06  2.38e+06</td>\n",
       "</tr>\n",
       "<tr>\n",
       "  <th>Genre0Brand[T.N/A-None]</th>                                <td>-4.019e+06</td> <td> 5.52e+06</td> <td>   -0.728</td> <td> 0.467</td> <td>-1.49e+07  6.81e+06</td>\n",
       "</tr>\n",
       "<tr>\n",
       "  <th>Genre0Brand[T.N/A-Tyler Perry]</th>                         <td>         0</td> <td>        0</td> <td>      nan</td> <td>   nan</td> <td>        0         0</td>\n",
       "</tr>\n",
       "<tr>\n",
       "  <th>Genre0Brand[T.News-None]</th>                               <td>-1.477e+05</td> <td> 3.85e+05</td> <td>   -0.383</td> <td> 0.702</td> <td>-9.04e+05  6.08e+05</td>\n",
       "</tr>\n",
       "<tr>\n",
       "  <th>Genre0Brand[T.Reality-TV-None]</th>                         <td>-3.399e+04</td> <td> 1.74e+05</td> <td>   -0.196</td> <td> 0.845</td> <td>-3.75e+05  3.07e+05</td>\n",
       "</tr>\n",
       "<tr>\n",
       "  <th>Genre0Brand[T.Romance-None]</th>                            <td> 4590.5531</td> <td> 7.51e+05</td> <td>    0.006</td> <td> 0.995</td> <td>-1.47e+06  1.48e+06</td>\n",
       "</tr>\n",
       "<tr>\n",
       "  <th>Genre0Brand[T.Romance-Philip K. Dick]</th>                  <td> 2.462e+05</td> <td> 1.48e+05</td> <td>    1.665</td> <td> 0.096</td> <td>-4.38e+04  5.36e+05</td>\n",
       "</tr>\n",
       "<tr>\n",
       "  <th>Genre0Brand[T.Sci-Fi-None]</th>                             <td> 1.194e+06</td> <td> 9.51e+05</td> <td>    1.256</td> <td> 0.209</td> <td>-6.71e+05  3.06e+06</td>\n",
       "</tr>\n",
       "<tr>\n",
       "  <th>Genre0Brand[T.Short-None]</th>                              <td> 8.662e+06</td> <td> 4.57e+06</td> <td>    1.897</td> <td> 0.058</td> <td>-2.96e+05  1.76e+07</td>\n",
       "</tr>\n",
       "<tr>\n",
       "  <th>Genre0Brand[T.Talk-Show-None]</th>                          <td> 6.661e+05</td> <td> 5.69e+05</td> <td>    1.171</td> <td> 0.242</td> <td> -4.5e+05  1.78e+06</td>\n",
       "</tr>\n",
       "<tr>\n",
       "  <th>Genre0Brand[T.Talk-Show-Tyler Perry]</th>                   <td>-4634.0345</td> <td> 2.11e+05</td> <td>   -0.022</td> <td> 0.982</td> <td>-4.19e+05   4.1e+05</td>\n",
       "</tr>\n",
       "<tr>\n",
       "  <th>Genre0Brand[T.Thriller-None]</th>                           <td> 4.826e+05</td> <td> 1.53e+06</td> <td>    0.315</td> <td> 0.753</td> <td>-2.53e+06  3.49e+06</td>\n",
       "</tr>\n",
       "<tr>\n",
       "  <th>Genre0Brand[T.Western-None]</th>                            <td>-7213.8220</td> <td> 2.07e+05</td> <td>   -0.035</td> <td> 0.972</td> <td>-4.14e+05     4e+05</td>\n",
       "</tr>\n",
       "<tr>\n",
       "  <th>Screens</th>                                                <td>-1.395e+04</td> <td> 1.13e+04</td> <td>   -1.238</td> <td> 0.216</td> <td>-3.61e+04  8158.608</td>\n",
       "</tr>\n",
       "<tr>\n",
       "  <th>ScreensSQ</th>                                              <td>   41.1071</td> <td>   12.436</td> <td>    3.306</td> <td> 0.001</td> <td>   16.709    65.505</td>\n",
       "</tr>\n",
       "<tr>\n",
       "  <th>ScreensC</th>                                               <td>   -0.0230</td> <td>    0.005</td> <td>   -4.915</td> <td> 0.000</td> <td>   -0.032    -0.014</td>\n",
       "</tr>\n",
       "<tr>\n",
       "  <th>ScreensF</th>                                               <td> 4.184e-06</td> <td> 5.67e-07</td> <td>    7.380</td> <td> 0.000</td> <td> 3.07e-06   5.3e-06</td>\n",
       "</tr>\n",
       "<tr>\n",
       "  <th>OscDirAct</th>                                              <td> 5.456e+06</td> <td> 6.69e+05</td> <td>    8.155</td> <td> 0.000</td> <td> 4.14e+06  6.77e+06</td>\n",
       "</tr>\n",
       "</table>\n",
       "<table class=\"simpletable\">\n",
       "<tr>\n",
       "  <th>Omnibus:</th>       <td>570.481</td> <th>  Durbin-Watson:     </th> <td>   1.995</td> \n",
       "</tr>\n",
       "<tr>\n",
       "  <th>Prob(Omnibus):</th> <td> 0.000</td>  <th>  Jarque-Bera (JB):  </th> <td>15536.815</td>\n",
       "</tr>\n",
       "<tr>\n",
       "  <th>Skew:</th>          <td> 1.591</td>  <th>  Prob(JB):          </th> <td>    0.00</td> \n",
       "</tr>\n",
       "<tr>\n",
       "  <th>Kurtosis:</th>      <td>20.242</td>  <th>  Cond. No.          </th> <td>8.94e+28</td> \n",
       "</tr>\n",
       "</table>"
      ],
      "text/plain": [
       "<class 'statsmodels.iolib.summary.Summary'>\n",
       "\"\"\"\n",
       "                            OLS Regression Results                            \n",
       "==============================================================================\n",
       "Dep. Variable:         BoxOfficeGross   R-squared:                       0.806\n",
       "Model:                            OLS   Adj. R-squared:                  0.805\n",
       "Method:                 Least Squares   F-statistic:                     1669.\n",
       "Date:                Thu, 16 Jul 2015   Prob (F-statistic):               0.00\n",
       "Time:                        23:27:59   Log-Likelihood:                -22598.\n",
       "No. Observations:                1213   AIC:                         4.520e+04\n",
       "Df Residuals:                    1209   BIC:                         4.523e+04\n",
       "Df Model:                           3                                         \n",
       "Covariance Type:            nonrobust                                         \n",
       "==========================================================================================================================\n",
       "                                                             coef    std err          t      P>|t|      [95.0% Conf. Int.]\n",
       "--------------------------------------------------------------------------------------------------------------------------\n",
       "Intercept                                               9.062e+05   2.74e+06      0.331      0.741     -4.47e+06  6.28e+06\n",
       "Month2[T.Aug]                                          -5.838e+06   3.05e+06     -1.914      0.056     -1.18e+07  1.47e+05\n",
       "Month2[T.Dec]                                           8.445e+06   3.37e+06      2.508      0.012      1.84e+06  1.51e+07\n",
       "Month2[T.Feb]                                           1.035e+06   3.24e+06      0.319      0.749     -5.32e+06  7.39e+06\n",
       "Month2[T.Jan]                                          -3.511e+06   3.39e+06     -1.037      0.300     -1.02e+07  3.13e+06\n",
       "Month2[T.Jul]                                          -4.969e+06   3.46e+06     -1.435      0.152     -1.18e+07  1.82e+06\n",
       "Month2[T.Jun]                                           6.986e+06   3.08e+06      2.268      0.023      9.44e+05   1.3e+07\n",
       "Month2[T.Mar]                                           3.953e+04   3.09e+06      0.013      0.990     -6.01e+06  6.09e+06\n",
       "Month2[T.May]                                          -1.768e+06   3.12e+06     -0.567      0.571     -7.89e+06  4.35e+06\n",
       "Month2[T.Nov]                                           7.893e+06    3.7e+06      2.134      0.033      6.35e+05  1.52e+07\n",
       "Month2[T.Oct]                                          -8.919e+05   3.17e+06     -0.281      0.779     -7.12e+06  5.33e+06\n",
       "Month2[T.Sept]                                         -6.089e+06   3.06e+06     -1.989      0.047     -1.21e+07 -8.42e+04\n",
       "Studio[T.7-57]                                         -2.194e+05   2.42e+05     -0.906      0.365     -6.94e+05  2.56e+05\n",
       "Studio[T.A24]                                          -1.183e+05   4.66e+05     -0.254      0.800     -1.03e+06  7.97e+05\n",
       "Studio[T.AD]                                            7.351e+05   7.78e+05      0.945      0.345     -7.92e+05  2.26e+06\n",
       "Studio[T.ADC]                                           -1.75e+05   4.39e+05     -0.398      0.690     -1.04e+06  6.87e+05\n",
       "Studio[T.ALP]                                           1.202e+05   3.91e+05      0.307      0.759     -6.47e+05  8.88e+05\n",
       "Studio[T.APD/C]                                        -6.312e+04   1.32e+05     -0.479      0.632     -3.22e+05  1.95e+05\n",
       "Studio[T.ATO]                                           2.465e+05   1.57e+05      1.566      0.118     -6.24e+04  5.55e+05\n",
       "Studio[T.AaF]                                          -1.508e+05   2.92e+05     -0.516      0.606     -7.24e+05  4.23e+05\n",
       "Studio[T.Abr.]                                         -2.251e+04   5.31e+05     -0.042      0.966     -1.06e+06  1.02e+06\n",
       "Studio[T.Alc]                                          -4.056e+04   3.68e+05     -0.110      0.912     -7.63e+05  6.82e+05\n",
       "Studio[T.Ampl.]                                        -1.132e+04   2.15e+05     -0.053      0.958     -4.34e+05  4.11e+05\n",
       "Studio[T.Anch.]                                         1.082e+04   5.41e+06      0.002      0.998     -1.06e+07  1.06e+07\n",
       "Studio[T.App.]                                         -1.007e+06   8.03e+05     -1.254      0.210     -2.58e+06  5.69e+05\n",
       "Studio[T.ArcEnt]                                        1.578e+05   6.09e+05      0.259      0.796     -1.04e+06  1.35e+06\n",
       "Studio[T.Aren]                                         -5.865e+05   2.55e+05     -2.299      0.022     -1.09e+06  -8.6e+04\n",
       "Studio[T.Argo.]                                        -2.634e+05   7.67e+06     -0.034      0.973     -1.53e+07  1.48e+07\n",
       "Studio[T.Asp.]                                          3.049e+05   2.58e+05      1.180      0.238     -2.02e+05  8.12e+05\n",
       "Studio[T.BDF]                                           3.899e+04   2.09e+05      0.186      0.852     -3.72e+05   4.5e+05\n",
       "Studio[T.BGP]                                            -5.7e+04   1.91e+05     -0.298      0.766     -4.32e+05  3.18e+05\n",
       "Studio[T.BPE]                                          -8.529e+04   8.97e+04     -0.951      0.342     -2.61e+05  9.07e+04\n",
       "Studio[T.BSC]                                          -1.099e+05   1.21e+05     -0.906      0.365     -3.48e+05  1.28e+05\n",
       "Studio[T.BST]                                           1.587e+05   1.97e+05      0.806      0.420     -2.28e+05  5.45e+05\n",
       "Studio[T.BV]                                            1.667e+07   4.24e+06      3.934      0.000      8.36e+06   2.5e+07\n",
       "Studio[T.C/360]                                        -6.092e-09   4.34e-09     -1.404      0.160     -1.46e-08  2.42e-09\n",
       "Studio[T.CAVU]                                         -9.172e+04   7.15e+04     -1.283      0.200     -2.32e+05  4.85e+04\n",
       "Studio[T.CBS]                                          -2.956e+06    7.4e+06     -0.400      0.689     -1.75e+07  1.16e+07\n",
       "Studio[T.CE]                                           -1.819e+05   4.32e+05     -0.421      0.674     -1.03e+06  6.65e+05\n",
       "Studio[T.CJ]                                            2.856e+05   1.79e+05      1.594      0.111     -6.59e+04  6.37e+05\n",
       "Studio[T.CL]                                           -2.491e+05   3.77e+05     -0.661      0.509     -9.88e+05   4.9e+05\n",
       "Studio[T.CLF]                                           3862.5374   1.07e+05      0.036      0.971     -2.07e+05  2.14e+05\n",
       "Studio[T.CP]                                           -4.539e+05   2.86e+05     -1.590      0.112     -1.01e+06  1.06e+05\n",
       "Studio[T.Cdgm.]                                         8.291e+04   2.07e+05      0.401      0.689     -3.23e+05  4.89e+05\n",
       "Studio[T.Cini]                                          7.264e+04   9.15e+04      0.794      0.427     -1.07e+05  2.52e+05\n",
       "Studio[T.Code]                                         -2.642e+05   3.67e+05     -0.720      0.472     -9.84e+05  4.56e+05\n",
       "Studio[T.Cohen]                                         1.282e+06   9.42e+05      1.360      0.174     -5.67e+05  3.13e+06\n",
       "Studio[T.Cort.]                                         2.778e+04   1.55e+05      0.179      0.858     -2.77e+05  3.32e+05\n",
       "Studio[T.Crnth]                                         6640.0209   1.68e+05      0.040      0.968     -3.23e+05  3.36e+05\n",
       "Studio[T.DLA]                                          -1532.7237   1.03e+05     -0.015      0.988     -2.05e+05  2.01e+05\n",
       "Studio[T.DM]                                            5.313e+04   9.55e+04      0.556      0.578     -1.34e+05  2.41e+05\n",
       "Studio[T.DTP]                                          -5.288e+04   1.05e+05     -0.506      0.613     -2.58e+05  1.52e+05\n",
       "Studio[T.DWOES]                                         6.809e+04   6.06e+05      0.112      0.910     -1.12e+06  1.26e+06\n",
       "Studio[T.Da.]                                           1.056e+05   1.55e+05      0.680      0.496     -1.99e+05   4.1e+05\n",
       "Studio[T.Drft.]                                        -1.802e+05   1.07e+05     -1.689      0.092      -3.9e+05  2.92e+04\n",
       "Studio[T.E1]                                           -1.051e+05   3.63e+05     -0.289      0.772     -8.18e+05  6.08e+05\n",
       "Studio[T.EC]                                           -9.443e+04   1.29e+05     -0.732      0.464     -3.48e+05  1.59e+05\n",
       "Studio[T.EOne]                                         -1.663e+06   7.66e+06     -0.217      0.828     -1.67e+07  1.34e+07\n",
       "Studio[T.Embr.]                                         2.888e-09   5.73e-09      0.504      0.614     -8.36e-09  1.41e-08\n",
       "Studio[T.Eros]                                          9.355e+04   2.64e+05      0.354      0.723     -4.24e+05  6.11e+05\n",
       "Studio[T.FC]                                            2.325e+05   2.08e+05      1.120      0.263     -1.75e+05   6.4e+05\n",
       "Studio[T.FD]                                             3.27e+06   8.08e+06      0.405      0.686     -1.26e+07  1.91e+07\n",
       "Studio[T.FDem]                                         -9.218e+04   7.55e+04     -1.221      0.222      -2.4e+05  5.59e+04\n",
       "Studio[T.FDesk]                                        -4.333e+05   9.04e+05     -0.479      0.632     -2.21e+06  1.34e+06\n",
       "Studio[T.FIP]                                           3.895e+05   8.68e+05      0.449      0.654     -1.31e+06  2.09e+06\n",
       "Studio[T.FOAK]                                         -1.379e+05    7.5e+04     -1.839      0.066     -2.85e+05  9232.431\n",
       "Studio[T.FRun]                                          1.624e+04   1.15e+05      0.141      0.888      -2.1e+05  2.42e+05\n",
       "Studio[T.FTP]                                          -1.011e+05   1.49e+05     -0.680      0.497     -3.93e+05  1.91e+05\n",
       "Studio[T.Focus]                                         -2.07e+06   5.23e+06     -0.396      0.692     -1.23e+07  8.19e+06\n",
       "Studio[T.Fox]                                          -9.188e+06   4.14e+06     -2.219      0.027     -1.73e+07 -1.06e+06\n",
       "Studio[T.FoxS]                                          3.721e+06   5.08e+06      0.733      0.464     -6.24e+06  1.37e+07\n",
       "Studio[T.Free]                                          1.435e+06   5.03e+06      0.285      0.775     -8.43e+06  1.13e+07\n",
       "Studio[T.GFl]                                          -1.697e+05   1.27e+05     -1.332      0.183      -4.2e+05  8.03e+04\n",
       "Studio[T.GK]                                           -4.988e+06   1.95e+06     -2.563      0.011     -8.81e+06 -1.17e+06\n",
       "Studio[T.GMF]                                          -1.642e+05   7.09e+04     -2.317      0.021     -3.03e+05 -2.51e+04\n",
       "Studio[T.GPR]                                           6.453e+04   2.08e+05      0.311      0.756     -3.43e+05  4.72e+05\n",
       "Studio[T.Gathr]                                         -9.51e+04   6.32e+05     -0.151      0.880     -1.33e+06  1.14e+06\n",
       "Studio[T.Gold.]                                        -3.855e+06   1.87e+06     -2.065      0.039     -7.52e+06 -1.92e+05\n",
       "Studio[T.HF]                                           -7.912e+04   1.49e+05     -0.532      0.595     -3.71e+05  2.13e+05\n",
       "Studio[T.HTR]                                           -1.38e+05    4.6e+05     -0.300      0.764     -1.04e+06  7.64e+05\n",
       "Studio[T.Hann.]                                          5.43e+05   6.56e+05      0.828      0.408     -7.44e+05  1.83e+06\n",
       "Studio[T.ICir]                                         -1.192e-09   1.07e-09     -1.117      0.264     -3.29e-09  9.02e-10\n",
       "Studio[T.IFC]                                          -2.873e+05   4.27e+05     -0.672      0.501     -1.13e+06  5.51e+05\n",
       "Studio[T.IM]                                            9.317e+04   2.65e+05      0.352      0.725     -4.26e+05  6.13e+05\n",
       "Studio[T.IW]                                           -3.424e+04   9.23e+04     -0.371      0.711     -2.15e+05  1.47e+05\n",
       "Studio[T.Icar.]                                        -2.646e+06   7.74e+06     -0.342      0.733     -1.78e+07  1.25e+07\n",
       "Studio[T.Imag.]                                        -2.885e+06   1.81e+06     -1.592      0.112     -6.44e+06  6.71e+05\n",
       "Studio[T.JS]                                            -1.88e+05   8.52e+04     -2.206      0.028     -3.55e+05 -2.08e+04\n",
       "Studio[T.Jan.]                                                  0          0        nan        nan             0         0\n",
       "Studio[T.KE]                                            3.808e+05   1.71e+05      2.226      0.026      4.52e+04  7.16e+05\n",
       "Studio[T.KL]                                            1.353e+06   6.49e+05      2.085      0.037      7.96e+04  2.63e+06\n",
       "Studio[T.KS]                                           -1.426e+05   9.18e+04     -1.553      0.121     -3.23e+05  3.76e+04\n",
       "Studio[T.KVP]                                          -2.149e+05   1.64e+05     -1.313      0.189     -5.36e+05  1.06e+05\n",
       "Studio[T.LD]                                           -1.617e+04   3.18e+05     -0.051      0.959      -6.4e+05  6.08e+05\n",
       "Studio[T.LG/S]                                         -7.032e+05   6.14e+06     -0.114      0.909     -1.28e+07  1.13e+07\n",
       "Studio[T.LGF]                                           7.112e+06   4.04e+06      1.760      0.079     -8.14e+05   1.5e+07\n",
       "Studio[T.Long Shot]                                     5058.2345   8.35e+04      0.061      0.952     -1.59e+05  1.69e+05\n",
       "Studio[T.MBox]                                         -6.253e+05   4.11e+05     -1.522      0.128     -1.43e+06  1.81e+05\n",
       "Studio[T.MFG]                                          -1.836e+05   7.77e+04     -2.363      0.018     -3.36e+05 -3.11e+04\n",
       "Studio[T.MGM]                                           8.102e+04   1.11e+05      0.733      0.464     -1.36e+05  2.98e+05\n",
       "Studio[T.MNE]                                          -3.763e+05   2.87e+05     -1.309      0.191      -9.4e+05  1.88e+05\n",
       "Studio[T.MPI]                                            9.01e+04   1.48e+05      0.609      0.543        -2e+05   3.8e+05\n",
       "Studio[T.MTE]                                            2.53e+04   1.39e+05      0.182      0.855     -2.47e+05  2.98e+05\n",
       "Studio[T.MVE]                                          -7.662e+04   7.06e+04     -1.085      0.278     -2.15e+05  6.19e+04\n",
       "Studio[T.Magn.]                                        -1.639e+05   3.75e+05     -0.437      0.662        -9e+05  5.72e+05\n",
       "Studio[T.Maya]                                         -1.169e+05   1.14e+05     -1.025      0.306     -3.41e+05  1.07e+05\n",
       "Studio[T.Mile.]                                                 0          0        nan        nan             0         0\n",
       "Studio[T.Mira.]                                         1.602e+05   1.88e+05      0.855      0.393     -2.08e+05  5.28e+05\n",
       "Studio[T.Mont.]                                         -3.21e+05   3.63e+05     -0.883      0.377     -1.03e+06  3.92e+05\n",
       "Studio[T.N/A]                                          -4.447e+05   2.81e+05     -1.581      0.114     -9.97e+05  1.07e+05\n",
       "Studio[T.NM]                                            3.038e+04    1.3e+05      0.234      0.815     -2.24e+05  2.85e+05\n",
       "Studio[T.NS]                                            -1.22e+05   1.51e+05     -0.809      0.419     -4.18e+05  1.74e+05\n",
       "Studio[T.OGP]                                          -1.273e+05   7.49e+04     -1.700      0.089     -2.74e+05  1.96e+04\n",
       "Studio[T.OMNI/FSR]                                     -5.276e+04   9.59e+04     -0.550      0.582     -2.41e+05  1.35e+05\n",
       "Studio[T.ORF]                                          -7.788e+06   6.58e+06     -1.184      0.237     -2.07e+07  5.12e+06\n",
       "Studio[T.Osci.]                                        -5.776e+04    1.6e+05     -0.361      0.718     -3.71e+05  2.56e+05\n",
       "Studio[T.Over.]                                        -3.748e+04   4.44e+05     -0.084      0.933     -9.09e+05  8.34e+05\n",
       "Studio[T.P/DW]                                         -2.261e+07   5.42e+06     -4.173      0.000     -3.32e+07  -1.2e+07\n",
       "Studio[T.P4]                                            1.269e+06    6.2e+05      2.047      0.041      5.27e+04  2.48e+06\n",
       "Studio[T.PDA]                                           8086.7472    1.6e+05      0.051      0.960     -3.05e+05  3.21e+05\n",
       "Studio[T.PFR]                                          -1.888e+05   1.76e+05     -1.072      0.284     -5.34e+05  1.57e+05\n",
       "Studio[T.PH]                                           -2.152e+05   1.01e+05     -2.137      0.033     -4.13e+05 -1.76e+04\n",
       "Studio[T.PHP]                                          -1.207e+05   9.02e+04     -1.338      0.181     -2.98e+05  5.63e+04\n",
       "Studio[T.PM]                                            6.788e+04   2.82e+05      0.240      0.810     -4.86e+05  6.22e+05\n",
       "Studio[T.PMK]                                           1.073e+04   1.54e+05      0.070      0.945     -2.92e+05  3.13e+05\n",
       "Studio[T.PMP]                                          -2.129e+05   1.09e+05     -1.960      0.050     -4.26e+05   162.252\n",
       "Studio[T.PP]                                           -1.374e+05   9.19e+04     -1.496      0.135     -3.18e+05  4.28e+04\n",
       "Studio[T.Par.]                                          1.894e+06   4.56e+06      0.415      0.678     -7.05e+06  1.08e+07\n",
       "Studio[T.ParV]                                          2.995e+04   4.77e+05      0.063      0.950     -9.07e+05  9.66e+05\n",
       "Studio[T.Pas.]                                           5.92e+04   1.29e+05      0.458      0.647     -1.95e+05  3.13e+05\n",
       "Studio[T.Purd.]                                         3.054e+05   1.32e+05      2.312      0.021      4.63e+04  5.65e+05\n",
       "Studio[T.QM]                                           -1.613e+04   1.47e+05     -0.109      0.913     -3.05e+05  2.73e+05\n",
       "Studio[T.R88]                                          -1.299e+05   7.65e+04     -1.698      0.090      -2.8e+05  2.02e+04\n",
       "Studio[T.RAtt.]                                         2.353e+06   4.57e+06      0.515      0.607     -6.61e+06  1.13e+07\n",
       "Studio[T.RM]                                           -4.993e+04   6.16e+05     -0.081      0.935     -1.26e+06  1.16e+06\n",
       "Studio[T.RR]                                                    0          0        nan        nan             0         0\n",
       "Studio[T.RTWC]                                         -2.108e+05   7.63e+06     -0.028      0.978     -1.52e+07  1.48e+07\n",
       "Studio[T.Rela.]                                        -6.813e+06    6.1e+06     -1.117      0.264     -1.88e+07  5.16e+06\n",
       "Studio[T.Relbig.]                                        4.49e+06   7.47e+06      0.601      0.548     -1.02e+07  1.91e+07\n",
       "Studio[T.Rialto]                                        3.492e+06   6.89e+06      0.507      0.613        -1e+07   1.7e+07\n",
       "Studio[T.RivR]                                         -4.289e+04   3.39e+05     -0.127      0.899     -7.07e+05  6.22e+05\n",
       "Studio[T.Rog.]                                         -2.116e+04   1.14e+05     -0.186      0.852     -2.44e+05  2.02e+05\n",
       "Studio[T.Rum.]                                          8162.5258   1.67e+05      0.049      0.961     -3.19e+05  3.35e+05\n",
       "Studio[T.S/IMA]                                         4.339e+05   1.92e+05      2.265      0.024      5.81e+04   8.1e+05\n",
       "Studio[T.SE]                                           -1.605e+05    3.6e+05     -0.446      0.656     -8.67e+05  5.46e+05\n",
       "Studio[T.SEA]                                          -8.431e+04   7.14e+04     -1.180      0.238     -2.24e+05  5.59e+04\n",
       "Studio[T.SGem]                                          1.505e+07   6.72e+06      2.238      0.025      1.86e+06  2.82e+07\n",
       "Studio[T.SMod]                                         -7.247e+04   1.15e+05     -0.630      0.529     -2.98e+05  1.53e+05\n",
       "Studio[T.SPC]                                          -1.106e+05    6.7e+05     -0.165      0.869     -1.43e+06   1.2e+06\n",
       "Studio[T.SSP]                                           5.924e+04   8.07e+04      0.734      0.463      -9.9e+04  2.17e+05\n",
       "Studio[T.SV]                                           -2.269e+05   1.66e+05     -1.364      0.173     -5.53e+05  9.93e+04\n",
       "Studio[T.Saban]                                         9.083e+04   1.26e+05      0.720      0.472     -1.57e+05  3.38e+05\n",
       "Studio[T.Scre.]                                        -1.387e+05   7.31e+04     -1.899      0.058     -2.82e+05  4600.726\n",
       "Studio[T.Sony]                                         -3.018e+06   4.66e+06     -0.647      0.518     -1.22e+07  6.13e+06\n",
       "Studio[T.Strand]                                        3.268e+05   2.59e+05      1.264      0.207     -1.81e+05  8.34e+05\n",
       "Studio[T.Sum.]                                         -4.063e+06    8.1e+06     -0.502      0.616        -2e+07  1.18e+07\n",
       "Studio[T.TAT]                                                   0          0        nan        nan             0         0\n",
       "Studio[T.TFA]                                           5.872e+04   6.21e+06      0.009      0.992     -1.21e+07  1.23e+07\n",
       "Studio[T.TFC]                                           9.091e+05   6.82e+05      1.333      0.183     -4.29e+05  2.25e+06\n",
       "Studio[T.TMF&RE]                                       -2.597e+05   3.69e+05     -0.703      0.482     -9.84e+05  4.65e+05\n",
       "Studio[T.Tost.]                                                 0          0        nan        nan             0         0\n",
       "Studio[T.TriS]                                          1.639e+07   7.29e+06      2.247      0.025      2.08e+06  3.07e+07\n",
       "Studio[T.Triu]                                         -2.511e+05   1.36e+05     -1.850      0.065     -5.17e+05  1.52e+04\n",
       "Studio[T.Truly]                                         7.578e+04   1.24e+05      0.609      0.542     -1.68e+05   3.2e+05\n",
       "Studio[T.UTMW]                                                  0          0        nan        nan             0         0\n",
       "Studio[T.UTV]                                           8.309e+05   5.18e+06      0.160      0.873     -9.33e+06   1.1e+07\n",
       "Studio[T.Uni.]                                           1.42e+07   3.89e+06      3.647      0.000      6.56e+06  2.18e+07\n",
       "Studio[T.VE]                                            2.264e+05   2.06e+05      1.098      0.273     -1.78e+05  6.31e+05\n",
       "Studio[T.VPD]                                          -3.077e+04   1.66e+05     -0.185      0.853     -3.56e+05  2.95e+05\n",
       "Studio[T.Vari.]                                                 0          0        nan        nan             0         0\n",
       "Studio[T.Visio]                                                 0          0        nan        nan             0         0\n",
       "Studio[T.Viv.]                                         -7.118e+04      1e+05     -0.708      0.479     -2.68e+05  1.26e+05\n",
       "Studio[T.W/Dim.]                                       -9.036e+05   1.26e+06     -0.719      0.472     -3.37e+06  1.56e+06\n",
       "Studio[T.WAMCR]                                        -9.744e+04   1.56e+05     -0.624      0.533     -4.04e+05  2.09e+05\n",
       "Studio[T.WB]                                            5.916e+05   3.52e+06      0.168      0.866     -6.31e+06  7.49e+06\n",
       "Studio[T.WB (NL)]                                       -9.95e+06   7.82e+06     -1.273      0.203     -2.53e+07  5.39e+06\n",
       "Studio[T.WGUSA]                                                 0          0        nan        nan             0         0\n",
       "Studio[T.WHE]                                          -1.062e+05   6.72e+04     -1.580      0.114     -2.38e+05  2.57e+04\n",
       "Studio[T.Wein.]                                        -4.649e+05   4.38e+06     -0.106      0.915     -9.05e+06  8.12e+06\n",
       "Studio[T.Wlfe.]                                         8.584e+04   1.48e+05      0.581      0.561     -2.04e+05  3.76e+05\n",
       "Studio[T.XL]                                           -1.293e+05   1.28e+05     -1.008      0.314     -3.81e+05  1.22e+05\n",
       "Studio[T.Yash]                                         -2.272e+06   1.85e+06     -1.226      0.221     -5.91e+06  1.37e+06\n",
       "Genre0Brand[T.Action-Dark Castle]                       3.378e+05    4.2e+05      0.805      0.421     -4.86e+05  1.16e+06\n",
       "Genre0Brand[T.Action-Dark Horse Comics]                 3.114e+04   1.34e+05      0.232      0.817     -2.33e+05  2.95e+05\n",
       "Genre0Brand[T.Action-Hasbro]                           -2.834e+05   4.24e+05     -0.668      0.504     -1.12e+06  5.49e+05\n",
       "Genre0Brand[T.Action-Legendary Pictures]                5.092e+06   4.06e+06      1.254      0.210     -2.87e+06  1.31e+07\n",
       "Genre0Brand[T.Action-Marvel Comics]                     9.423e+06   2.83e+06      3.328      0.001      3.87e+06   1.5e+07\n",
       "Genre0Brand[T.Action-Nickelodeon]                      -1.034e+05   1.43e+05     -0.721      0.471     -3.85e+05  1.78e+05\n",
       "Genre0Brand[T.Action-None]                             -8.316e+05   2.81e+06     -0.296      0.767     -6.35e+06  4.68e+06\n",
       "Genre0Brand[T.Action-Philip K. Dick]                   -1.646e+05   1.76e+05     -0.938      0.348     -5.09e+05   1.8e+05\n",
       "Genre0Brand[T.Action-Robert Ludlum]                     6.211e+04   1.72e+05      0.362      0.718     -2.75e+05  3.99e+05\n",
       "Genre0Brand[T.Action-Saturday Night Live]               4.519e+04   1.62e+05      0.279      0.780     -2.73e+05  3.63e+05\n",
       "Genre0Brand[T.Action-Walden Media]                     -1.077e+05   1.25e+05     -0.865      0.387     -3.52e+05  1.37e+05\n",
       "Genre0Brand[T.Adventure-Legendary Pictures]            -2.785e+04   1.08e+06     -0.026      0.979     -2.15e+06  2.09e+06\n",
       "Genre0Brand[T.Adventure-Nickelodeon]                   -3.143e+04   1.51e+05     -0.208      0.835     -3.28e+05  2.65e+05\n",
       "Genre0Brand[T.Adventure-None]                          -1.036e+06   4.67e+06     -0.222      0.824     -1.02e+07  8.12e+06\n",
       "Genre0Brand[T.Adventure-Tim Burton-Johnny Depp]          3.49e+05   1.33e+05      2.623      0.009      8.79e+04   6.1e+05\n",
       "Genre0Brand[T.Adventure-Walden Media]                   8.135e+05   4.98e+05      1.632      0.103     -1.64e+05  1.79e+06\n",
       "Genre0Brand[T.Animation-Aardman]                       -1.697e+04   1.69e+05     -0.100      0.920     -3.49e+05  3.15e+05\n",
       "Genre0Brand[T.Animation-Blue Sky]                       2.168e+05   6.91e+05      0.314      0.754     -1.14e+06  1.57e+06\n",
       "Genre0Brand[T.Animation-Disneynature]                   5.251e+04   2.12e+05      0.247      0.805     -3.64e+05  4.69e+05\n",
       "Genre0Brand[T.Animation-DreamWorks Animation]          -2.182e+07   5.19e+06     -4.203      0.000      -3.2e+07 -1.16e+07\n",
       "Genre0Brand[T.Animation-Illumination Entertainment]     2.058e+06   5.99e+05      3.437      0.001      8.83e+05  3.23e+06\n",
       "Genre0Brand[T.Animation-Laika]                          4.731e+05   4.21e+05      1.124      0.261     -3.53e+05   1.3e+06\n",
       "Genre0Brand[T.Animation-Marvel Comics]                  4.741e+05   1.25e+05      3.793      0.000      2.29e+05  7.19e+05\n",
       "Genre0Brand[T.Animation-Nickelodeon]                    3.393e+04   1.15e+05      0.296      0.767     -1.91e+05  2.59e+05\n",
       "Genre0Brand[T.Animation-None]                          -6.357e+06   4.65e+06     -1.369      0.171     -1.55e+07  2.76e+06\n",
       "Genre0Brand[T.Animation-Pixar]                          1.636e+06   3.26e+05      5.019      0.000      9.97e+05  2.28e+06\n",
       "Genre0Brand[T.Animation-Sony Pictures Animation]        6.704e+05   4.85e+05      1.382      0.167     -2.82e+05  1.62e+06\n",
       "Genre0Brand[T.Animation-Walt Disney Animation Studios]   2.44e+06   6.11e+05      3.991      0.000      1.24e+06  3.64e+06\n",
       "Genre0Brand[T.Biography-Legendary Pictures]             3.778e+05    1.4e+05      2.706      0.007      1.04e+05  6.52e+05\n",
       "Genre0Brand[T.Biography-None]                           1.744e+06   4.49e+06      0.389      0.697     -7.06e+06  1.05e+07\n",
       "Genre0Brand[T.Biography-Walden Media]                           0          0        nan        nan             0         0\n",
       "Genre0Brand[T.Comedy-Legendary Pictures]                1.072e+06   3.84e+05      2.789      0.005      3.18e+05  1.83e+06\n",
       "Genre0Brand[T.Comedy-MTV]                               5.324e+05      3e+05      1.773      0.076     -5.67e+04  1.12e+06\n",
       "Genre0Brand[T.Comedy-None]                             -3.851e+05   2.58e+06     -0.150      0.881     -5.44e+06  4.67e+06\n",
       "Genre0Brand[T.Comedy-Tim Burton-Johnny Depp]           -6.379e+04   1.25e+05     -0.510      0.610     -3.09e+05  1.81e+05\n",
       "Genre0Brand[T.Comedy-Tyler Perry]                       1.599e+06   9.53e+05      1.678      0.094     -2.71e+05  3.47e+06\n",
       "Genre0Brand[T.Comedy-Walden Media]                     -1.142e+05   1.52e+05     -0.752      0.452     -4.12e+05  1.84e+05\n",
       "Genre0Brand[T.Crime-Dark Horse Comics]                 -1.235e+05   2.32e+05     -0.533      0.594     -5.78e+05  3.31e+05\n",
       "Genre0Brand[T.Crime-Legendary Pictures]                         0          0        nan        nan             0         0\n",
       "Genre0Brand[T.Crime-None]                              -1.292e+06   4.84e+06     -0.267      0.790     -1.08e+07  8.21e+06\n",
       "Genre0Brand[T.Documentary-Disneynature]                 4.588e+05   6.61e+05      0.694      0.488     -8.38e+05  1.76e+06\n",
       "Genre0Brand[T.Documentary-MTV]                          3.664e+05   2.98e+05      1.231      0.219     -2.18e+05  9.51e+05\n",
       "Genre0Brand[T.Documentary-None]                         1.417e+06   3.72e+06      0.381      0.704     -5.89e+06  8.72e+06\n",
       "Genre0Brand[T.Documentary-Walden Media]                 1.697e+05   1.89e+05      0.898      0.369     -2.01e+05  5.41e+05\n",
       "Genre0Brand[T.Drama-Nicholas Sparks]                    1.578e+06   1.95e+06      0.809      0.418     -2.25e+06   5.4e+06\n",
       "Genre0Brand[T.Drama-None]                              -1.046e+06   2.71e+06     -0.386      0.700     -6.36e+06  4.27e+06\n",
       "Genre0Brand[T.Drama-Philip K. Dick]                             0          0        nan        nan             0         0\n",
       "Genre0Brand[T.Drama-Stephen King]                       1.001e+06   4.32e+05      2.319      0.021      1.54e+05  1.85e+06\n",
       "Genre0Brand[T.Drama-Tyler Perry]                                0          0        nan        nan             0         0\n",
       "Genre0Brand[T.Drama-Walden Media]                      -3.574e+05   1.92e+05     -1.864      0.062     -7.33e+05  1.87e+04\n",
       "Genre0Brand[T.Family-None]                              -1.87e+05    6.4e+05     -0.292      0.770     -1.44e+06  1.07e+06\n",
       "Genre0Brand[T.Fantasy-None]                             1.275e+06   1.24e+06      1.026      0.305     -1.16e+06  3.71e+06\n",
       "Genre0Brand[T.History-None]                             4.339e+05   1.92e+05      2.265      0.024      5.81e+04   8.1e+05\n",
       "Genre0Brand[T.Horror-Dark Castle]                       4.023e+05   3.16e+05      1.271      0.204     -2.18e+05  1.02e+06\n",
       "Genre0Brand[T.Horror-Hasbro]                                    0          0        nan        nan             0         0\n",
       "Genre0Brand[T.Horror-None]                             -5.393e+06   4.84e+06     -1.115      0.265     -1.49e+07  4.09e+06\n",
       "Genre0Brand[T.Music-None]                               1.066e+06   4.57e+05      2.332      0.020      1.69e+05  1.96e+06\n",
       "Genre0Brand[T.Musical-None]                             1.827e+05      2e+05      0.912      0.362      -2.1e+05  5.76e+05\n",
       "Genre0Brand[T.Mystery-None]                            -2.779e+06   2.63e+06     -1.058      0.290     -7.93e+06  2.38e+06\n",
       "Genre0Brand[T.N/A-None]                                -4.019e+06   5.52e+06     -0.728      0.467     -1.49e+07  6.81e+06\n",
       "Genre0Brand[T.N/A-Tyler Perry]                                  0          0        nan        nan             0         0\n",
       "Genre0Brand[T.News-None]                               -1.477e+05   3.85e+05     -0.383      0.702     -9.04e+05  6.08e+05\n",
       "Genre0Brand[T.Reality-TV-None]                         -3.399e+04   1.74e+05     -0.196      0.845     -3.75e+05  3.07e+05\n",
       "Genre0Brand[T.Romance-None]                             4590.5531   7.51e+05      0.006      0.995     -1.47e+06  1.48e+06\n",
       "Genre0Brand[T.Romance-Philip K. Dick]                   2.462e+05   1.48e+05      1.665      0.096     -4.38e+04  5.36e+05\n",
       "Genre0Brand[T.Sci-Fi-None]                              1.194e+06   9.51e+05      1.256      0.209     -6.71e+05  3.06e+06\n",
       "Genre0Brand[T.Short-None]                               8.662e+06   4.57e+06      1.897      0.058     -2.96e+05  1.76e+07\n",
       "Genre0Brand[T.Talk-Show-None]                           6.661e+05   5.69e+05      1.171      0.242      -4.5e+05  1.78e+06\n",
       "Genre0Brand[T.Talk-Show-Tyler Perry]                   -4634.0345   2.11e+05     -0.022      0.982     -4.19e+05   4.1e+05\n",
       "Genre0Brand[T.Thriller-None]                            4.826e+05   1.53e+06      0.315      0.753     -2.53e+06  3.49e+06\n",
       "Genre0Brand[T.Western-None]                            -7213.8220   2.07e+05     -0.035      0.972     -4.14e+05     4e+05\n",
       "Screens                                                -1.395e+04   1.13e+04     -1.238      0.216     -3.61e+04  8158.608\n",
       "ScreensSQ                                                 41.1071     12.436      3.306      0.001        16.709    65.505\n",
       "ScreensC                                                  -0.0230      0.005     -4.915      0.000        -0.032    -0.014\n",
       "ScreensF                                                4.184e-06   5.67e-07      7.380      0.000      3.07e-06   5.3e-06\n",
       "OscDirAct                                               5.456e+06   6.69e+05      8.155      0.000      4.14e+06  6.77e+06\n",
       "==============================================================================\n",
       "Omnibus:                      570.481   Durbin-Watson:                   1.995\n",
       "Prob(Omnibus):                  0.000   Jarque-Bera (JB):            15536.815\n",
       "Skew:                           1.591   Prob(JB):                         0.00\n",
       "Kurtosis:                      20.242   Cond. No.                     8.94e+28\n",
       "==============================================================================\n",
       "\n",
       "Warnings:\n",
       "[1] Standard Errors assume that the covariance matrix of the errors is correctly specified.\n",
       "[2] The smallest eigenvalue is 1.15e-27. This might indicate that there are\n",
       "strong multicollinearity problems or that the design matrix is singular.\n",
       "\"\"\""
      ]
     },
     "execution_count": 2850,
     "metadata": {},
     "output_type": "execute_result"
    }
   ],
   "source": [
    "X1, y1 = X, y\n",
    "model1 = sm.OLS(y1, X1)\n",
    "results = model1.fit()\n",
    "results.summary()"
   ]
  },
  {
   "cell_type": "code",
   "execution_count": 2851,
   "metadata": {
    "collapsed": false
   },
   "outputs": [
    {
     "data": {
      "image/png": "[encoded data removed]",
      "text/plain": [
       "<matplotlib.figure.Figure at 0x1493a5c90>"
      ]
     },
     "metadata": {},
     "output_type": "display_data"
    }
   ],
   "source": [
    "import pylab \n",
    "import scipy.stats as stats\n",
    "resid = results.resid\n",
    "stats.probplot(resid, dist=\"norm\", plot=pylab)\n",
    "pylab.show()"
   ]
  },
  {
   "cell_type": "code",
   "execution_count": 2852,
   "metadata": {
    "collapsed": false
   },
   "outputs": [
    {
     "name": "stdout",
     "output_type": "stream",
     "text": [
      "(1213, 258) (1213, 1)\n"
     ]
    }
   ],
   "source": [
    "print X1.shape, y1.shape"
   ]
  },
  {
   "cell_type": "code",
   "execution_count": 2853,
   "metadata": {
    "collapsed": false
   },
   "outputs": [
    {
     "name": "stdout",
     "output_type": "stream",
     "text": [
      "0.734683272588\n",
      "0.0533964094868\n"
     ]
    }
   ],
   "source": [
    "X_digits = np.array(X1)\n",
    "Y_digits = np.array(y1)\n",
    "\n",
    "n_samples = X1.shape[0]\n",
    "\n",
    "cv = cross_validation.ShuffleSplit(n_samples, n_iter=100, test_size=0.3, random_state=1)\n",
    "regr = linear_model.LinearRegression()\n",
    "\n",
    "scores = cross_validation.cross_val_score(regr, X_digits, Y_digits, scoring='r2', cv=cv)\n",
    "#print scores\n",
    "print scores.mean()\n",
    "print scores.std()"
   ]
  },
  {
   "cell_type": "markdown",
   "metadata": {},
   "source": [
    "#####Iteration 2"
   ]
  },
  {
   "cell_type": "code",
   "execution_count": 2854,
   "metadata": {
    "collapsed": false
   },
   "outputs": [],
   "source": [
    "pvalues = results.pvalues\n",
    "columns = pvalues.index[pvalues < 0.05]\n",
    "X2 = X1.loc[:,columns]\n",
    "X2['Intercept'] = 1"
   ]
  },
  {
   "cell_type": "code",
   "execution_count": 2855,
   "metadata": {
    "collapsed": false
   },
   "outputs": [
    {
     "name": "stdout",
     "output_type": "stream",
     "text": [
      "(1213, 39) (1213, 1)\n"
     ]
    }
   ],
   "source": [
    "print X2.shape, y1.shape"
   ]
  },
  {
   "cell_type": "code",
   "execution_count": 2856,
   "metadata": {
    "collapsed": false,
    "scrolled": true
   },
   "outputs": [
    {
     "data": {
      "text/html": [
       "<table class=\"simpletable\">\n",
       "<caption>OLS Regression Results</caption>\n",
       "<tr>\n",
       "  <th>Dep. Variable:</th>     <td>BoxOfficeGross</td>  <th>  R-squared:         </th> <td>   0.802</td> \n",
       "</tr>\n",
       "<tr>\n",
       "  <th>Model:</th>                   <td>OLS</td>       <th>  Adj. R-squared:    </th> <td>   0.802</td> \n",
       "</tr>\n",
       "<tr>\n",
       "  <th>Method:</th>             <td>Least Squares</td>  <th>  F-statistic:       </th> <td>   1635.</td> \n",
       "</tr>\n",
       "<tr>\n",
       "  <th>Date:</th>             <td>Thu, 16 Jul 2015</td> <th>  Prob (F-statistic):</th>  <td>  0.00</td>  \n",
       "</tr>\n",
       "<tr>\n",
       "  <th>Time:</th>                 <td>23:28:08</td>     <th>  Log-Likelihood:    </th> <td> -22609.</td> \n",
       "</tr>\n",
       "<tr>\n",
       "  <th>No. Observations:</th>      <td>  1213</td>      <th>  AIC:               </th> <td>4.523e+04</td>\n",
       "</tr>\n",
       "<tr>\n",
       "  <th>Df Residuals:</th>          <td>  1209</td>      <th>  BIC:               </th> <td>4.525e+04</td>\n",
       "</tr>\n",
       "<tr>\n",
       "  <th>Df Model:</th>              <td>     3</td>      <th>                     </th>     <td> </td>    \n",
       "</tr>\n",
       "<tr>\n",
       "  <th>Covariance Type:</th>      <td>nonrobust</td>    <th>                     </th>     <td> </td>    \n",
       "</tr>\n",
       "</table>\n",
       "<table class=\"simpletable\">\n",
       "<tr>\n",
       "                             <td></td>                               <th>coef</th>     <th>std err</th>      <th>t</th>      <th>P>|t|</th> <th>[95.0% Conf. Int.]</th> \n",
       "</tr>\n",
       "<tr>\n",
       "  <th>Month2[T.Dec]</th>                                          <td> 1.122e+07</td> <td> 3.61e+06</td> <td>    3.104</td> <td> 0.002</td> <td> 4.13e+06  1.83e+07</td>\n",
       "</tr>\n",
       "<tr>\n",
       "  <th>Month2[T.Jun]</th>                                          <td> 9.875e+06</td> <td> 3.13e+06</td> <td>    3.151</td> <td> 0.002</td> <td> 3.73e+06   1.6e+07</td>\n",
       "</tr>\n",
       "<tr>\n",
       "  <th>Month2[T.Nov]</th>                                          <td> 1.047e+07</td> <td> 3.54e+06</td> <td>    2.961</td> <td> 0.003</td> <td> 3.53e+06  1.74e+07</td>\n",
       "</tr>\n",
       "<tr>\n",
       "  <th>Month2[T.Sept]</th>                                         <td>-2.912e+06</td> <td> 3.01e+06</td> <td>   -0.967</td> <td> 0.334</td> <td>-8.82e+06     3e+06</td>\n",
       "</tr>\n",
       "<tr>\n",
       "  <th>Studio[T.Aren]</th>                                         <td>-3.844e+04</td> <td> 2.07e+04</td> <td>   -1.857</td> <td> 0.064</td> <td> -7.9e+04  2172.868</td>\n",
       "</tr>\n",
       "<tr>\n",
       "  <th>Studio[T.BV]</th>                                           <td> 1.659e+07</td> <td>  4.4e+06</td> <td>    3.775</td> <td> 0.000</td> <td> 7.97e+06  2.52e+07</td>\n",
       "</tr>\n",
       "<tr>\n",
       "  <th>Studio[T.Fox]</th>                                          <td>-1.055e+07</td> <td> 4.13e+06</td> <td>   -2.557</td> <td> 0.011</td> <td>-1.86e+07 -2.45e+06</td>\n",
       "</tr>\n",
       "<tr>\n",
       "  <th>Studio[T.GK]</th>                                           <td> 7.711e+04</td> <td>  9.6e+06</td> <td>    0.008</td> <td> 0.994</td> <td>-1.88e+07  1.89e+07</td>\n",
       "</tr>\n",
       "<tr>\n",
       "  <th>Studio[T.GMF]</th>                                          <td>-5.944e+04</td> <td> 3.37e+04</td> <td>   -1.762</td> <td> 0.078</td> <td>-1.26e+05  6754.612</td>\n",
       "</tr>\n",
       "<tr>\n",
       "  <th>Studio[T.Gold.]</th>                                        <td>  1.08e+05</td> <td> 3.48e+05</td> <td>    0.310</td> <td> 0.756</td> <td>-5.74e+05   7.9e+05</td>\n",
       "</tr>\n",
       "<tr>\n",
       "  <th>Studio[T.JS]</th>                                           <td>-3.387e+04</td> <td> 2.14e+04</td> <td>   -1.584</td> <td> 0.114</td> <td>-7.58e+04  8087.070</td>\n",
       "</tr>\n",
       "<tr>\n",
       "  <th>Studio[T.KE]</th>                                           <td> 1.441e+05</td> <td> 5.45e+04</td> <td>    2.642</td> <td> 0.008</td> <td> 3.71e+04  2.51e+05</td>\n",
       "</tr>\n",
       "<tr>\n",
       "  <th>Studio[T.KL]</th>                                           <td>-1.051e+05</td> <td> 7.93e+04</td> <td>   -1.325</td> <td> 0.186</td> <td>-2.61e+05  5.06e+04</td>\n",
       "</tr>\n",
       "<tr>\n",
       "  <th>Studio[T.MFG]</th>                                          <td>-3.385e+04</td> <td> 2.14e+04</td> <td>   -1.582</td> <td> 0.114</td> <td>-7.58e+04  8117.347</td>\n",
       "</tr>\n",
       "<tr>\n",
       "  <th>Studio[T.P/DW]</th>                                         <td>-2.134e+07</td> <td> 5.67e+06</td> <td>   -3.760</td> <td> 0.000</td> <td>-3.25e+07 -1.02e+07</td>\n",
       "</tr>\n",
       "<tr>\n",
       "  <th>Studio[T.P4]</th>                                           <td>-1.051e+05</td> <td> 7.93e+04</td> <td>   -1.324</td> <td> 0.186</td> <td>-2.61e+05  5.06e+04</td>\n",
       "</tr>\n",
       "<tr>\n",
       "  <th>Studio[T.PH]</th>                                           <td>-6.044e+04</td> <td> 3.37e+04</td> <td>   -1.792</td> <td> 0.073</td> <td>-1.27e+05  5742.547</td>\n",
       "</tr>\n",
       "<tr>\n",
       "  <th>Studio[T.Purd.]</th>                                        <td>-7.771e+04</td> <td> 4.57e+04</td> <td>   -1.701</td> <td> 0.089</td> <td>-1.67e+05  1.19e+04</td>\n",
       "</tr>\n",
       "<tr>\n",
       "  <th>Studio[T.S/IMA]</th>                                        <td>-6.436e+04</td> <td> 3.56e+04</td> <td>   -1.807</td> <td> 0.071</td> <td>-1.34e+05  5520.504</td>\n",
       "</tr>\n",
       "<tr>\n",
       "  <th>Studio[T.SGem]</th>                                         <td> 1.648e+07</td> <td> 7.31e+06</td> <td>    2.255</td> <td> 0.024</td> <td> 2.14e+06  3.08e+07</td>\n",
       "</tr>\n",
       "<tr>\n",
       "  <th>Studio[T.TriS]</th>                                         <td> 1.808e+07</td> <td> 9.25e+06</td> <td>    1.954</td> <td> 0.051</td> <td>-7.03e+04  3.62e+07</td>\n",
       "</tr>\n",
       "<tr>\n",
       "  <th>Studio[T.Uni.]</th>                                         <td> 1.416e+07</td> <td> 3.94e+06</td> <td>    3.591</td> <td> 0.000</td> <td> 6.42e+06  2.19e+07</td>\n",
       "</tr>\n",
       "<tr>\n",
       "  <th>Genre0Brand[T.Action-Marvel Comics]</th>                    <td> 8.017e+06</td> <td> 2.02e+06</td> <td>    3.969</td> <td> 0.000</td> <td> 4.05e+06   1.2e+07</td>\n",
       "</tr>\n",
       "<tr>\n",
       "  <th>Genre0Brand[T.Adventure-Tim Burton-Johnny Depp]</th>        <td> 2.595e+05</td> <td> 8.56e+04</td> <td>    3.030</td> <td> 0.002</td> <td> 9.15e+04  4.28e+05</td>\n",
       "</tr>\n",
       "<tr>\n",
       "  <th>Genre0Brand[T.Animation-DreamWorks Animation]</th>          <td>-2.118e+07</td> <td>  5.6e+06</td> <td>   -3.781</td> <td> 0.000</td> <td>-3.22e+07 -1.02e+07</td>\n",
       "</tr>\n",
       "<tr>\n",
       "  <th>Genre0Brand[T.Animation-Illumination Entertainment]</th>    <td> 1.548e+06</td> <td> 3.22e+05</td> <td>    4.806</td> <td> 0.000</td> <td> 9.16e+05  2.18e+06</td>\n",
       "</tr>\n",
       "<tr>\n",
       "  <th>Genre0Brand[T.Animation-Marvel Comics]</th>                 <td> 5.235e+05</td> <td> 8.69e+04</td> <td>    6.022</td> <td> 0.000</td> <td> 3.53e+05  6.94e+05</td>\n",
       "</tr>\n",
       "<tr>\n",
       "  <th>Genre0Brand[T.Animation-Pixar]</th>                         <td> 1.358e+06</td> <td>  2.1e+05</td> <td>    6.483</td> <td> 0.000</td> <td> 9.47e+05  1.77e+06</td>\n",
       "</tr>\n",
       "<tr>\n",
       "  <th>Genre0Brand[T.Animation-Walt Disney Animation Studios]</th> <td> 1.134e+06</td> <td> 2.59e+05</td> <td>    4.370</td> <td> 0.000</td> <td> 6.25e+05  1.64e+06</td>\n",
       "</tr>\n",
       "<tr>\n",
       "  <th>Genre0Brand[T.Biography-Legendary Pictures]</th>            <td> 3.882e+05</td> <td> 7.46e+04</td> <td>    5.203</td> <td> 0.000</td> <td> 2.42e+05  5.35e+05</td>\n",
       "</tr>\n",
       "<tr>\n",
       "  <th>Genre0Brand[T.Comedy-Legendary Pictures]</th>               <td>-1.053e+05</td> <td> 1.52e+05</td> <td>   -0.693</td> <td> 0.488</td> <td>-4.03e+05  1.93e+05</td>\n",
       "</tr>\n",
       "<tr>\n",
       "  <th>Genre0Brand[T.Drama-Stephen King]</th>                      <td> 9.624e+05</td> <td> 4.38e+05</td> <td>    2.199</td> <td> 0.028</td> <td> 1.04e+05  1.82e+06</td>\n",
       "</tr>\n",
       "<tr>\n",
       "  <th>Genre0Brand[T.History-None]</th>                            <td>-6.436e+04</td> <td> 3.56e+04</td> <td>   -1.807</td> <td> 0.071</td> <td>-1.34e+05  5520.504</td>\n",
       "</tr>\n",
       "<tr>\n",
       "  <th>Genre0Brand[T.Music-None]</th>                              <td> 5.998e+04</td> <td> 7.58e+04</td> <td>    0.791</td> <td> 0.429</td> <td>-8.87e+04  2.09e+05</td>\n",
       "</tr>\n",
       "<tr>\n",
       "  <th>ScreensSQ</th>                                              <td>   26.0174</td> <td>    3.781</td> <td>    6.881</td> <td> 0.000</td> <td>   18.600    33.435</td>\n",
       "</tr>\n",
       "<tr>\n",
       "  <th>ScreensC</th>                                               <td>   -0.0179</td> <td>    0.002</td> <td>   -8.048</td> <td> 0.000</td> <td>   -0.022    -0.014</td>\n",
       "</tr>\n",
       "<tr>\n",
       "  <th>ScreensF</th>                                               <td> 3.624e-06</td> <td>  3.3e-07</td> <td>   10.988</td> <td> 0.000</td> <td> 2.98e-06  4.27e-06</td>\n",
       "</tr>\n",
       "<tr>\n",
       "  <th>OscDirAct</th>                                              <td> 5.493e+06</td> <td> 6.53e+05</td> <td>    8.415</td> <td> 0.000</td> <td> 4.21e+06  6.77e+06</td>\n",
       "</tr>\n",
       "<tr>\n",
       "  <th>Intercept</th>                                              <td>-2.511e+06</td> <td> 1.39e+06</td> <td>   -1.808</td> <td> 0.071</td> <td>-5.24e+06  2.13e+05</td>\n",
       "</tr>\n",
       "</table>\n",
       "<table class=\"simpletable\">\n",
       "<tr>\n",
       "  <th>Omnibus:</th>       <td>603.013</td> <th>  Durbin-Watson:     </th> <td>   1.982</td> \n",
       "</tr>\n",
       "<tr>\n",
       "  <th>Prob(Omnibus):</th> <td> 0.000</td>  <th>  Jarque-Bera (JB):  </th> <td>16810.334</td>\n",
       "</tr>\n",
       "<tr>\n",
       "  <th>Skew:</th>          <td> 1.718</td>  <th>  Prob(JB):          </th> <td>    0.00</td> \n",
       "</tr>\n",
       "<tr>\n",
       "  <th>Kurtosis:</th>      <td>20.911</td>  <th>  Cond. No.          </th> <td>9.16e+16</td> \n",
       "</tr>\n",
       "</table>"
      ],
      "text/plain": [
       "<class 'statsmodels.iolib.summary.Summary'>\n",
       "\"\"\"\n",
       "                            OLS Regression Results                            \n",
       "==============================================================================\n",
       "Dep. Variable:         BoxOfficeGross   R-squared:                       0.802\n",
       "Model:                            OLS   Adj. R-squared:                  0.802\n",
       "Method:                 Least Squares   F-statistic:                     1635.\n",
       "Date:                Thu, 16 Jul 2015   Prob (F-statistic):               0.00\n",
       "Time:                        23:28:08   Log-Likelihood:                -22609.\n",
       "No. Observations:                1213   AIC:                         4.523e+04\n",
       "Df Residuals:                    1209   BIC:                         4.525e+04\n",
       "Df Model:                           3                                         \n",
       "Covariance Type:            nonrobust                                         \n",
       "==========================================================================================================================\n",
       "                                                             coef    std err          t      P>|t|      [95.0% Conf. Int.]\n",
       "--------------------------------------------------------------------------------------------------------------------------\n",
       "Month2[T.Dec]                                           1.122e+07   3.61e+06      3.104      0.002      4.13e+06  1.83e+07\n",
       "Month2[T.Jun]                                           9.875e+06   3.13e+06      3.151      0.002      3.73e+06   1.6e+07\n",
       "Month2[T.Nov]                                           1.047e+07   3.54e+06      2.961      0.003      3.53e+06  1.74e+07\n",
       "Month2[T.Sept]                                         -2.912e+06   3.01e+06     -0.967      0.334     -8.82e+06     3e+06\n",
       "Studio[T.Aren]                                         -3.844e+04   2.07e+04     -1.857      0.064      -7.9e+04  2172.868\n",
       "Studio[T.BV]                                            1.659e+07    4.4e+06      3.775      0.000      7.97e+06  2.52e+07\n",
       "Studio[T.Fox]                                          -1.055e+07   4.13e+06     -2.557      0.011     -1.86e+07 -2.45e+06\n",
       "Studio[T.GK]                                            7.711e+04    9.6e+06      0.008      0.994     -1.88e+07  1.89e+07\n",
       "Studio[T.GMF]                                          -5.944e+04   3.37e+04     -1.762      0.078     -1.26e+05  6754.612\n",
       "Studio[T.Gold.]                                          1.08e+05   3.48e+05      0.310      0.756     -5.74e+05   7.9e+05\n",
       "Studio[T.JS]                                           -3.387e+04   2.14e+04     -1.584      0.114     -7.58e+04  8087.070\n",
       "Studio[T.KE]                                            1.441e+05   5.45e+04      2.642      0.008      3.71e+04  2.51e+05\n",
       "Studio[T.KL]                                           -1.051e+05   7.93e+04     -1.325      0.186     -2.61e+05  5.06e+04\n",
       "Studio[T.MFG]                                          -3.385e+04   2.14e+04     -1.582      0.114     -7.58e+04  8117.347\n",
       "Studio[T.P/DW]                                         -2.134e+07   5.67e+06     -3.760      0.000     -3.25e+07 -1.02e+07\n",
       "Studio[T.P4]                                           -1.051e+05   7.93e+04     -1.324      0.186     -2.61e+05  5.06e+04\n",
       "Studio[T.PH]                                           -6.044e+04   3.37e+04     -1.792      0.073     -1.27e+05  5742.547\n",
       "Studio[T.Purd.]                                        -7.771e+04   4.57e+04     -1.701      0.089     -1.67e+05  1.19e+04\n",
       "Studio[T.S/IMA]                                        -6.436e+04   3.56e+04     -1.807      0.071     -1.34e+05  5520.504\n",
       "Studio[T.SGem]                                          1.648e+07   7.31e+06      2.255      0.024      2.14e+06  3.08e+07\n",
       "Studio[T.TriS]                                          1.808e+07   9.25e+06      1.954      0.051     -7.03e+04  3.62e+07\n",
       "Studio[T.Uni.]                                          1.416e+07   3.94e+06      3.591      0.000      6.42e+06  2.19e+07\n",
       "Genre0Brand[T.Action-Marvel Comics]                     8.017e+06   2.02e+06      3.969      0.000      4.05e+06   1.2e+07\n",
       "Genre0Brand[T.Adventure-Tim Burton-Johnny Depp]         2.595e+05   8.56e+04      3.030      0.002      9.15e+04  4.28e+05\n",
       "Genre0Brand[T.Animation-DreamWorks Animation]          -2.118e+07    5.6e+06     -3.781      0.000     -3.22e+07 -1.02e+07\n",
       "Genre0Brand[T.Animation-Illumination Entertainment]     1.548e+06   3.22e+05      4.806      0.000      9.16e+05  2.18e+06\n",
       "Genre0Brand[T.Animation-Marvel Comics]                  5.235e+05   8.69e+04      6.022      0.000      3.53e+05  6.94e+05\n",
       "Genre0Brand[T.Animation-Pixar]                          1.358e+06    2.1e+05      6.483      0.000      9.47e+05  1.77e+06\n",
       "Genre0Brand[T.Animation-Walt Disney Animation Studios]  1.134e+06   2.59e+05      4.370      0.000      6.25e+05  1.64e+06\n",
       "Genre0Brand[T.Biography-Legendary Pictures]             3.882e+05   7.46e+04      5.203      0.000      2.42e+05  5.35e+05\n",
       "Genre0Brand[T.Comedy-Legendary Pictures]               -1.053e+05   1.52e+05     -0.693      0.488     -4.03e+05  1.93e+05\n",
       "Genre0Brand[T.Drama-Stephen King]                       9.624e+05   4.38e+05      2.199      0.028      1.04e+05  1.82e+06\n",
       "Genre0Brand[T.History-None]                            -6.436e+04   3.56e+04     -1.807      0.071     -1.34e+05  5520.504\n",
       "Genre0Brand[T.Music-None]                               5.998e+04   7.58e+04      0.791      0.429     -8.87e+04  2.09e+05\n",
       "ScreensSQ                                                 26.0174      3.781      6.881      0.000        18.600    33.435\n",
       "ScreensC                                                  -0.0179      0.002     -8.048      0.000        -0.022    -0.014\n",
       "ScreensF                                                3.624e-06    3.3e-07     10.988      0.000      2.98e-06  4.27e-06\n",
       "OscDirAct                                               5.493e+06   6.53e+05      8.415      0.000      4.21e+06  6.77e+06\n",
       "Intercept                                              -2.511e+06   1.39e+06     -1.808      0.071     -5.24e+06  2.13e+05\n",
       "==============================================================================\n",
       "Omnibus:                      603.013   Durbin-Watson:                   1.982\n",
       "Prob(Omnibus):                  0.000   Jarque-Bera (JB):            16810.334\n",
       "Skew:                           1.718   Prob(JB):                         0.00\n",
       "Kurtosis:                      20.911   Cond. No.                     9.16e+16\n",
       "==============================================================================\n",
       "\n",
       "Warnings:\n",
       "[1] Standard Errors assume that the covariance matrix of the errors is correctly specified.\n",
       "[2] The condition number is large, 9.16e+16. This might indicate that there are\n",
       "strong multicollinearity or other numerical problems.\n",
       "\"\"\""
      ]
     },
     "execution_count": 2856,
     "metadata": {},
     "output_type": "execute_result"
    }
   ],
   "source": [
    "model2 = sm.OLS(y1, X2)\n",
    "results = model2.fit()\n",
    "results.summary()"
   ]
  },
  {
   "cell_type": "code",
   "execution_count": 2857,
   "metadata": {
    "collapsed": false,
    "scrolled": true
   },
   "outputs": [
    {
     "data": {
      "image/png": "[encoded data removed]",
      "text/plain": [
       "<matplotlib.figure.Figure at 0x14c3f68d0>"
      ]
     },
     "metadata": {},
     "output_type": "display_data"
    }
   ],
   "source": [
    "resid = results.resid\n",
    "stats.probplot(resid, dist=\"norm\", plot=pylab)\n",
    "pylab.show()"
   ]
  },
  {
   "cell_type": "code",
   "execution_count": 2858,
   "metadata": {
    "collapsed": false,
    "scrolled": true
   },
   "outputs": [
    {
     "name": "stdout",
     "output_type": "stream",
     "text": [
      "Jurassic World                     2.729195e+08\n",
      "Marvel's The Avengers              2.582155e+08\n",
      "Skyfall                            1.702742e+08\n",
      "Alice in Wonderland (2010)         1.673522e+08\n",
      "American Sniper                    1.566686e+08\n",
      "The Hunger Games                   1.550835e+08\n",
      "The Hunger Games: Catching Fire    1.417919e+08\n",
      "Despicable Me 2                    1.395482e+08\n",
      "Transformers: Dark of the Moon     1.372805e+08\n",
      "Furious 7                          1.297264e+08\n",
      "Ted                                1.273564e+08\n",
      "Inception                          1.260589e+08\n",
      "The Hangover Part II               1.169419e+08\n",
      "Bridesmaids                        1.158064e+08\n",
      "Gravity                            1.124265e+08\n",
      "Despicable Me                      1.110630e+08\n",
      "Avengers: Age of Ultron            1.020111e+08\n",
      "22 Jump Street                     9.975731e+07\n",
      "Lincoln                            9.810866e+07\n",
      "The Heat                           9.354863e+07\n",
      "dtype: float64\n"
     ]
    }
   ],
   "source": [
    "resid.sort(ascending = False)\n",
    "print resid[:20]"
   ]
  },
  {
   "cell_type": "code",
   "execution_count": 2859,
   "metadata": {
    "collapsed": false
   },
   "outputs": [
    {
     "name": "stdout",
     "output_type": "stream",
     "text": [
      "0.763036808274\n",
      "0.0414367327095\n"
     ]
    }
   ],
   "source": [
    "X_digits = np.array(X2)\n",
    "Y_digits = np.array(y1)\n",
    "\n",
    "n_samples = X2.shape[0]\n",
    "\n",
    "cv = cross_validation.ShuffleSplit(n_samples, n_iter=100, test_size=0.3, random_state=3)\n",
    "regr = linear_model.LinearRegression()\n",
    "\n",
    "scores = cross_validation.cross_val_score(regr, X_digits, Y_digits, scoring='r2', cv=cv)\n",
    "#print scores\n",
    "print scores.mean()\n",
    "print scores.std()"
   ]
  },
  {
   "cell_type": "markdown",
   "metadata": {},
   "source": [
    "#####Iteration 3"
   ]
  },
  {
   "cell_type": "code",
   "execution_count": 2860,
   "metadata": {
    "collapsed": true
   },
   "outputs": [],
   "source": [
    "pvalues = results.pvalues\n",
    "columns = pvalues.index[pvalues < 0.05]\n",
    "X3 = X2.loc[:,columns]\n",
    "X3['Intercept'] = 1"
   ]
  },
  {
   "cell_type": "code",
   "execution_count": 2861,
   "metadata": {
    "collapsed": false
   },
   "outputs": [
    {
     "name": "stdout",
     "output_type": "stream",
     "text": [
      "(1213, 23) (1213, 1)\n"
     ]
    }
   ],
   "source": [
    "print X3.shape, y1.shape"
   ]
  },
  {
   "cell_type": "code",
   "execution_count": 2862,
   "metadata": {
    "collapsed": false,
    "scrolled": true
   },
   "outputs": [
    {
     "data": {
      "text/html": [
       "<table class=\"simpletable\">\n",
       "<caption>OLS Regression Results</caption>\n",
       "<tr>\n",
       "  <th>Dep. Variable:</th>     <td>BoxOfficeGross</td>  <th>  R-squared:         </th> <td>   0.802</td> \n",
       "</tr>\n",
       "<tr>\n",
       "  <th>Model:</th>                   <td>OLS</td>       <th>  Adj. R-squared:    </th> <td>   0.801</td> \n",
       "</tr>\n",
       "<tr>\n",
       "  <th>Method:</th>             <td>Least Squares</td>  <th>  F-statistic:       </th> <td>   1220.</td> \n",
       "</tr>\n",
       "<tr>\n",
       "  <th>Date:</th>             <td>Thu, 16 Jul 2015</td> <th>  Prob (F-statistic):</th>  <td>  0.00</td>  \n",
       "</tr>\n",
       "<tr>\n",
       "  <th>Time:</th>                 <td>23:28:09</td>     <th>  Log-Likelihood:    </th> <td> -22611.</td> \n",
       "</tr>\n",
       "<tr>\n",
       "  <th>No. Observations:</th>      <td>  1213</td>      <th>  AIC:               </th> <td>4.523e+04</td>\n",
       "</tr>\n",
       "<tr>\n",
       "  <th>Df Residuals:</th>          <td>  1208</td>      <th>  BIC:               </th> <td>4.526e+04</td>\n",
       "</tr>\n",
       "<tr>\n",
       "  <th>Df Model:</th>              <td>     4</td>      <th>                     </th>     <td> </td>    \n",
       "</tr>\n",
       "<tr>\n",
       "  <th>Covariance Type:</th>      <td>nonrobust</td>    <th>                     </th>     <td> </td>    \n",
       "</tr>\n",
       "</table>\n",
       "<table class=\"simpletable\">\n",
       "<tr>\n",
       "                             <td></td>                               <th>coef</th>     <th>std err</th>      <th>t</th>      <th>P>|t|</th> <th>[95.0% Conf. Int.]</th> \n",
       "</tr>\n",
       "<tr>\n",
       "  <th>Month2[T.Dec]</th>                                          <td> 1.138e+07</td> <td>  3.6e+06</td> <td>    3.158</td> <td> 0.002</td> <td> 4.31e+06  1.85e+07</td>\n",
       "</tr>\n",
       "<tr>\n",
       "  <th>Month2[T.Jun]</th>                                          <td> 1.001e+07</td> <td> 3.12e+06</td> <td>    3.208</td> <td> 0.001</td> <td> 3.89e+06  1.61e+07</td>\n",
       "</tr>\n",
       "<tr>\n",
       "  <th>Month2[T.Nov]</th>                                          <td> 1.058e+07</td> <td> 3.52e+06</td> <td>    3.001</td> <td> 0.003</td> <td> 3.66e+06  1.75e+07</td>\n",
       "</tr>\n",
       "<tr>\n",
       "  <th>Studio[T.BV]</th>                                           <td> 1.633e+07</td> <td>  4.4e+06</td> <td>    3.710</td> <td> 0.000</td> <td> 7.69e+06   2.5e+07</td>\n",
       "</tr>\n",
       "<tr>\n",
       "  <th>Studio[T.Fox]</th>                                          <td>-1.088e+07</td> <td> 4.13e+06</td> <td>   -2.636</td> <td> 0.008</td> <td> -1.9e+07 -2.78e+06</td>\n",
       "</tr>\n",
       "<tr>\n",
       "  <th>Studio[T.KE]</th>                                           <td> 1.252e+05</td> <td> 4.38e+04</td> <td>    2.856</td> <td> 0.004</td> <td> 3.92e+04  2.11e+05</td>\n",
       "</tr>\n",
       "<tr>\n",
       "  <th>Studio[T.P/DW]</th>                                         <td>-2.124e+07</td> <td> 5.69e+06</td> <td>   -3.735</td> <td> 0.000</td> <td>-3.24e+07 -1.01e+07</td>\n",
       "</tr>\n",
       "<tr>\n",
       "  <th>Studio[T.SGem]</th>                                         <td> 1.565e+07</td> <td> 7.31e+06</td> <td>    2.142</td> <td> 0.032</td> <td> 1.31e+06     3e+07</td>\n",
       "</tr>\n",
       "<tr>\n",
       "  <th>Studio[T.Uni.]</th>                                         <td> 1.384e+07</td> <td> 3.94e+06</td> <td>    3.512</td> <td> 0.000</td> <td> 6.11e+06  2.16e+07</td>\n",
       "</tr>\n",
       "<tr>\n",
       "  <th>Genre0Brand[T.Action-Marvel Comics]</th>                    <td> 7.705e+06</td> <td> 2.02e+06</td> <td>    3.817</td> <td> 0.000</td> <td> 3.74e+06  1.17e+07</td>\n",
       "</tr>\n",
       "<tr>\n",
       "  <th>Genre0Brand[T.Adventure-Tim Burton-Johnny Depp]</th>        <td> 2.358e+05</td> <td> 8.42e+04</td> <td>    2.800</td> <td> 0.005</td> <td> 7.06e+04  4.01e+05</td>\n",
       "</tr>\n",
       "<tr>\n",
       "  <th>Genre0Brand[T.Animation-DreamWorks Animation]</th>          <td>-2.133e+07</td> <td> 5.61e+06</td> <td>   -3.803</td> <td> 0.000</td> <td>-3.23e+07 -1.03e+07</td>\n",
       "</tr>\n",
       "<tr>\n",
       "  <th>Genre0Brand[T.Animation-Illumination Entertainment]</th>    <td> 1.365e+06</td> <td> 3.06e+05</td> <td>    4.455</td> <td> 0.000</td> <td> 7.64e+05  1.97e+06</td>\n",
       "</tr>\n",
       "<tr>\n",
       "  <th>Genre0Brand[T.Animation-Marvel Comics]</th>                 <td> 5.005e+05</td> <td> 8.55e+04</td> <td>    5.856</td> <td> 0.000</td> <td> 3.33e+05  6.68e+05</td>\n",
       "</tr>\n",
       "<tr>\n",
       "  <th>Genre0Brand[T.Animation-Pixar]</th>                         <td> 1.331e+06</td> <td> 2.08e+05</td> <td>    6.399</td> <td> 0.000</td> <td> 9.23e+05  1.74e+06</td>\n",
       "</tr>\n",
       "<tr>\n",
       "  <th>Genre0Brand[T.Animation-Walt Disney Animation Studios]</th> <td> 1.114e+06</td> <td> 2.59e+05</td> <td>    4.306</td> <td> 0.000</td> <td> 6.07e+05  1.62e+06</td>\n",
       "</tr>\n",
       "<tr>\n",
       "  <th>Genre0Brand[T.Biography-Legendary Pictures]</th>            <td> 3.699e+05</td> <td> 7.25e+04</td> <td>    5.100</td> <td> 0.000</td> <td> 2.28e+05  5.12e+05</td>\n",
       "</tr>\n",
       "<tr>\n",
       "  <th>Genre0Brand[T.Drama-Stephen King]</th>                      <td> 8.882e+05</td> <td> 4.34e+05</td> <td>    2.047</td> <td> 0.041</td> <td>  3.7e+04  1.74e+06</td>\n",
       "</tr>\n",
       "<tr>\n",
       "  <th>ScreensSQ</th>                                              <td>   26.7799</td> <td>    3.768</td> <td>    7.106</td> <td> 0.000</td> <td>   19.387    34.173</td>\n",
       "</tr>\n",
       "<tr>\n",
       "  <th>ScreensC</th>                                               <td>   -0.0183</td> <td>    0.002</td> <td>   -8.235</td> <td> 0.000</td> <td>   -0.023    -0.014</td>\n",
       "</tr>\n",
       "<tr>\n",
       "  <th>ScreensF</th>                                               <td>  3.68e-06</td> <td> 3.29e-07</td> <td>   11.172</td> <td> 0.000</td> <td> 3.03e-06  4.33e-06</td>\n",
       "</tr>\n",
       "<tr>\n",
       "  <th>OscDirAct</th>                                              <td> 5.441e+06</td> <td> 6.53e+05</td> <td>    8.330</td> <td> 0.000</td> <td> 4.16e+06  6.72e+06</td>\n",
       "</tr>\n",
       "<tr>\n",
       "  <th>Intercept</th>                                              <td> -2.86e+06</td> <td> 1.32e+06</td> <td>   -2.163</td> <td> 0.031</td> <td>-5.45e+06 -2.65e+05</td>\n",
       "</tr>\n",
       "</table>\n",
       "<table class=\"simpletable\">\n",
       "<tr>\n",
       "  <th>Omnibus:</th>       <td>576.582</td> <th>  Durbin-Watson:     </th> <td>   1.971</td> \n",
       "</tr>\n",
       "<tr>\n",
       "  <th>Prob(Omnibus):</th> <td> 0.000</td>  <th>  Jarque-Bera (JB):  </th> <td>15966.540</td>\n",
       "</tr>\n",
       "<tr>\n",
       "  <th>Skew:</th>          <td> 1.611</td>  <th>  Prob(JB):          </th> <td>    0.00</td> \n",
       "</tr>\n",
       "<tr>\n",
       "  <th>Kurtosis:</th>      <td>20.479</td>  <th>  Cond. No.          </th> <td>3.14e+15</td> \n",
       "</tr>\n",
       "</table>"
      ],
      "text/plain": [
       "<class 'statsmodels.iolib.summary.Summary'>\n",
       "\"\"\"\n",
       "                            OLS Regression Results                            \n",
       "==============================================================================\n",
       "Dep. Variable:         BoxOfficeGross   R-squared:                       0.802\n",
       "Model:                            OLS   Adj. R-squared:                  0.801\n",
       "Method:                 Least Squares   F-statistic:                     1220.\n",
       "Date:                Thu, 16 Jul 2015   Prob (F-statistic):               0.00\n",
       "Time:                        23:28:09   Log-Likelihood:                -22611.\n",
       "No. Observations:                1213   AIC:                         4.523e+04\n",
       "Df Residuals:                    1208   BIC:                         4.526e+04\n",
       "Df Model:                           4                                         \n",
       "Covariance Type:            nonrobust                                         \n",
       "==========================================================================================================================\n",
       "                                                             coef    std err          t      P>|t|      [95.0% Conf. Int.]\n",
       "--------------------------------------------------------------------------------------------------------------------------\n",
       "Month2[T.Dec]                                           1.138e+07    3.6e+06      3.158      0.002      4.31e+06  1.85e+07\n",
       "Month2[T.Jun]                                           1.001e+07   3.12e+06      3.208      0.001      3.89e+06  1.61e+07\n",
       "Month2[T.Nov]                                           1.058e+07   3.52e+06      3.001      0.003      3.66e+06  1.75e+07\n",
       "Studio[T.BV]                                            1.633e+07    4.4e+06      3.710      0.000      7.69e+06   2.5e+07\n",
       "Studio[T.Fox]                                          -1.088e+07   4.13e+06     -2.636      0.008      -1.9e+07 -2.78e+06\n",
       "Studio[T.KE]                                            1.252e+05   4.38e+04      2.856      0.004      3.92e+04  2.11e+05\n",
       "Studio[T.P/DW]                                         -2.124e+07   5.69e+06     -3.735      0.000     -3.24e+07 -1.01e+07\n",
       "Studio[T.SGem]                                          1.565e+07   7.31e+06      2.142      0.032      1.31e+06     3e+07\n",
       "Studio[T.Uni.]                                          1.384e+07   3.94e+06      3.512      0.000      6.11e+06  2.16e+07\n",
       "Genre0Brand[T.Action-Marvel Comics]                     7.705e+06   2.02e+06      3.817      0.000      3.74e+06  1.17e+07\n",
       "Genre0Brand[T.Adventure-Tim Burton-Johnny Depp]         2.358e+05   8.42e+04      2.800      0.005      7.06e+04  4.01e+05\n",
       "Genre0Brand[T.Animation-DreamWorks Animation]          -2.133e+07   5.61e+06     -3.803      0.000     -3.23e+07 -1.03e+07\n",
       "Genre0Brand[T.Animation-Illumination Entertainment]     1.365e+06   3.06e+05      4.455      0.000      7.64e+05  1.97e+06\n",
       "Genre0Brand[T.Animation-Marvel Comics]                  5.005e+05   8.55e+04      5.856      0.000      3.33e+05  6.68e+05\n",
       "Genre0Brand[T.Animation-Pixar]                          1.331e+06   2.08e+05      6.399      0.000      9.23e+05  1.74e+06\n",
       "Genre0Brand[T.Animation-Walt Disney Animation Studios]  1.114e+06   2.59e+05      4.306      0.000      6.07e+05  1.62e+06\n",
       "Genre0Brand[T.Biography-Legendary Pictures]             3.699e+05   7.25e+04      5.100      0.000      2.28e+05  5.12e+05\n",
       "Genre0Brand[T.Drama-Stephen King]                       8.882e+05   4.34e+05      2.047      0.041       3.7e+04  1.74e+06\n",
       "ScreensSQ                                                 26.7799      3.768      7.106      0.000        19.387    34.173\n",
       "ScreensC                                                  -0.0183      0.002     -8.235      0.000        -0.023    -0.014\n",
       "ScreensF                                                 3.68e-06   3.29e-07     11.172      0.000      3.03e-06  4.33e-06\n",
       "OscDirAct                                               5.441e+06   6.53e+05      8.330      0.000      4.16e+06  6.72e+06\n",
       "Intercept                                               -2.86e+06   1.32e+06     -2.163      0.031     -5.45e+06 -2.65e+05\n",
       "==============================================================================\n",
       "Omnibus:                      576.582   Durbin-Watson:                   1.971\n",
       "Prob(Omnibus):                  0.000   Jarque-Bera (JB):            15966.540\n",
       "Skew:                           1.611   Prob(JB):                         0.00\n",
       "Kurtosis:                      20.479   Cond. No.                     3.14e+15\n",
       "==============================================================================\n",
       "\n",
       "Warnings:\n",
       "[1] Standard Errors assume that the covariance matrix of the errors is correctly specified.\n",
       "[2] The condition number is large, 3.14e+15. This might indicate that there are\n",
       "strong multicollinearity or other numerical problems.\n",
       "\"\"\""
      ]
     },
     "execution_count": 2862,
     "metadata": {},
     "output_type": "execute_result"
    }
   ],
   "source": [
    "model3 = sm.OLS(y1, X3)\n",
    "results = model3.fit()\n",
    "results.summary()"
   ]
  },
  {
   "cell_type": "code",
   "execution_count": 2863,
   "metadata": {
    "collapsed": false
   },
   "outputs": [
    {
     "data": {
      "image/png": "[encoded data removed]",
      "text/plain": [
       "<matplotlib.figure.Figure at 0x14e8d2250>"
      ]
     },
     "metadata": {},
     "output_type": "display_data"
    }
   ],
   "source": [
    "resid = results.resid\n",
    "stats.probplot(resid, dist=\"norm\", plot=pylab)\n",
    "pylab.show()"
   ]
  },
  {
   "cell_type": "code",
   "execution_count": 2864,
   "metadata": {
    "collapsed": false,
    "scrolled": true
   },
   "outputs": [
    {
     "name": "stdout",
     "output_type": "stream",
     "text": [
      "0.760949565946\n",
      "0.0486816380381\n"
     ]
    }
   ],
   "source": [
    "X_digits = np.array(X3)\n",
    "Y_digits = np.array(y1)\n",
    "\n",
    "n_samples = X3.shape[0]\n",
    "\n",
    "cv = cross_validation.ShuffleSplit(n_samples, n_iter=100, test_size=0.3, random_state=1)\n",
    "regr = linear_model.LinearRegression()\n",
    "\n",
    "scores = cross_validation.cross_val_score(regr, X_digits, Y_digits, cv=cv)\n",
    "#print scores\n",
    "print scores.mean()\n",
    "print scores.std()"
   ]
  },
  {
   "cell_type": "markdown",
   "metadata": {},
   "source": [
    "#####Iteration 4"
   ]
  },
  {
   "cell_type": "code",
   "execution_count": 2865,
   "metadata": {
    "collapsed": true
   },
   "outputs": [],
   "source": [
    "pvalues = results.pvalues\n",
    "columns = pvalues.index[pvalues < 0.05]\n",
    "X4 = X3.loc[:,columns]\n",
    "X4['Intercept'] = 1"
   ]
  },
  {
   "cell_type": "code",
   "execution_count": 2866,
   "metadata": {
    "collapsed": false
   },
   "outputs": [
    {
     "name": "stdout",
     "output_type": "stream",
     "text": [
      "(1213, 23) (1213, 1)\n"
     ]
    }
   ],
   "source": [
    "print X4.shape, y1.shape"
   ]
  },
  {
   "cell_type": "code",
   "execution_count": 2884,
   "metadata": {
    "collapsed": false
   },
   "outputs": [
    {
     "name": "stdout",
     "output_type": "stream",
     "text": [
      "Index([u'Month2[T.Dec]', u'Month2[T.Jun]', u'Month2[T.Nov]', u'Studio[T.BV]',\n",
      "       u'Studio[T.Fox]', u'Studio[T.KE]', u'Studio[T.P/DW]', u'Studio[T.SGem]',\n",
      "       u'Studio[T.Uni.]', u'Genre0Brand[T.Action-Marvel Comics]',\n",
      "       u'Genre0Brand[T.Adventure-Tim Burton-Johnny Depp]',\n",
      "       u'Genre0Brand[T.Animation-DreamWorks Animation]',\n",
      "       u'Genre0Brand[T.Animation-Illumination Entertainment]',\n",
      "       u'Genre0Brand[T.Animation-Marvel Comics]',\n",
      "       u'Genre0Brand[T.Animation-Pixar]',\n",
      "       u'Genre0Brand[T.Animation-Walt Disney Animation Studios]',\n",
      "       u'Genre0Brand[T.Biography-Legendary Pictures]',\n",
      "       u'Genre0Brand[T.Drama-Stephen King]', u'ScreensSQ', u'ScreensC',\n",
      "       u'ScreensF', u'OscDirAct', u'Intercept'],\n",
      "      dtype='object')\n"
     ]
    }
   ],
   "source": [
    "print X4.columns"
   ]
  },
  {
   "cell_type": "code",
   "execution_count": 2868,
   "metadata": {
    "collapsed": false,
    "scrolled": true
   },
   "outputs": [
    {
     "data": {
      "text/html": [
       "<table class=\"simpletable\">\n",
       "<caption>OLS Regression Results</caption>\n",
       "<tr>\n",
       "  <th>Dep. Variable:</th>     <td>BoxOfficeGross</td>  <th>  R-squared:         </th> <td>   0.802</td> \n",
       "</tr>\n",
       "<tr>\n",
       "  <th>Model:</th>                   <td>OLS</td>       <th>  Adj. R-squared:    </th> <td>   0.801</td> \n",
       "</tr>\n",
       "<tr>\n",
       "  <th>Method:</th>             <td>Least Squares</td>  <th>  F-statistic:       </th> <td>   1220.</td> \n",
       "</tr>\n",
       "<tr>\n",
       "  <th>Date:</th>             <td>Thu, 16 Jul 2015</td> <th>  Prob (F-statistic):</th>  <td>  0.00</td>  \n",
       "</tr>\n",
       "<tr>\n",
       "  <th>Time:</th>                 <td>23:28:09</td>     <th>  Log-Likelihood:    </th> <td> -22611.</td> \n",
       "</tr>\n",
       "<tr>\n",
       "  <th>No. Observations:</th>      <td>  1213</td>      <th>  AIC:               </th> <td>4.523e+04</td>\n",
       "</tr>\n",
       "<tr>\n",
       "  <th>Df Residuals:</th>          <td>  1208</td>      <th>  BIC:               </th> <td>4.526e+04</td>\n",
       "</tr>\n",
       "<tr>\n",
       "  <th>Df Model:</th>              <td>     4</td>      <th>                     </th>     <td> </td>    \n",
       "</tr>\n",
       "<tr>\n",
       "  <th>Covariance Type:</th>      <td>nonrobust</td>    <th>                     </th>     <td> </td>    \n",
       "</tr>\n",
       "</table>\n",
       "<table class=\"simpletable\">\n",
       "<tr>\n",
       "                             <td></td>                               <th>coef</th>     <th>std err</th>      <th>t</th>      <th>P>|t|</th> <th>[95.0% Conf. Int.]</th> \n",
       "</tr>\n",
       "<tr>\n",
       "  <th>Month2[T.Dec]</th>                                          <td> 1.138e+07</td> <td>  3.6e+06</td> <td>    3.158</td> <td> 0.002</td> <td> 4.31e+06  1.85e+07</td>\n",
       "</tr>\n",
       "<tr>\n",
       "  <th>Month2[T.Jun]</th>                                          <td> 1.001e+07</td> <td> 3.12e+06</td> <td>    3.208</td> <td> 0.001</td> <td> 3.89e+06  1.61e+07</td>\n",
       "</tr>\n",
       "<tr>\n",
       "  <th>Month2[T.Nov]</th>                                          <td> 1.058e+07</td> <td> 3.52e+06</td> <td>    3.001</td> <td> 0.003</td> <td> 3.66e+06  1.75e+07</td>\n",
       "</tr>\n",
       "<tr>\n",
       "  <th>Studio[T.BV]</th>                                           <td> 1.633e+07</td> <td>  4.4e+06</td> <td>    3.710</td> <td> 0.000</td> <td> 7.69e+06   2.5e+07</td>\n",
       "</tr>\n",
       "<tr>\n",
       "  <th>Studio[T.Fox]</th>                                          <td>-1.088e+07</td> <td> 4.13e+06</td> <td>   -2.636</td> <td> 0.008</td> <td> -1.9e+07 -2.78e+06</td>\n",
       "</tr>\n",
       "<tr>\n",
       "  <th>Studio[T.KE]</th>                                           <td> 1.252e+05</td> <td> 4.38e+04</td> <td>    2.856</td> <td> 0.004</td> <td> 3.92e+04  2.11e+05</td>\n",
       "</tr>\n",
       "<tr>\n",
       "  <th>Studio[T.P/DW]</th>                                         <td>-2.124e+07</td> <td> 5.69e+06</td> <td>   -3.735</td> <td> 0.000</td> <td>-3.24e+07 -1.01e+07</td>\n",
       "</tr>\n",
       "<tr>\n",
       "  <th>Studio[T.SGem]</th>                                         <td> 1.565e+07</td> <td> 7.31e+06</td> <td>    2.142</td> <td> 0.032</td> <td> 1.31e+06     3e+07</td>\n",
       "</tr>\n",
       "<tr>\n",
       "  <th>Studio[T.Uni.]</th>                                         <td> 1.384e+07</td> <td> 3.94e+06</td> <td>    3.512</td> <td> 0.000</td> <td> 6.11e+06  2.16e+07</td>\n",
       "</tr>\n",
       "<tr>\n",
       "  <th>Genre0Brand[T.Action-Marvel Comics]</th>                    <td> 7.705e+06</td> <td> 2.02e+06</td> <td>    3.817</td> <td> 0.000</td> <td> 3.74e+06  1.17e+07</td>\n",
       "</tr>\n",
       "<tr>\n",
       "  <th>Genre0Brand[T.Adventure-Tim Burton-Johnny Depp]</th>        <td> 2.358e+05</td> <td> 8.42e+04</td> <td>    2.800</td> <td> 0.005</td> <td> 7.06e+04  4.01e+05</td>\n",
       "</tr>\n",
       "<tr>\n",
       "  <th>Genre0Brand[T.Animation-DreamWorks Animation]</th>          <td>-2.133e+07</td> <td> 5.61e+06</td> <td>   -3.803</td> <td> 0.000</td> <td>-3.23e+07 -1.03e+07</td>\n",
       "</tr>\n",
       "<tr>\n",
       "  <th>Genre0Brand[T.Animation-Illumination Entertainment]</th>    <td> 1.365e+06</td> <td> 3.06e+05</td> <td>    4.455</td> <td> 0.000</td> <td> 7.64e+05  1.97e+06</td>\n",
       "</tr>\n",
       "<tr>\n",
       "  <th>Genre0Brand[T.Animation-Marvel Comics]</th>                 <td> 5.005e+05</td> <td> 8.55e+04</td> <td>    5.856</td> <td> 0.000</td> <td> 3.33e+05  6.68e+05</td>\n",
       "</tr>\n",
       "<tr>\n",
       "  <th>Genre0Brand[T.Animation-Pixar]</th>                         <td> 1.331e+06</td> <td> 2.08e+05</td> <td>    6.399</td> <td> 0.000</td> <td> 9.23e+05  1.74e+06</td>\n",
       "</tr>\n",
       "<tr>\n",
       "  <th>Genre0Brand[T.Animation-Walt Disney Animation Studios]</th> <td> 1.114e+06</td> <td> 2.59e+05</td> <td>    4.306</td> <td> 0.000</td> <td> 6.07e+05  1.62e+06</td>\n",
       "</tr>\n",
       "<tr>\n",
       "  <th>Genre0Brand[T.Biography-Legendary Pictures]</th>            <td> 3.699e+05</td> <td> 7.25e+04</td> <td>    5.100</td> <td> 0.000</td> <td> 2.28e+05  5.12e+05</td>\n",
       "</tr>\n",
       "<tr>\n",
       "  <th>Genre0Brand[T.Drama-Stephen King]</th>                      <td> 8.882e+05</td> <td> 4.34e+05</td> <td>    2.047</td> <td> 0.041</td> <td>  3.7e+04  1.74e+06</td>\n",
       "</tr>\n",
       "<tr>\n",
       "  <th>ScreensSQ</th>                                              <td>   26.7799</td> <td>    3.768</td> <td>    7.106</td> <td> 0.000</td> <td>   19.387    34.173</td>\n",
       "</tr>\n",
       "<tr>\n",
       "  <th>ScreensC</th>                                               <td>   -0.0183</td> <td>    0.002</td> <td>   -8.235</td> <td> 0.000</td> <td>   -0.023    -0.014</td>\n",
       "</tr>\n",
       "<tr>\n",
       "  <th>ScreensF</th>                                               <td>  3.68e-06</td> <td> 3.29e-07</td> <td>   11.172</td> <td> 0.000</td> <td> 3.03e-06  4.33e-06</td>\n",
       "</tr>\n",
       "<tr>\n",
       "  <th>OscDirAct</th>                                              <td> 5.441e+06</td> <td> 6.53e+05</td> <td>    8.330</td> <td> 0.000</td> <td> 4.16e+06  6.72e+06</td>\n",
       "</tr>\n",
       "<tr>\n",
       "  <th>Intercept</th>                                              <td> -2.86e+06</td> <td> 1.32e+06</td> <td>   -2.163</td> <td> 0.031</td> <td>-5.45e+06 -2.65e+05</td>\n",
       "</tr>\n",
       "</table>\n",
       "<table class=\"simpletable\">\n",
       "<tr>\n",
       "  <th>Omnibus:</th>       <td>576.582</td> <th>  Durbin-Watson:     </th> <td>   1.971</td> \n",
       "</tr>\n",
       "<tr>\n",
       "  <th>Prob(Omnibus):</th> <td> 0.000</td>  <th>  Jarque-Bera (JB):  </th> <td>15966.540</td>\n",
       "</tr>\n",
       "<tr>\n",
       "  <th>Skew:</th>          <td> 1.611</td>  <th>  Prob(JB):          </th> <td>    0.00</td> \n",
       "</tr>\n",
       "<tr>\n",
       "  <th>Kurtosis:</th>      <td>20.479</td>  <th>  Cond. No.          </th> <td>3.14e+15</td> \n",
       "</tr>\n",
       "</table>"
      ],
      "text/plain": [
       "<class 'statsmodels.iolib.summary.Summary'>\n",
       "\"\"\"\n",
       "                            OLS Regression Results                            \n",
       "==============================================================================\n",
       "Dep. Variable:         BoxOfficeGross   R-squared:                       0.802\n",
       "Model:                            OLS   Adj. R-squared:                  0.801\n",
       "Method:                 Least Squares   F-statistic:                     1220.\n",
       "Date:                Thu, 16 Jul 2015   Prob (F-statistic):               0.00\n",
       "Time:                        23:28:09   Log-Likelihood:                -22611.\n",
       "No. Observations:                1213   AIC:                         4.523e+04\n",
       "Df Residuals:                    1208   BIC:                         4.526e+04\n",
       "Df Model:                           4                                         \n",
       "Covariance Type:            nonrobust                                         \n",
       "==========================================================================================================================\n",
       "                                                             coef    std err          t      P>|t|      [95.0% Conf. Int.]\n",
       "--------------------------------------------------------------------------------------------------------------------------\n",
       "Month2[T.Dec]                                           1.138e+07    3.6e+06      3.158      0.002      4.31e+06  1.85e+07\n",
       "Month2[T.Jun]                                           1.001e+07   3.12e+06      3.208      0.001      3.89e+06  1.61e+07\n",
       "Month2[T.Nov]                                           1.058e+07   3.52e+06      3.001      0.003      3.66e+06  1.75e+07\n",
       "Studio[T.BV]                                            1.633e+07    4.4e+06      3.710      0.000      7.69e+06   2.5e+07\n",
       "Studio[T.Fox]                                          -1.088e+07   4.13e+06     -2.636      0.008      -1.9e+07 -2.78e+06\n",
       "Studio[T.KE]                                            1.252e+05   4.38e+04      2.856      0.004      3.92e+04  2.11e+05\n",
       "Studio[T.P/DW]                                         -2.124e+07   5.69e+06     -3.735      0.000     -3.24e+07 -1.01e+07\n",
       "Studio[T.SGem]                                          1.565e+07   7.31e+06      2.142      0.032      1.31e+06     3e+07\n",
       "Studio[T.Uni.]                                          1.384e+07   3.94e+06      3.512      0.000      6.11e+06  2.16e+07\n",
       "Genre0Brand[T.Action-Marvel Comics]                     7.705e+06   2.02e+06      3.817      0.000      3.74e+06  1.17e+07\n",
       "Genre0Brand[T.Adventure-Tim Burton-Johnny Depp]         2.358e+05   8.42e+04      2.800      0.005      7.06e+04  4.01e+05\n",
       "Genre0Brand[T.Animation-DreamWorks Animation]          -2.133e+07   5.61e+06     -3.803      0.000     -3.23e+07 -1.03e+07\n",
       "Genre0Brand[T.Animation-Illumination Entertainment]     1.365e+06   3.06e+05      4.455      0.000      7.64e+05  1.97e+06\n",
       "Genre0Brand[T.Animation-Marvel Comics]                  5.005e+05   8.55e+04      5.856      0.000      3.33e+05  6.68e+05\n",
       "Genre0Brand[T.Animation-Pixar]                          1.331e+06   2.08e+05      6.399      0.000      9.23e+05  1.74e+06\n",
       "Genre0Brand[T.Animation-Walt Disney Animation Studios]  1.114e+06   2.59e+05      4.306      0.000      6.07e+05  1.62e+06\n",
       "Genre0Brand[T.Biography-Legendary Pictures]             3.699e+05   7.25e+04      5.100      0.000      2.28e+05  5.12e+05\n",
       "Genre0Brand[T.Drama-Stephen King]                       8.882e+05   4.34e+05      2.047      0.041       3.7e+04  1.74e+06\n",
       "ScreensSQ                                                 26.7799      3.768      7.106      0.000        19.387    34.173\n",
       "ScreensC                                                  -0.0183      0.002     -8.235      0.000        -0.023    -0.014\n",
       "ScreensF                                                 3.68e-06   3.29e-07     11.172      0.000      3.03e-06  4.33e-06\n",
       "OscDirAct                                               5.441e+06   6.53e+05      8.330      0.000      4.16e+06  6.72e+06\n",
       "Intercept                                               -2.86e+06   1.32e+06     -2.163      0.031     -5.45e+06 -2.65e+05\n",
       "==============================================================================\n",
       "Omnibus:                      576.582   Durbin-Watson:                   1.971\n",
       "Prob(Omnibus):                  0.000   Jarque-Bera (JB):            15966.540\n",
       "Skew:                           1.611   Prob(JB):                         0.00\n",
       "Kurtosis:                      20.479   Cond. No.                     3.14e+15\n",
       "==============================================================================\n",
       "\n",
       "Warnings:\n",
       "[1] Standard Errors assume that the covariance matrix of the errors is correctly specified.\n",
       "[2] The condition number is large, 3.14e+15. This might indicate that there are\n",
       "strong multicollinearity or other numerical problems.\n",
       "\"\"\""
      ]
     },
     "execution_count": 2868,
     "metadata": {},
     "output_type": "execute_result"
    }
   ],
   "source": [
    "model4 = sm.OLS(y1, X4)\n",
    "results = model4.fit()\n",
    "results.summary()"
   ]
  },
  {
   "cell_type": "code",
   "execution_count": 2869,
   "metadata": {
    "collapsed": false
   },
   "outputs": [
    {
     "name": "stdout",
     "output_type": "stream",
     "text": [
      "0.763808759971\n",
      "0.0417554604226\n"
     ]
    }
   ],
   "source": [
    "X_digits = np.array(X4)\n",
    "Y_digits = np.array(y1)\n",
    "\n",
    "n_samples = X4.shape[0]\n",
    "\n",
    "cv = cross_validation.ShuffleSplit(n_samples, n_iter=100, test_size=0.3, random_state=3)\n",
    "regr = linear_model.LinearRegression()\n",
    "\n",
    "scores = cross_validation.cross_val_score(regr, X_digits, Y_digits, cv=cv)\n",
    "#print scores\n",
    "print scores.mean()\n",
    "print scores.std()"
   ]
  },
  {
   "cell_type": "markdown",
   "metadata": {},
   "source": [
    "###Running model on test set"
   ]
  },
  {
   "cell_type": "code",
   "execution_count": 2870,
   "metadata": {
    "collapsed": true
   },
   "outputs": [],
   "source": [
    "X_testF = X_test[X3.columns]\n",
    "#X_testF = X_test[X3.columns]"
   ]
  },
  {
   "cell_type": "code",
   "execution_count": 2871,
   "metadata": {
    "collapsed": false
   },
   "outputs": [
    {
     "name": "stdout",
     "output_type": "stream",
     "text": [
      "(1213, 1) (1213, 258) (304, 1) (304, 23)\n"
     ]
    }
   ],
   "source": [
    "print y1.shape, X1.shape, y_test.shape, X_testF.shape"
   ]
  },
  {
   "cell_type": "code",
   "execution_count": 2872,
   "metadata": {
    "collapsed": false
   },
   "outputs": [],
   "source": [
    "from sklearn.linear_model import LinearRegression\n",
    "model3 = LinearRegression().fit(X3, y1)"
   ]
  },
  {
   "cell_type": "code",
   "execution_count": 2873,
   "metadata": {
    "collapsed": false
   },
   "outputs": [
    {
     "data": {
      "text/plain": [
       "0.81239012682939082"
      ]
     },
     "execution_count": 2873,
     "metadata": {},
     "output_type": "execute_result"
    }
   ],
   "source": [
    "model3.score(X_testF, y_test)"
   ]
  },
  {
   "cell_type": "code",
   "execution_count": 2874,
   "metadata": {
    "collapsed": true
   },
   "outputs": [],
   "source": [
    "model2 = LinearRegression().fit(X2, y1)"
   ]
  },
  {
   "cell_type": "code",
   "execution_count": 2875,
   "metadata": {
    "collapsed": false
   },
   "outputs": [
    {
     "data": {
      "text/plain": [
       "0.8124629654200507"
      ]
     },
     "execution_count": 2875,
     "metadata": {},
     "output_type": "execute_result"
    }
   ],
   "source": [
    "X_testF = X_test[X2.columns]\n",
    "model2.score(X_testF, y_test)"
   ]
  },
  {
   "cell_type": "code",
   "execution_count": 2876,
   "metadata": {
    "collapsed": true
   },
   "outputs": [],
   "source": [
    "model1 = LinearRegression().fit(X1, y1)"
   ]
  },
  {
   "cell_type": "code",
   "execution_count": 2877,
   "metadata": {
    "collapsed": false
   },
   "outputs": [
    {
     "data": {
      "text/plain": [
       "0.80716523883042612"
      ]
     },
     "execution_count": 2877,
     "metadata": {},
     "output_type": "execute_result"
    }
   ],
   "source": [
    "X_testF = X_test[X1.columns]\n",
    "model1.score(X_testF, y_test)"
   ]
  },
  {
   "cell_type": "code",
   "execution_count": 2878,
   "metadata": {
    "collapsed": true
   },
   "outputs": [],
   "source": [
    "model4 = LinearRegression().fit(X4, y1)"
   ]
  },
  {
   "cell_type": "code",
   "execution_count": 2879,
   "metadata": {
    "collapsed": false
   },
   "outputs": [
    {
     "data": {
      "text/plain": [
       "0.81239012682939082"
      ]
     },
     "execution_count": 2879,
     "metadata": {},
     "output_type": "execute_result"
    }
   ],
   "source": [
    "X_testF = X_test[X4.columns]\n",
    "model4.score(X_testF, y_test)"
   ]
  },
  {
   "cell_type": "code",
   "execution_count": 2880,
   "metadata": {
    "collapsed": false
   },
   "outputs": [
    {
     "data": {
      "text/plain": [
       "Movie\n",
       "Iron Man 3                               350239236\n",
       "The Hunger Games: Mockingjay - Part 1    288084957\n",
       "Transformers: Age of Extinction          284279127\n",
       "The Hobbit: The Desolation of Smaug      279011620\n",
       "X-Men: Days of Future Past               256284096\n",
       "Cars 2                                   250279449\n",
       "How to Train Your Dragon 2               242173126\n",
       "Toy Story 3                              234949467\n",
       "Captain America: The Winter Soldier      220828951\n",
       "Monsters University                      217472118\n",
       "The Wolverine                            203745603\n",
       "Dawn of the Planet of the Apes           194627757\n",
       "The Lone Ranger                          191487970\n",
       "Frozen                                   187929996\n",
       "Rango                                    180573402\n",
       "Cinderella (2015)                        172776721\n",
       "Dr. Seuss' The Lorax                     159133559\n",
       "The Croods                               148593699\n",
       "Clash of the Titans (2010)               146827871\n",
       "Prometheus                               144816234\n",
       "Name: BoxOfficeGross, dtype: int64"
      ]
     },
     "execution_count": 2880,
     "metadata": {},
     "output_type": "execute_result"
    }
   ],
   "source": [
    "predictions = pd.DataFrame(zip(model3.predict(X_testF), X_testF.index))\n",
    "predictions.columns = ['BoxOfficeGross', 'Movie']\n",
    "predictions['BoxOfficeGross'] = predictions['BoxOfficeGross'].apply(lambda x: x[0].astype(int))\n",
    "predictions.index = predictions['Movie']\n",
    "predictions = predictions.BoxOfficeGross\n",
    "predictions = predictions.sort(ascending = False, inplace=False)\n",
    "predictions[:20]"
   ]
  },
  {
   "cell_type": "code",
   "execution_count": 2881,
   "metadata": {
    "collapsed": false
   },
   "outputs": [
    {
     "data": {
      "text/plain": [
       "(array([ 144.,   37.,   33.,   32.,   18.,   10.,    6.,    3.,    4.,\n",
       "           2.,    2.,    3.,    2.,    2.,    2.,    1.,    2.,    0.,\n",
       "           0.,    1.]),\n",
       " array([ -4.67221500e+06,   1.30733576e+07,   3.08189301e+07,\n",
       "          4.85645027e+07,   6.63100752e+07,   8.40556478e+07,\n",
       "          1.01801220e+08,   1.19546793e+08,   1.37292365e+08,\n",
       "          1.55037938e+08,   1.72783510e+08,   1.90529083e+08,\n",
       "          2.08274656e+08,   2.26020228e+08,   2.43765801e+08,\n",
       "          2.61511373e+08,   2.79256946e+08,   2.97002518e+08,\n",
       "          3.14748091e+08,   3.32493663e+08,   3.50239236e+08]),\n",
       " <a list of 20 Patch objects>)"
      ]
     },
     "execution_count": 2881,
     "metadata": {},
     "output_type": "execute_result"
    },
    {
     "data": {
      "image/png": "[encoded data removed]",
      "text/plain": [
       "<matplotlib.figure.Figure at 0x14fe86810>"
      ]
     },
     "metadata": {},
     "output_type": "display_data"
    }
   ],
   "source": [
    "plt.hist(predictions, bins=20)"
   ]
  },
  {
   "cell_type": "code",
   "execution_count": 2882,
   "metadata": {
    "collapsed": false
   },
   "outputs": [
    {
     "data": {
      "text/html": [
       "<div>\n",
       "<table border=\"1\" class=\"dataframe\">\n",
       "  <thead>\n",
       "    <tr style=\"text-align: right;\">\n",
       "      <th></th>\n",
       "      <th>BoxOfficeGross</th>\n",
       "    </tr>\n",
       "  </thead>\n",
       "  <tbody>\n",
       "    <tr>\n",
       "      <th>Toy Story 3</th>\n",
       "      <td>415004880</td>\n",
       "    </tr>\n",
       "    <tr>\n",
       "      <th>Iron Man 3</th>\n",
       "      <td>409013994</td>\n",
       "    </tr>\n",
       "    <tr>\n",
       "      <th>Frozen</th>\n",
       "      <td>400738009</td>\n",
       "    </tr>\n",
       "    <tr>\n",
       "      <th>The Hunger Games: Mockingjay - Part 1</th>\n",
       "      <td>337135885</td>\n",
       "    </tr>\n",
       "    <tr>\n",
       "      <th>Monsters University</th>\n",
       "      <td>268492764</td>\n",
       "    </tr>\n",
       "    <tr>\n",
       "      <th>Captain America: The Winter Soldier</th>\n",
       "      <td>259766572</td>\n",
       "    </tr>\n",
       "    <tr>\n",
       "      <th>The Hobbit: The Desolation of Smaug</th>\n",
       "      <td>258366855</td>\n",
       "    </tr>\n",
       "    <tr>\n",
       "      <th>Transformers: Age of Extinction</th>\n",
       "      <td>245439076</td>\n",
       "    </tr>\n",
       "    <tr>\n",
       "      <th>X-Men: Days of Future Past</th>\n",
       "      <td>233921534</td>\n",
       "    </tr>\n",
       "    <tr>\n",
       "      <th>Dr. Seuss' The Lorax</th>\n",
       "      <td>214030500</td>\n",
       "    </tr>\n",
       "    <tr>\n",
       "      <th>Dawn of the Planet of the Apes</th>\n",
       "      <td>208545589</td>\n",
       "    </tr>\n",
       "    <tr>\n",
       "      <th>Cinderella (2015)</th>\n",
       "      <td>200743973</td>\n",
       "    </tr>\n",
       "    <tr>\n",
       "      <th>Cars 2</th>\n",
       "      <td>191452396</td>\n",
       "    </tr>\n",
       "    <tr>\n",
       "      <th>The Croods</th>\n",
       "      <td>187168425</td>\n",
       "    </tr>\n",
       "    <tr>\n",
       "      <th>Pitch Perfect 2</th>\n",
       "      <td>183102250</td>\n",
       "    </tr>\n",
       "    <tr>\n",
       "      <th>How to Train Your Dragon 2</th>\n",
       "      <td>177002924</td>\n",
       "    </tr>\n",
       "    <tr>\n",
       "      <th>Rise of the Planet of the Apes</th>\n",
       "      <td>176760185</td>\n",
       "    </tr>\n",
       "    <tr>\n",
       "      <th>The Help</th>\n",
       "      <td>169708112</td>\n",
       "    </tr>\n",
       "    <tr>\n",
       "      <th>Gone Girl</th>\n",
       "      <td>167767189</td>\n",
       "    </tr>\n",
       "    <tr>\n",
       "      <th>Clash of the Titans (2010)</th>\n",
       "      <td>163214888</td>\n",
       "    </tr>\n",
       "  </tbody>\n",
       "</table>\n",
       "</div>"
      ],
      "text/plain": [
       "                                       BoxOfficeGross\n",
       "Toy Story 3                                 415004880\n",
       "Iron Man 3                                  409013994\n",
       "Frozen                                      400738009\n",
       "The Hunger Games: Mockingjay - Part 1       337135885\n",
       "Monsters University                         268492764\n",
       "Captain America: The Winter Soldier         259766572\n",
       "The Hobbit: The Desolation of Smaug         258366855\n",
       "Transformers: Age of Extinction             245439076\n",
       "X-Men: Days of Future Past                  233921534\n",
       "Dr. Seuss' The Lorax                        214030500\n",
       "Dawn of the Planet of the Apes              208545589\n",
       "Cinderella (2015)                           200743973\n",
       "Cars 2                                      191452396\n",
       "The Croods                                  187168425\n",
       "Pitch Perfect 2                             183102250\n",
       "How to Train Your Dragon 2                  177002924\n",
       "Rise of the Planet of the Apes              176760185\n",
       "The Help                                    169708112\n",
       "Gone Girl                                   167767189\n",
       "Clash of the Titans (2010)                  163214888"
      ]
     },
     "execution_count": 2882,
     "metadata": {},
     "output_type": "execute_result"
    }
   ],
   "source": [
    "actuals = y_test\n",
    "actuals.sort(columns='BoxOfficeGross', axis=0, ascending=False, inplace=True)\n",
    "actuals[:20]"
   ]
  },
  {
   "cell_type": "code",
   "execution_count": null,
   "metadata": {
    "collapsed": true
   },
   "outputs": [],
   "source": []
  }
 ],
 "metadata": {
  "kernelspec": {
   "display_name": "Python 2",
   "language": "python",
   "name": "python2"
  },
  "language_info": {
   "codemirror_mode": {
    "name": "ipython",
    "version": 2
   },
   "file_extension": ".py",
   "mimetype": "text/x-python",
   "name": "python",
   "nbconvert_exporter": "python",
   "pygments_lexer": "ipython2",
   "version": "2.7.10"
  }
 },
 "nbformat": 4,
 "nbformat_minor": 0
}
